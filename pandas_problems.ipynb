{
 "cells": [
  {
   "cell_type": "code",
   "execution_count": null,
   "id": "16433f5d",
   "metadata": {},
   "outputs": [],
   "source": [
    "# https://leetcode.com/problems/find-customer-referee/\n",
    "\n",
    "import pandas as pd\n",
    "\n",
    "def find_customer_referee(customer: pd.DataFrame) -> pd.DataFrame:\n",
    "    result = customer[(customer['referee_id'] != 2) | customer['referee_id'].isnull()]\n",
    "    return result[['name']]"
   ]
  },
  {
   "cell_type": "code",
   "execution_count": null,
   "id": "5d401b68",
   "metadata": {},
   "outputs": [],
   "source": [
    "# https://leetcode.com/problems/employee-bonus/\n",
    "\n",
    "import pandas as pd\n",
    "\n",
    "def employee_bonus(employee: pd.DataFrame, bonus: pd.DataFrame) -> pd.DataFrame:\n",
    "    df = pd.merge(employee, bonus, how = \"left\", on = \"empId\")\n",
    "    \n",
    "    df = df[(df[\"bonus\"] < 1000) | df[\"bonus\"].isnull()]\n",
    "    return df[[\"name\", \"bonus\"]]"
   ]
  },
  {
   "cell_type": "code",
   "execution_count": null,
   "id": "b36a51b2",
   "metadata": {},
   "outputs": [],
   "source": [
    "# https://leetcode.com/problems/combine-two-tables/\n",
    "\n",
    "import pandas as pd\n",
    "\n",
    "\n",
    "def combine_two_tables(person: pd.DataFrame, address: pd.DataFrame) -> pd.DataFrame:\n",
    "    person_address = person.join(address.set_index('personId'), on = \"personId\")\n",
    "    return person_address[[\"firstName\", \"lastName\", \"city\", \"state\"]]"
   ]
  }
 ],
 "metadata": {
  "kernelspec": {
   "display_name": "base",
   "language": "python",
   "name": "python3"
  },
  "language_info": {
   "codemirror_mode": {
    "name": "ipython",
    "version": 3
   },
   "file_extension": ".py",
   "mimetype": "text/x-python",
   "name": "python",
   "nbconvert_exporter": "python",
   "pygments_lexer": "ipython3",
   "version": "3.12.3"
  }
 },
 "nbformat": 4,
 "nbformat_minor": 5
}
