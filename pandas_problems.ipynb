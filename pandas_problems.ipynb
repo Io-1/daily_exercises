{
 "cells": [
  {
   "cell_type": "code",
   "execution_count": null,
   "id": "ceb62bec",
   "metadata": {},
   "outputs": [],
   "source": [
    "# https://leetcode.com/problems/actors-and-directors-who-cooperated-at-least-three-times/\n",
    "\n",
    "import pandas as pd\n",
    "\n",
    "def actors_and_directors(df: pd.DataFrame) -> pd.DataFrame:\n",
    "    coop_count = (df[[\"actor_id\", \"director_id\"]].value_counts())\n",
    "    multiple_coops = coop_count[coop_count >= 3].index.to_frame()\n",
    "    return multiple_coops"
   ]
  },
  {
   "cell_type": "code",
   "execution_count": null,
   "id": "b755e8b5",
   "metadata": {},
   "outputs": [],
   "source": [
    "# https://leetcode.com/problems/swap-salary/\n",
    "\n",
    "import pandas as pd\n",
    "\n",
    "def swap_salary(salary: pd.DataFrame) -> pd.DataFrame:\n",
    "    m_mask = salary[\"sex\"] == \"m\"\n",
    "    f_mask = salary[\"sex\"] == \"f\"\n",
    "    salary.loc[m_mask, \"sex\"] = \"f\"\n",
    "    salary.loc[f_mask, \"sex\"] = \"m\"\n",
    "    return salary\n",
    "\n",
    "# more efficient solution\n",
    "\n",
    "def swap_salary(salary: pd.DataFrame) -> pd.DataFrame:\n",
    "    salary = salary.copy()\n",
    "    salary.loc[:, \"sex\"] = salary.loc[:, \"sex\"].replace(to_replace = [\"f\", \"m\"], value = [\"m\", \"f\"])\n",
    "    return salary\n",
    "\n",
    "# Most efficient solution\n",
    "\n",
    "# Possible approach\n",
    "\n",
    "def swap_salary(salary: pd.DataFrame) -> pd.DataFrame:\n",
    "\n",
    "    swap = lambda x: 'm' if x == 'f' else 'f'\n",
    "    salary[\"sex\"] = salary[\"sex\"].apply(swap)\n",
    "\n",
    "    return salary"
   ]
  },
  {
   "cell_type": "code",
   "execution_count": null,
   "id": "5a655f27",
   "metadata": {},
   "outputs": [],
   "source": [
    "# https://leetcode.com/problems/biggest-single-number/solutions/\n",
    "\n",
    "import pandas as pd\n",
    "\n",
    "def biggest_single_number(df: pd.DataFrame) -> pd.DataFrame:\n",
    "    return pd.DataFrame([df.set_index(\"num\")[df[\"num\"].value_counts() == 1].index.max()], columns = [\"num\"])\n",
    "\n",
    "def biggest_single_number(df: pd.DataFrame) -> pd.DataFrame:\n",
    "    unduped_mask = ~df.duplicated(keep = False)\n",
    "    uniques = df[unduped_mask]\n",
    "    max_unique = uniques.max()\n",
    "    return pd.DataFrame({\"num\": max_unique})\n",
    "\n",
    "def biggest_single_number(df: pd.DataFrame) -> pd.DataFrame:\n",
    "    counts = df.groupby(\"num\").size()\n",
    "    singles = counts[counts == 1].index\n",
    "    max_single = singles.max()\n",
    "    return pd.DataFrame({\"num\": [max_single]}) "
   ]
  },
  {
   "cell_type": "code",
   "execution_count": null,
   "id": "172e64e2",
   "metadata": {},
   "outputs": [],
   "source": [
    "# https://leetcode.com/problems/product-sales-analysis-i/\n",
    "\n",
    "import pandas as pd\n",
    "\n",
    "def sales_analysis(sales: pd.DataFrame, product: pd.DataFrame) -> pd.DataFrame:\n",
    "    df = pd.merge(sales, product, on = \"product_id\").loc[:, [\"product_name\", \"year\", \"price\"]]\n",
    "    return df"
   ]
  },
  {
   "cell_type": "code",
   "execution_count": null,
   "id": "3676cce8",
   "metadata": {},
   "outputs": [],
   "source": [
    "# https://leetcode.com/problems/nth-highest-salary/description/\n",
    "\n",
    "import pandas as pd\n",
    "\n",
    "def nth_highest_salary(employee: pd.DataFrame, N: int) -> pd.DataFrame:\n",
    "    # 1) get unique salaries in descending order\n",
    "    uniq = (\n",
    "        employee\n",
    "          .sort_values(\"salary\", ascending=False)\n",
    "          .drop_duplicates(subset=[\"salary\"], keep=\"first\")\n",
    "    )\n",
    "    \n",
    "    # 2) pick the Nth (1-based) or NA if out of range\n",
    "    if 1 <= N <= len(uniq):\n",
    "        val = uniq.iloc[N-1][\"salary\"]\n",
    "    else:\n",
    "        val = pd.NA\n",
    "    \n",
    "    # 3) build the result DataFrame with the desired column name\n",
    "    col_name = f\"getNthHighestSalary({N})\"\n",
    "    return pd.DataFrame({col_name: [val]})\n"
   ]
  },
  {
   "cell_type": "code",
   "execution_count": null,
   "id": "77c2bcce",
   "metadata": {},
   "outputs": [],
   "source": [
    "# https://leetcode.com/problems/rank-scores/\n",
    "\n",
    "import pandas as pd\n",
    "\n",
    "def order_scores(scores: pd.DataFrame) -> pd.DataFrame:\n",
    "    scores['rank'] = scores['score'].rank(method = 'dense', ascending = False)\n",
    "    result_df = scores[['score', 'rank']].sort_values(by = 'score', ascending = False)\n",
    "    return result_df"
   ]
  },
  {
   "cell_type": "code",
   "execution_count": null,
   "id": "427565f0",
   "metadata": {},
   "outputs": [],
   "source": [
    "# https://leetcode.com/problems/not-boring-movies/description/\n",
    "\n",
    "import pandas as pd\n",
    "\n",
    "def not_boring_movies(cinema: pd.DataFrame) -> pd.DataFrame:\n",
    "    mask = ((cinema[\"id\"] % 2 == 1) & (cinema[\"description\"] != \"boring\"))\n",
    "    return cinema[mask].sort_values(\"rating\", ascending = False)"
   ]
  },
  {
   "cell_type": "code",
   "execution_count": null,
   "id": "d55c13cf",
   "metadata": {},
   "outputs": [],
   "source": [
    "# https://leetcode.com/problems/triangle-judgement/\n",
    "\n",
    "\n",
    "import pandas as pd\n",
    "\n",
    "def triangle_judgement(triangle: pd.DataFrame) -> pd.DataFrame:\n",
    "    mask = triangle[[\"x\", \"y\", \"z\"]].min(axis = 1) + triangle[[\"x\", \"y\", \"z\"]].median(axis = 1) > triangle[[\"x\", \"y\", \"z\"]].max(axis = 1)\n",
    "    triangle[\"triangle\"] = mask.map({True:\"Yes\", False:\"No\"})\n",
    "    return triangle"
   ]
  },
  {
   "cell_type": "code",
   "execution_count": null,
   "id": "f3f73d9d",
   "metadata": {},
   "outputs": [],
   "source": [
    "# https://leetcode.com/problems/sales-person/\n",
    "\n",
    "import pandas as pd\n",
    "\n",
    "def sales_person(sales_person: pd.DataFrame, company: pd.DataFrame, orders: pd.DataFrame) -> pd.DataFrame:\n",
    "    sales_person_orders = pd.merge(sales_person, orders, on = \"sales_id\")\n",
    "    sp_orders_company = pd.merge(sales_person_orders, company, on = \"com_id\", suffixes = (\"_sp\", \"_o\"))\n",
    "    red_related = sp_orders_company[sp_orders_company[\"name_o\"] == \"RED\"]\n",
    "    return sales_person[ ~ sales_person[\"name\"].isin(red_related[\"name_sp\"])][[\"name\"]]\n",
    "\n",
    "# It is visible that filtering for \"RED\" could be done as a first measure to perhaps drastically reduce time on big dataframes"
   ]
  },
  {
   "cell_type": "code",
   "execution_count": null,
   "id": "2b6151b7",
   "metadata": {},
   "outputs": [],
   "source": [
    "# https://leetcode.com/problems/classes-more-than-5-students/\n",
    "\n",
    "import pandas as pd\n",
    "\n",
    "def find_classes(courses: pd.DataFrame) -> pd.DataFrame:\n",
    "    df = courses.groupby(by = \"class\").count().reset_index()\n",
    "    df = df[df[\"student\"] >= 5]\n",
    "    return df[[\"class\"]]"
   ]
  },
  {
   "cell_type": "code",
   "execution_count": null,
   "id": "d4643c01",
   "metadata": {},
   "outputs": [],
   "source": [
    "# https://leetcode.com/problems/big-countries/\n",
    "\n",
    "import pandas as pd\n",
    "\n",
    "def big_countries(world: pd.DataFrame) -> pd.DataFrame:\n",
    "    big_countries = world[(world[\"area\"] >= 3000000) | (world[\"population\"] >= 25000000)]\n",
    "    return big_countries[[\"name\", \"area\", \"population\"]]"
   ]
  },
  {
   "cell_type": "code",
   "execution_count": null,
   "id": "8492a5c7",
   "metadata": {},
   "outputs": [],
   "source": [
    "# https://leetcode.com/problems/customer-placing-the-largest-number-of-orders/\n",
    "\n",
    "import pandas as pd\n",
    "\n",
    "def largest_orders(orders: pd.DataFrame) -> pd.DataFrame:\n",
    "    order_counts = (\n",
    "        orders\n",
    "          .groupby(by = \"customer_number\")\n",
    "          .size()\n",
    "          .reset_index(name = \"order_count\")\n",
    "    )\n",
    "    top_customer = (\n",
    "        order_counts\n",
    "          .nlargest(1, \"order_count\")\n",
    "    )[[\"customer_number\"]]\n",
    "    \n",
    "    return top_customer\n",
    "\n",
    "# Extremely elegant solution by https://leetcode.com/u/Kyrylo-Ktl/\n",
    "\n",
    "def largest_orders(orders: pd.DataFrame) -> pd.DataFrame:\n",
    "    return orders['customer_number'].mode().to_frame()"
   ]
  },
  {
   "cell_type": "code",
   "execution_count": null,
   "id": "16433f5d",
   "metadata": {},
   "outputs": [],
   "source": [
    "# https://leetcode.com/problems/find-customer-referee/\n",
    "\n",
    "import pandas as pd\n",
    "\n",
    "def find_customer_referee(customer: pd.DataFrame) -> pd.DataFrame:\n",
    "    result = customer[(customer['referee_id'] != 2) | customer['referee_id'].isnull()]\n",
    "    return result[['name']]"
   ]
  },
  {
   "cell_type": "code",
   "execution_count": null,
   "id": "5d401b68",
   "metadata": {},
   "outputs": [],
   "source": [
    "# https://leetcode.com/problems/employee-bonus/\n",
    "\n",
    "import pandas as pd\n",
    "\n",
    "def employee_bonus(employee: pd.DataFrame, bonus: pd.DataFrame) -> pd.DataFrame:\n",
    "    df = pd.merge(employee, bonus, how = \"left\", on = \"empId\")\n",
    "    \n",
    "    df = df[(df[\"bonus\"] < 1000) | df[\"bonus\"].isnull()]\n",
    "    return df[[\"name\", \"bonus\"]]"
   ]
  },
  {
   "cell_type": "code",
   "execution_count": null,
   "id": "b36a51b2",
   "metadata": {},
   "outputs": [],
   "source": [
    "# https://leetcode.com/problems/combine-two-tables/\n",
    "\n",
    "import pandas as pd\n",
    "\n",
    "\n",
    "def combine_two_tables(person: pd.DataFrame, address: pd.DataFrame) -> pd.DataFrame:\n",
    "    person_address = person.join(address.set_index('personId'), on = \"personId\")\n",
    "    return person_address[[\"firstName\", \"lastName\", \"city\", \"state\"]]"
   ]
  }
 ],
 "metadata": {
  "kernelspec": {
   "display_name": "base",
   "language": "python",
   "name": "python3"
  },
  "language_info": {
   "codemirror_mode": {
    "name": "ipython",
    "version": 3
   },
   "file_extension": ".py",
   "mimetype": "text/x-python",
   "name": "python",
   "nbconvert_exporter": "python",
   "pygments_lexer": "ipython3",
   "version": "3.12.3"
  }
 },
 "nbformat": 4,
 "nbformat_minor": 5
}
