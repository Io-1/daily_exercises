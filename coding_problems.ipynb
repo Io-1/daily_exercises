{
 "cells": [
  {
   "cell_type": "code",
   "execution_count": null,
   "id": "859d94a2",
   "metadata": {},
   "outputs": [],
   "source": [
    "# https://leetcode.com/problems/two-sum/\n",
    "\n",
    "class Solution:\n",
    "    def twoSum(self, nums: List[int], target: int) -> List[int]:\n",
    "        seen = {}\n",
    "        for i, x in enumerate(nums):\n",
    "            complement = target - x\n",
    "            if complement in seen:\n",
    "                return [seen[complement], i]\n",
    "            seen[x] = i\n",
    "        return None\n",
    "\n",
    "# The basic solution of O(n^2)\n",
    "\n",
    "class Solution:\n",
    "    def twoSum(self, nums: List[int], target: int) -> List[int]:\n",
    "        for i, x in enumerate(nums):\n",
    "            for j, y in enumerate(nums):\n",
    "                if i != j and x + y == target: return [i, j]\n",
    "        return None"
   ]
  }
 ],
 "metadata": {
  "kernelspec": {
   "display_name": "base",
   "language": "python",
   "name": "python3"
  },
  "language_info": {
   "name": "python",
   "version": "3.12.3"
  }
 },
 "nbformat": 4,
 "nbformat_minor": 5
}
