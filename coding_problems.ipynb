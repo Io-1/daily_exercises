{
 "cells": [
  {
   "cell_type": "code",
   "execution_count": null,
   "id": "e6f0dc67",
   "metadata": {},
   "outputs": [],
   "source": [
    "# https://leetcode.com/problems/longest-substring-without-repeating-characters\n",
    "\n",
    "class Solution:\n",
    "    def lengthOfLongestSubstring(self, s: str) -> int:\n",
    "        max_length = 0\n",
    "        for i, c in enumerate(s):\n",
    "            seen = {c}\n",
    "            length = 1\n",
    "            for l in s[i + 1:]:\n",
    "                if l in seen:\n",
    "                    break\n",
    "                else:\n",
    "                    seen.add(l)\n",
    "                    length += 1\n",
    "            max_length = max(length, max_length)\n",
    "        return max_length\n",
    "    \n",
    "# Read for improving the current solutions.    \n",
    "# https://leetcode.com/problems/longest-substring-without-repeating-characters/solutions/3649636/3-method-s-c-java-python-beginner-friendly/\n"
   ]
  },
  {
   "cell_type": "code",
   "execution_count": null,
   "id": "9318b5ad",
   "metadata": {},
   "outputs": [],
   "source": [
    "# https://leetcode.com/problems/add-two-numbers/\n",
    "\n",
    "# Definition for singly-linked list.\n",
    "# class ListNode:\n",
    "#     def __init__(self, val=0, next=None):\n",
    "#         self.val = val\n",
    "#         self.next = next\n",
    "class Solution:\n",
    "    def addTwoNumbers(self, l1: Optional[ListNode], l2: Optional[ListNode]) -> Optional[ListNode]:\n",
    "        dummy = ListNode(0)\n",
    "        curr = dummy\n",
    "        carry = 0\n",
    "\n",
    "\n",
    "        while l1 or l2 or carry:\n",
    "            n1, n2 = l1.val if l1 else 0, l2.val if l2 else 0\n",
    "            s = n1 + n2 + carry\n",
    "            carry = s // 10\n",
    "\n",
    "            curr.next = ListNode(s % 10)\n",
    "            curr = curr.next\n",
    "\n",
    "            if l1: l1 = l1.next\n",
    "            if l2: l2 = l2.next\n",
    "\n",
    "        return dummy.next"
   ]
  },
  {
   "cell_type": "code",
   "execution_count": null,
   "id": "859d94a2",
   "metadata": {},
   "outputs": [],
   "source": [
    "# https://leetcode.com/problems/two-sum/\n",
    "\n",
    "class Solution:\n",
    "    def twoSum(self, nums: List[int], target: int) -> List[int]:\n",
    "        seen = {}\n",
    "        for i, x in enumerate(nums):\n",
    "            complement = target - x\n",
    "            if complement in seen:\n",
    "                return [seen[complement], i]\n",
    "            seen[x] = i\n",
    "        return None\n",
    "\n",
    "# The basic solution of O(n^2)\n",
    "\n",
    "class Solution:\n",
    "    def twoSum(self, nums: List[int], target: int) -> List[int]:\n",
    "        for i, x in enumerate(nums):\n",
    "            for j, y in enumerate(nums):\n",
    "                if i != j and x + y == target: return [i, j]\n",
    "        return None"
   ]
  }
 ],
 "metadata": {
  "kernelspec": {
   "display_name": "base",
   "language": "python",
   "name": "python3"
  },
  "language_info": {
   "name": "python",
   "version": "3.12.3"
  }
 },
 "nbformat": 4,
 "nbformat_minor": 5
}
