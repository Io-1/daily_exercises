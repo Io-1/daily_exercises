{
 "cells": [
  {
   "cell_type": "code",
   "execution_count": null,
   "id": "e9dd34bd",
   "metadata": {},
   "outputs": [],
   "source": [
    "# https://leetcode.com/problems/rank-scores/\n",
    "\"\"\"\n",
    "SELECT score, DENSE_RANK() over (ORDER BY SCORE DESC) rank FROM Scores;\n",
    "\"\"\"\n",
    "\n",
    "# A non window function solution\n",
    "\"\"\"\n",
    "SELECT s1.score, (SELECT COUNT(DISTINCT s2.score) FROM Scores s2 WHERE s2.score >= s1.score) AS rank\n",
    "FROM Scores s1\n",
    "ORDER BY s1.score DESC;\n",
    "\"\"\"\n",
    "\n",
    "# Also possible and better on SQL engines:\n",
    "\"\"\"\n",
    "SELECT s1.score, COUNT(DISTINCT s2.score) AS rank\n",
    "FROM Scores s1\n",
    "LEFT JOIN Scores s2 ON s1.score <= s2.score\n",
    "GROUP BY s1.score\n",
    "ORDER BY s1.score DESC;\n",
    "\"\"\""
   ]
  },
  {
   "cell_type": "code",
   "execution_count": null,
   "id": "2b7e3ca9",
   "metadata": {},
   "outputs": [],
   "source": [
    "# https://leetcode.com/problems/not-boring-movies/\n",
    "\n",
    "\"\"\"SELECT * FROM Cinema\n",
    "WHERE mod(id,2) = 1 AND description != 'boring'\n",
    "ORDER BY rating DESC;\"\"\""
   ]
  },
  {
   "cell_type": "code",
   "execution_count": null,
   "id": "f04654e9",
   "metadata": {},
   "outputs": [],
   "source": [
    "# https://leetcode.com/problems/triangle-judgement/submissions/1639090104/\n",
    "\n",
    "\"\"\"\n",
    "SELECT x, y, z,\n",
    "(\n",
    "CASE\n",
    "  WHEN LEAST(x, y, z) + (x + y + z) - LEAST(x, y, z) - GREATEST(x, y, z) > GREATEST(x, y, z) THEN 'Yes'\n",
    "  ELSE 'No'\n",
    "END\n",
    ") AS triangle\n",
    "FROM Triangle;\n",
    "\"\"\""
   ]
  },
  {
   "cell_type": "code",
   "execution_count": null,
   "id": "78bbc747",
   "metadata": {},
   "outputs": [],
   "source": [
    "# https://leetcode.com/problems/sales-person/submissions/1638196688/\n",
    "\n",
    "\"\"\"\n",
    "SELECT name FROM SalesPerson\n",
    "WHERE name NOT IN\n",
    "(SELECT sp.name\n",
    "FROM SalesPerson sp\n",
    "LEFT JOIN Orders o\n",
    "  ON sp.sales_id = o.sales_id\n",
    "LEFT JOIN Company c\n",
    "  ON o.com_id = c.com_id\n",
    "WHERE c.name = 'RED')\n",
    "\"\"\""
   ]
  },
  {
   "cell_type": "code",
   "execution_count": null,
   "id": "2b2f4bcf",
   "metadata": {},
   "outputs": [],
   "source": [
    "# https://leetcode.com/problems/classes-more-than-5-students/\n",
    "\n",
    "\"\"\"\n",
    "SELECT class\n",
    "FROM Courses\n",
    "GROUP BY class\n",
    "HAVING count(student) >= 5;\n",
    "\"\"\""
   ]
  },
  {
   "cell_type": "code",
   "execution_count": null,
   "id": "e91ed806",
   "metadata": {},
   "outputs": [],
   "source": [
    "# https://leetcode.com/problems/big-countries/submissions/1636368416/\n",
    "\n",
    "\"\"\"\n",
    "SELECT name, population, area\n",
    "FROM World\n",
    "WHERE area >= 3000000 OR population >= 25000000;\n",
    "\"\"\""
   ]
  },
  {
   "cell_type": "code",
   "execution_count": null,
   "id": "1941e834",
   "metadata": {},
   "outputs": [],
   "source": [
    "# https://leetcode.com/problems/customer-placing-the-largest-number-of-orders/\n",
    "\n",
    "\"\"\"\n",
    "SELECT customer_number\n",
    "FROM Orders\n",
    "GROUP BY customer_number\n",
    "ORDER BY count(order_number) DESC\n",
    "LIMIT 1;\n",
    "\"\"\""
   ]
  },
  {
   "cell_type": "code",
   "execution_count": null,
   "id": "bc388ddb",
   "metadata": {},
   "outputs": [],
   "source": [
    "# https://leetcode.com/problems/find-customer-referee/\n",
    "\n",
    "\"\"\"\n",
    "SELECT name\n",
    "FROM Customer\n",
    "WHERE referee_id != 2 OR referee_id IS NULL;\n",
    "\"\"\""
   ]
  },
  {
   "cell_type": "code",
   "execution_count": null,
   "id": "7a1c30ca",
   "metadata": {},
   "outputs": [],
   "source": [
    "# https://leetcode.com/problems/employee-bonus/\n",
    "\n",
    "\"\"\"\n",
    "SELECT e.name, b.bonus\n",
    "FROM Employee e \n",
    "LEFT JOIN Bonus b\n",
    "ON e.empId = b.empId\n",
    "WHERE b.bonus < 1000 OR b.bonus IS NULL;\n",
    "\"\"\""
   ]
  },
  {
   "cell_type": "code",
   "execution_count": null,
   "id": "5409cb11",
   "metadata": {},
   "outputs": [],
   "source": [
    "# https://leetcode.com/problems/game-play-analysis-i/submissions/1629984989/\n",
    "\n",
    "\"\"\"\n",
    "SELECT player_id, min(event_date) as first_login\n",
    "FROM Activity\n",
    "GROUP BY player_id\n",
    "ORDER BY player_id;\n",
    "\"\"\""
   ]
  },
  {
   "cell_type": "code",
   "execution_count": null,
   "id": "844116f9",
   "metadata": {},
   "outputs": [],
   "source": [
    "# https://leetcode.com/problems/rising-temperature/\n",
    "\n",
    "\"\"\"\n",
    "select w1.id \n",
    "from Weather w1\n",
    "left join Weather w2\n",
    "on w1.recordDate = w2.recordDate + INTERVAL '1 day'\n",
    "where w1.temperature > w2.temperature;\n",
    "\"\"\""
   ]
  },
  {
   "cell_type": "code",
   "execution_count": null,
   "id": "9242fa40",
   "metadata": {},
   "outputs": [],
   "source": [
    "# https://leetcode.com/problems/delete-duplicate-emails\n",
    "\n",
    "\"\"\"\n",
    "DELETE FROM Person p1\n",
    "USING Person p2 \n",
    "WHERE p1.email = p2.email\n",
    "AND p1.id > p2.id;\n",
    "\"\"\""
   ]
  },
  {
   "cell_type": "code",
   "execution_count": null,
   "id": "1a9c46b4",
   "metadata": {},
   "outputs": [],
   "source": [
    "# https://leetcode.com/problems/customers-who-never-order/\n",
    "\n",
    "\"\"\"\n",
    "SELECT c.name as Customers\n",
    "FROM Customers c LEFT JOIN Orders o ON c.id = o.customerId\n",
    "WHERE o.id IS NULL;\n",
    "\"\"\""
   ]
  },
  {
   "cell_type": "code",
   "execution_count": null,
   "id": "a1d5e90c",
   "metadata": {},
   "outputs": [],
   "source": [
    "# https://leetcode.com/problems/second-highest-salary/\n",
    "\n",
    "\"\"\"\n",
    "select max(salary) as SecondHighestSalary\n",
    "from Employee\n",
    "where salary < (select max(salary) from Employee)\n",
    "\"\"\""
   ]
  },
  {
   "cell_type": "code",
   "execution_count": null,
   "id": "6edb92aa",
   "metadata": {},
   "outputs": [],
   "source": [
    "# https://leetcode.com/problems/employees-earning-more-than-their-manage\n",
    "\n",
    "\"\"\"\n",
    "SELECT e.name Employee\n",
    "FROM Employee e\n",
    "LEFT JOIN Employee m\n",
    "ON e.managerId = m.id\n",
    "WHERE e.managerId IS NOT NULL\n",
    "AND e.salary > m.salary;\n",
    "\"\"\""
   ]
  },
  {
   "cell_type": "code",
   "execution_count": null,
   "id": "3b9ba70e",
   "metadata": {},
   "outputs": [],
   "source": [
    "# https://leetcode.com/problems/duplicate-emails/\n",
    "\n",
    "\"\"\"\n",
    "postgresql []\n",
    "SELECT email\n",
    "FROM Person\n",
    "GROUP BY email\n",
    "HAVING count(*) > 1;\n",
    "\"\"\""
   ]
  },
  {
   "cell_type": "code",
   "execution_count": null,
   "id": "9195a6e8",
   "metadata": {},
   "outputs": [],
   "source": [
    "# https://leetcode.com/problems/combine-two-tables/\n",
    "\n",
    "\"\"\"\n",
    "SELECT p.firstName, p.lastName, a.city, a.state\n",
    "FROM Person p\n",
    "LEFT JOIN Address a\n",
    "ON p.personId = a.personId\n",
    "\"\"\""
   ]
  }
 ],
 "metadata": {
  "language_info": {
   "name": "python"
  }
 },
 "nbformat": 4,
 "nbformat_minor": 5
}
