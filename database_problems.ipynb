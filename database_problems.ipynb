{
 "cells": [
  {
   "cell_type": "code",
   "execution_count": null,
   "id": "7a1c30ca",
   "metadata": {},
   "outputs": [],
   "source": [
    "# https://leetcode.com/problems/employee-bonus/\n",
    "\n",
    "\"\"\"\n",
    "SELECT e.name, b.bonus\n",
    "FROM Employee e \n",
    "LEFT JOIN Bonus b\n",
    "ON e.empId = b.empId\n",
    "WHERE b.bonus < 1000 OR b.bonus IS NULL;\n",
    "\"\"\""
   ]
  },
  {
   "cell_type": "code",
   "execution_count": null,
   "id": "5409cb11",
   "metadata": {},
   "outputs": [],
   "source": [
    "# https://leetcode.com/problems/game-play-analysis-i/submissions/1629984989/\n",
    "\n",
    "\"\"\"\n",
    "SELECT player_id, min(event_date) as first_login\n",
    "FROM Activity\n",
    "GROUP BY player_id\n",
    "ORDER BY player_id;\n",
    "\"\"\""
   ]
  },
  {
   "cell_type": "code",
   "execution_count": null,
   "id": "844116f9",
   "metadata": {},
   "outputs": [],
   "source": [
    "# https://leetcode.com/problems/rising-temperature/\n",
    "\n",
    "\"\"\"\n",
    "select w1.id \n",
    "from Weather w1\n",
    "left join Weather w2\n",
    "on w1.recordDate = w2.recordDate + INTERVAL '1 day'\n",
    "where w1.temperature > w2.temperature;\n",
    "\"\"\""
   ]
  },
  {
   "cell_type": "code",
   "execution_count": null,
   "id": "9242fa40",
   "metadata": {},
   "outputs": [],
   "source": [
    "# https://leetcode.com/problems/delete-duplicate-emails\n",
    "\n",
    "\"\"\"\n",
    "DELETE FROM Person p1\n",
    "USING Person p2 \n",
    "WHERE p1.email = p2.email\n",
    "AND p1.id > p2.id;\n",
    "\"\"\""
   ]
  },
  {
   "cell_type": "code",
   "execution_count": null,
   "id": "1a9c46b4",
   "metadata": {},
   "outputs": [],
   "source": [
    "# https://leetcode.com/problems/customers-who-never-order/\n",
    "\n",
    "\"\"\"\n",
    "SELECT c.name as Customers\n",
    "FROM Customers c LEFT JOIN Orders o ON c.id = o.customerId\n",
    "WHERE o.id IS NULL;\n",
    "\"\"\""
   ]
  },
  {
   "cell_type": "code",
   "execution_count": null,
   "id": "a1d5e90c",
   "metadata": {},
   "outputs": [],
   "source": [
    "# https://leetcode.com/problems/second-highest-salary/\n",
    "\n",
    "\"\"\"\n",
    "select max(salary) as SecondHighestSalary\n",
    "from Employee\n",
    "where salary < (select max(salary) from Employee)\n",
    "\"\"\""
   ]
  },
  {
   "cell_type": "code",
   "execution_count": null,
   "id": "6edb92aa",
   "metadata": {},
   "outputs": [],
   "source": [
    "# https://leetcode.com/problems/employees-earning-more-than-their-manage\n",
    "\n",
    "\"\"\"\n",
    "SELECT e.name Employee\n",
    "FROM Employee e\n",
    "LEFT JOIN Employee m\n",
    "ON e.managerId = m.id\n",
    "WHERE e.managerId IS NOT NULL\n",
    "AND e.salary > m.salary;\n",
    "\"\"\""
   ]
  },
  {
   "cell_type": "code",
   "execution_count": null,
   "id": "3b9ba70e",
   "metadata": {},
   "outputs": [],
   "source": [
    "# https://leetcode.com/problems/duplicate-emails/\n",
    "\n",
    "\"\"\"\n",
    "postgresql []\n",
    "SELECT email\n",
    "FROM Person\n",
    "GROUP BY email\n",
    "HAVING count(*) > 1;\n",
    "\"\"\""
   ]
  },
  {
   "cell_type": "code",
   "execution_count": null,
   "id": "9195a6e8",
   "metadata": {},
   "outputs": [],
   "source": [
    "# https://leetcode.com/problems/combine-two-tables/\n",
    "\n",
    "\"\"\"\n",
    "SELECT p.firstName, p.lastName, a.city, a.state\n",
    "FROM Person p\n",
    "LEFT JOIN Address a\n",
    "ON p.personId = a.personId\n",
    "\"\"\""
   ]
  }
 ],
 "metadata": {
  "language_info": {
   "name": "python"
  }
 },
 "nbformat": 4,
 "nbformat_minor": 5
}
