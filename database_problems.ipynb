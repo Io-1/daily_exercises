{
 "cells": [
  {
   "cell_type": "code",
   "execution_count": null,
   "id": "3b9ba70e",
   "metadata": {},
   "outputs": [],
   "source": [
    "# https://leetcode.com/problems/duplicate-emails/\n",
    "\n",
    "\"\"\"\n",
    "postgresql []\n",
    "SELECT email\n",
    "FROM Person\n",
    "GROUP BY email\n",
    "HAVING count(*) > 1;\n",
    "\"\"\""
   ]
  },
  {
   "cell_type": "code",
   "execution_count": null,
   "id": "9195a6e8",
   "metadata": {},
   "outputs": [],
   "source": [
    "# https://leetcode.com/problems/combine-two-tables/\n",
    "\n",
    "\"\"\"\n",
    "SELECT p.firstName, p.lastName, a.city, a.state\n",
    "FROM Person p\n",
    "LEFT JOIN Address a\n",
    "ON p.personId = a.personId\n",
    "\"\"\""
   ]
  }
 ],
 "metadata": {
  "language_info": {
   "name": "python"
  }
 },
 "nbformat": 4,
 "nbformat_minor": 5
}
