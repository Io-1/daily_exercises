{
 "cells": [
  {
   "cell_type": "code",
   "execution_count": null,
   "id": "9195a6e8",
   "metadata": {},
   "outputs": [],
   "source": [
    "# https://leetcode.com/problems/combine-two-tables/\n",
    "\n",
    "\"\"\"\n",
    "SELECT p.firstName, p.lastName, a.city, a.state\n",
    "FROM Person p\n",
    "LEFT JOIN Address a\n",
    "ON p.personId = a.personId\n",
    "\"\"\""
   ]
  }
 ],
 "metadata": {
  "language_info": {
   "name": "python"
  }
 },
 "nbformat": 4,
 "nbformat_minor": 5
}
