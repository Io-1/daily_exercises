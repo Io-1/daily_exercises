{
 "cells": [
  {
   "cell_type": "code",
   "execution_count": null,
   "id": "1a9c46b4",
   "metadata": {},
   "outputs": [],
   "source": [
    "# https://leetcode.com/problems/customers-who-never-order/\n",
    "\n",
    "\"\"\"\n",
    "SELECT c.name as Customers\n",
    "FROM Customers c LEFT JOIN Orders o ON c.id = o.customerId\n",
    "WHERE o.id IS NULL;\n",
    "\"\"\""
   ]
  },
  {
   "cell_type": "code",
   "execution_count": null,
   "id": "a1d5e90c",
   "metadata": {},
   "outputs": [],
   "source": [
    "# https://leetcode.com/problems/second-highest-salary/\n",
    "\n",
    "\"\"\"\n",
    "select max(salary) as SecondHighestSalary\n",
    "from Employee\n",
    "where salary < (select max(salary) from Employee)\n",
    "\"\"\""
   ]
  },
  {
   "cell_type": "code",
   "execution_count": null,
   "id": "6edb92aa",
   "metadata": {},
   "outputs": [],
   "source": [
    "# https://leetcode.com/problems/employees-earning-more-than-their-manage\n",
    "\n",
    "\"\"\"\n",
    "SELECT e.name Employee\n",
    "FROM Employee e\n",
    "LEFT JOIN Employee m\n",
    "ON e.managerId = m.id\n",
    "WHERE e.managerId IS NOT NULL\n",
    "AND e.salary > m.salary;\n",
    "\"\"\""
   ]
  },
  {
   "cell_type": "code",
   "execution_count": null,
   "id": "3b9ba70e",
   "metadata": {},
   "outputs": [],
   "source": [
    "# https://leetcode.com/problems/duplicate-emails/\n",
    "\n",
    "\"\"\"\n",
    "postgresql []\n",
    "SELECT email\n",
    "FROM Person\n",
    "GROUP BY email\n",
    "HAVING count(*) > 1;\n",
    "\"\"\""
   ]
  },
  {
   "cell_type": "code",
   "execution_count": null,
   "id": "9195a6e8",
   "metadata": {},
   "outputs": [],
   "source": [
    "# https://leetcode.com/problems/combine-two-tables/\n",
    "\n",
    "\"\"\"\n",
    "SELECT p.firstName, p.lastName, a.city, a.state\n",
    "FROM Person p\n",
    "LEFT JOIN Address a\n",
    "ON p.personId = a.personId\n",
    "\"\"\""
   ]
  }
 ],
 "metadata": {
  "language_info": {
   "name": "python"
  }
 },
 "nbformat": 4,
 "nbformat_minor": 5
}
