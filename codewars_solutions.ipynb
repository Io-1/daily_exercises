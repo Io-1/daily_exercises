{
 "cells": [
  {
   "cell_type": "code",
   "execution_count": null,
   "metadata": {},
   "outputs": [],
   "source": [
    "# https://www.codewars.com/kata/5a63948acadebff56f000018/solutions/python\n",
    "\n",
    "def max_product(arr, n):\n",
    "    prd = 1\n",
    "    for x in sorted(arr)[-n:]:\n",
    "        prd *= x\n",
    "    return prd"
   ]
  },
  {
   "cell_type": "code",
   "execution_count": null,
   "metadata": {},
   "outputs": [],
   "source": [
    "# https://www.codewars.com/kata/5a512f6a80eba857280000fc/train/python\n",
    "\n",
    "def nth_smallest(arr, pos):\n",
    "    return sorted(arr)[pos - 1]"
   ]
  },
  {
   "cell_type": "code",
   "execution_count": null,
   "metadata": {},
   "outputs": [],
   "source": [
    "# https://www.codewars.com/kata/5a4138acf28b82aa43000117/train/python\n",
    "\n",
    "def adjacent_element_product(arr):\n",
    "    return max(x * y for x, y in zip(arr, arr[1:]))"
   ]
  },
  {
   "cell_type": "code",
   "execution_count": null,
   "metadata": {},
   "outputs": [],
   "source": [
    "# https://www.codewars.com/kata/5a523566b3bfa84c2e00010b/train/python?collection=playing-with-lists-slash-arrays\n",
    "\n",
    "import numpy as np\n",
    "\n",
    "def min_sum(arr):\n",
    "    arr.sort()\n",
    "    return sum(x * y for x, y in zip(arr[:len(arr) // 2], arr[len(arr) // 2:][::-1]))"
   ]
  },
  {
   "cell_type": "code",
   "execution_count": null,
   "metadata": {},
   "outputs": [],
   "source": [
    "# https://www.codewars.com/kata/557af4c6169ac832300000ba/train/python\n",
    "\n",
    "import re\n",
    "\n",
    "def remove_rotten(arr):\n",
    "    return [re.sub(\"^rotten\", \"\", x).lower() for x in arr] if arr else []\n",
    "\n",
    "# Python has its own method\n",
    "\n",
    "def remove_rotten(bag_of_fruits):\n",
    "    return [x.replace('rotten', '').lower() for x in bag_of_fruits] if bag_of_fruits else []"
   ]
  },
  {
   "cell_type": "code",
   "execution_count": null,
   "metadata": {},
   "outputs": [],
   "source": [
    "# https://www.codewars.com/kata/5866fc43395d9138a7000006/train/python\n",
    "\n",
    "def ensure_question(s):\n",
    "    return s if s and s[-1] == \"?\" else s + \"?\""
   ]
  },
  {
   "cell_type": "code",
   "execution_count": null,
   "metadata": {},
   "outputs": [],
   "source": [
    "# https://www.codewars.com/kata/5862f663b4e9d6f12b00003b/train/python\n",
    "\n",
    "def guess_blue(blue_start, red_start, blue_pulled, red_pulled):\n",
    "    return (blue_start - blue_pulled) / (blue_start + red_start - blue_pulled - red_pulled)"
   ]
  },
  {
   "cell_type": "code",
   "execution_count": null,
   "metadata": {},
   "outputs": [],
   "source": [
    "# https://www.codewars.com/kata/53f1015fa9fe02cbda00111a/train/python\n",
    "\n",
    "import random\n",
    "\n",
    "class Ghost(object):\n",
    "    def __init__(self):\n",
    "        self.color = [\"white\", \"yellow\", \"purple\", \"red\"][random.randrange(4)]"
   ]
  },
  {
   "cell_type": "code",
   "execution_count": null,
   "metadata": {},
   "outputs": [],
   "source": [
    "# https://www.codewars.com/kata/57ebaa8f7b45ef590c00000c/train/python\n",
    "\n",
    "def switcher(arr):\n",
    "    map = {\"27\": \"!\", \"28\": \"?\", \"29\": \" \"}\n",
    "    return \"\".join(chr(96 + (27 - int(x))) if 1 <= int(x) <= 26 else map[x] for x in arr)\n",
    "\n",
    "def switcher(arr):\n",
    "    map = {\"27\": \"!\", \"28\": \"?\", \"29\": \" \"}\n",
    "    return \"\".join(chr(96 + (27 - int(x))) if 1 <= int(x) <= 26 else map[x] for x in arr)"
   ]
  },
  {
   "cell_type": "code",
   "execution_count": null,
   "metadata": {},
   "outputs": [],
   "source": [
    "# https://www.codewars.com/kata/57cff961eca260b71900008f/train/python\n",
    "\n",
    "def is_vow(arr):\n",
    "    return [chr(i) if \"a\" <= chr(i) <= \"z\" and chr(i) in [\"a\", \"e\", \"i\", \"o\", \"u\"] else i for i in arr]"
   ]
  },
  {
   "cell_type": "code",
   "execution_count": null,
   "metadata": {},
   "outputs": [],
   "source": [
    "# https://www.codewars.com/kata/57b58827d2a31c57720012e8/train/python\n",
    "\n",
    "def fuel_price(litres, price_per_litre):\n",
    "    return litres * price_per_litre - (litres * min(litres // 2, 5) * 0.05)"
   ]
  },
  {
   "cell_type": "code",
   "execution_count": null,
   "metadata": {},
   "outputs": [],
   "source": [
    "# https://www.codewars.com/kata/55a75e2d0803fea18f00009d/train/python\n",
    "\n",
    "def find_slope(arr):\n",
    "    return str(int((arr[3] - arr[1]) // (arr[2] - arr[0]))) if (arr[2] != arr[0]) else \"undefined\""
   ]
  },
  {
   "cell_type": "code",
   "execution_count": null,
   "metadata": {},
   "outputs": [],
   "source": [
    "# https://www.codewars.com/kata/5a34af40e1ce0eb1f5000036/train/python\n",
    "\n",
    "def to_csv_text(array):\n",
    "    return \"\\n\".join(\",\".join(str(x) for x in line) for line in array)"
   ]
  },
  {
   "cell_type": "code",
   "execution_count": null,
   "metadata": {},
   "outputs": [],
   "source": [
    "# https://www.codewars.com/kata/56a4872cbb65f3a610000026/train/python\n",
    "\n",
    "def max_rot(n):\n",
    "    n_s = str(n)\n",
    "    mem = [n]\n",
    "    for i in range(0, len(n_s) - 1):\n",
    "        n_s = n_s[0:i] + n_s[i + 1:] + n_s[i]\n",
    "        mem.append(int(n_s))\n",
    "    return max(mem)"
   ]
  },
  {
   "cell_type": "code",
   "execution_count": null,
   "metadata": {},
   "outputs": [],
   "source": [
    "# https://www.codewars.com/kata/5d23d89906f92a00267bb83d/train/python\n",
    "\n",
    "def get_order(order):\n",
    "    menu = [\"Burger\", \"Fries\", \"Chicken\", \"Pizza\", \"Sandwich\", \"Onionrings\", \"Milkshake\", \"Coke\"]\n",
    "    return \" \".join([item for item in menu for i in range(order.count(item.lower()))])\n",
    "\n",
    "# The string option\n",
    "\n",
    "def get_order(order):\n",
    "    menu = ['burger', 'fries', 'chicken', 'pizza', 'sandwich', 'onionrings', 'milkshake', 'coke']\n",
    "    clean_order = ''\n",
    "    for i in menu:\n",
    "        clean_order += (i.capitalize() + ' ') * order.count(i)\n",
    "    return clean_order[:-1]"
   ]
  },
  {
   "cell_type": "code",
   "execution_count": null,
   "metadata": {},
   "outputs": [],
   "source": [
    "# https://www.codewars.com/kata/58fa273ca6d84c158e000052/train/python\n",
    "\n",
    "def digits(n):\n",
    "    if n < 0: n = -n\n",
    "    i = 0\n",
    "    while True:\n",
    "        n = n // 10\n",
    "        i += 1\n",
    "        if n == 0: return i"
   ]
  },
  {
   "cell_type": "code",
   "execution_count": null,
   "metadata": {},
   "outputs": [],
   "source": [
    "# https://www.codewars.com/kata/563089b9b7be03472d00002b/train/python\n",
    "\n",
    "class List:\n",
    "    def remove_(self, integer_list, values_list):\n",
    "        return [i for i in integer_list if i not in values_list]"
   ]
  },
  {
   "cell_type": "code",
   "execution_count": null,
   "metadata": {},
   "outputs": [],
   "source": [
    "# https://www.codewars.com/kata/54a2e93b22d236498400134b/train/python\n",
    "\n",
    "def presses(phrase):\n",
    "    phrase = phrase.upper()\n",
    "    press_total = 0\n",
    "    key_map = {1: [\"A\", \"D\", \"G\", \"J\", \"M\", \"P\", \"T\", \"W\", \" \", \"*\", \"#\", \"1\"],\n",
    "               2: [\"B\", \"E\", \"H\", \"K\", \"N\", \"Q\", \"U\", \"X\", \"0\"],\n",
    "               3: [\"C\", \"F\", \"I\", \"L\", \"O\", \"R\", \"V\", \"Y\"],\n",
    "               4: [\"2\", \"3\", \"4\", \"5\", \"6\", \"S\", \"8\", \"Z\"],\n",
    "               5: [\"9\", \"7\"]}\n",
    "    for presses, chars in key_map.items():\n",
    "        for char in phrase:\n",
    "            if char in chars: press_total += presses\n",
    "    return press_total\n",
    "\n",
    "# A cuter approach:\n",
    "\n",
    "BUTTONS = [ '1',   'abc2',  'def3',\n",
    "          'ghi4',  'jkl5',  'mno6',\n",
    "          'pqrs7', 'tuv8', 'wxyz9',\n",
    "            '*',   ' 0',    '#'   ]\n",
    "def presses(phrase):\n",
    "    return sum(1 + button.find(c) for c in phrase.lower() for button in BUTTONS if c in button)"
   ]
  },
  {
   "cell_type": "code",
   "execution_count": null,
   "metadata": {},
   "outputs": [],
   "source": [
    "# https://www.codewars.com/kata/538835ae443aae6e03000547/train/python\n",
    "\n",
    "def add(n: int):\n",
    "    return lambda x: x + n"
   ]
  },
  {
   "cell_type": "code",
   "execution_count": null,
   "metadata": {},
   "outputs": [],
   "source": [
    "# https://www.codewars.com/kata/578a8a01e9fd1549e50001f1/train/python\n",
    "\n",
    "def period_is_late(last, today, cycle_length):\n",
    "    return (today - last).days > cycle_length"
   ]
  },
  {
   "cell_type": "code",
   "execution_count": null,
   "metadata": {},
   "outputs": [],
   "source": [
    "# https://www.codewars.com/kata/56214b6864fe8813f1000019/train/python\n",
    "\n",
    "from preloaded import *\n",
    "\n",
    "health = 100\n",
    "position = 0\n",
    "coins = 0\n",
    "\n",
    "def main():\n",
    "    roll_dice()\n",
    "    move()\n",
    "    combat()\n",
    "    get_coins()\n",
    "    buy_health()\n",
    "    print_status()"
   ]
  },
  {
   "cell_type": "code",
   "execution_count": null,
   "metadata": {},
   "outputs": [],
   "source": [
    "# https://www.codewars.com/kata/5601c5f6ba804403c7000004/train/python\n",
    "\n",
    "def bar_triang(a, b, c): \n",
    "    return [round(((a[0] + b[0] + c[0]) / 3), 4), round(((a[1] + b[1] + c[1]) / 3), 4)]\n",
    "\n",
    "# zip it\n",
    "\n",
    "def bar_triang(a, b, c):\n",
    "    return [round(sum(x)/3.0, 4) for x in zip(a, b, c)]"
   ]
  },
  {
   "cell_type": "code",
   "execution_count": null,
   "metadata": {},
   "outputs": [],
   "source": [
    "# https://www.codewars.com/kata/53d16bd82578b1fb5b00128c/train/python\n",
    "\n",
    "def grader(score):\n",
    "    if score > 1 or score < 0.6: return \"F\"\n",
    "    elif 0.9 <= score: return \"A\"\n",
    "    elif 0.8 <= score: return \"B\"\n",
    "    elif 0.7 <= score: return \"C\"\n",
    "    elif 0.6 <= score: return \"D\""
   ]
  },
  {
   "cell_type": "code",
   "execution_count": null,
   "metadata": {},
   "outputs": [],
   "source": [
    "# https://www.codewars.com/kata/5375f921003bf62192000746/train/python\n",
    "\n",
    "import re\n",
    "\n",
    "def abbreviate(s):\n",
    "    s_arr = re.split(\"[^a-zA-Z]\", s)\n",
    "    s_sym = re.findall(\"[^a-zA-Z]\", s)\n",
    "    if len(s_arr) > len(s_sym): s_sym.append(\"\")\n",
    "    res = \"\"\n",
    "    for w, x in zip(s_arr, s_sym):\n",
    "        res += w[0] + str(len(w) - 2) + w[-1] + x if len(w) >= 4 else w + x\n",
    "    return res\n",
    "\n",
    "# A tidier regex version\n",
    "\n",
    "import re\n",
    "\n",
    "regex = re.compile('[a-z]{4,}', re.IGNORECASE)\n",
    "\n",
    "def replace(match):\n",
    "    word = match.group(0)\n",
    "    return word[0] + str(len(word) - 2) + word[-1]\n",
    "\n",
    "def abbreviate(s):\n",
    "    return regex.sub(replace, s)"
   ]
  },
  {
   "cell_type": "code",
   "execution_count": null,
   "metadata": {},
   "outputs": [],
   "source": [
    "# https://www.codewars.com/kata/58d76854024c72c3e20000de/train/python\n",
    "\n",
    "def reverse_alternate(s):\n",
    "    return \" \".join(x[::-1] if i % 2 else x for i, x in enumerate(s.split()))"
   ]
  },
  {
   "cell_type": "code",
   "execution_count": null,
   "metadata": {},
   "outputs": [],
   "source": [
    "# https://www.codewars.com/kata/5890d8bc9f0f422cf200006b/train/python\n",
    "\n",
    "def excluding_vat_price(price):\n",
    "    if not isinstance(price, (int, float)): return -1\n",
    "    return round(price / 1.15, 2)\n",
    "\n",
    "# Also\n",
    "\n",
    "def excludingVatPrice(price):\n",
    "    return round(price / 1.15, 2) if price else -1"
   ]
  },
  {
   "cell_type": "code",
   "execution_count": null,
   "metadata": {},
   "outputs": [],
   "source": [
    "# https://www.codewars.com/kata/56a4addbfd4a55694100001f/train/python\n",
    "\n",
    "def validate_hello(s):\n",
    "    hello_arr = (\"hello\", \"ciao\", \"salut\", \"hallo\", \"hola\", \"ahoj\", \"czesc\")\n",
    "    return any(x in s.lower() for x in hello_arr)"
   ]
  },
  {
   "cell_type": "code",
   "execution_count": null,
   "metadata": {},
   "outputs": [],
   "source": [
    "# https://www.codewars.com/kata/58f5c63f1e26ecda7e000029/train/python\n",
    "\n",
    "def wave(s):\n",
    "    wave_arr = []\n",
    "    for i in range(len(s)):\n",
    "        if s[i] == \" \": continue\n",
    "        wave_arr.append(s[0:i] + s[i].upper() + s[i + 1:])\n",
    "    return wave_arr"
   ]
  },
  {
   "cell_type": "code",
   "execution_count": null,
   "metadata": {},
   "outputs": [],
   "source": [
    "# https://www.codewars.com/kata/56453a12fcee9a6c4700009c/train/python\n",
    "\n",
    "def close_compare(a, b, margin = 0):\n",
    "    return 0 if abs(a - b) <= margin else -1 if a < b else 1 "
   ]
  },
  {
   "cell_type": "code",
   "execution_count": null,
   "metadata": {},
   "outputs": [],
   "source": [
    "# https://www.codewars.com/kata/54eb33e5bc1a25440d000891/train/python\n",
    "\n",
    "def decompose(n, term_arr = None, x = None):\n",
    "    if x is None: x = n**2\n",
    "    if term_arr is None: term_arr = [n - 1]\n",
    "    elif term_arr == [1]: return None\n",
    "\n",
    "    m = term_arr[-1]\n",
    "    \n",
    "    if x - (m**2) == 0:\n",
    "        return term_arr[::-1]\n",
    "    elif m == 1:\n",
    "        term_arr.pop()\n",
    "        x += int(term_arr[-1]**2)\n",
    "        term_arr[-1] -= 1\n",
    "        return decompose(n, term_arr, x)\n",
    "    elif x - (m**2) < 0:\n",
    "        term_arr[-1] = int(x**0.5)\n",
    "        return decompose(n, term_arr, x)\n",
    "    else:\n",
    "        x -= int(m**2)\n",
    "        term_arr.append(m - 1)\n",
    "        return decompose(n, term_arr, x)\n",
    "\n",
    "# A more neat solution\n",
    "\n",
    "def decompose(n, a=None):\n",
    "    if a == None: a = n*n\n",
    "    if a == 0: return []\n",
    "    for m in range(min(n-1, int(a ** .5)), 0, -1):\n",
    "        sub = decompose(m, a - m*m)\n",
    "        if sub != None: return sub + [m]"
   ]
  },
  {
   "cell_type": "code",
   "execution_count": null,
   "metadata": {},
   "outputs": [],
   "source": [
    "# https://www.codewars.com/kata/53697be005f803751e0015aa/train/python\n",
    "\n",
    "def encode(s):\n",
    "    vowel_to_number = {\"a\": \"1\", \"e\": \"2\", \"i\": \"3\", \"o\": \"4\", \"u\": \"5\"}\n",
    "    encoding = str.maketrans(vowel_to_number)\n",
    "    return s.translate(encoding)\n",
    "    \n",
    "def decode(s):\n",
    "    number_to_vowel = {\"1\": \"a\", \"2\": \"e\", \"3\": \"i\", \"4\": \"o\", \"5\": \"u\"}\n",
    "    decoding = str.maketrans(number_to_vowel)\n",
    "    return s.translate(decoding)\n",
    "\n",
    "# Since the mapping and encoding/decoding tables are constant, they can be passed as variables to be possibly changed for different encodings\n",
    "\n",
    "def encode(s, t=str.maketrans(\"aeiou\", \"12345\")):\n",
    "    return s.translate(t)\n",
    "    \n",
    "def decode(s, t=str.maketrans(\"12345\", \"aeiou\")):\n",
    "    return s.translate(t)"
   ]
  },
  {
   "cell_type": "code",
   "execution_count": null,
   "metadata": {},
   "outputs": [],
   "source": [
    "# https://www.codewars.com/kata/534d0a229345375d520006a0/train/python\n",
    "\n",
    "def power_of_two(x):\n",
    "    while not int(str(int(x))[-1]) % 2 and x != 0:\n",
    "        x //= 2\n",
    "    return True if int(x) == 1 else False\n",
    "\n",
    "# bitwise operations are to be used here. This is a really clever solution, make sure to understand why.\n",
    "\n",
    "def power_of_two(x):\n",
    "    return x != 0 and ((x & (x - 1)) == 0)\n",
    "\n",
    "# Also, powers of two have a single '1' in binary representation\n",
    "\n",
    "def power_of_two(num):\n",
    "    return bin(num).count('1') == 1\n",
    " "
   ]
  },
  {
   "cell_type": "code",
   "execution_count": null,
   "metadata": {},
   "outputs": [],
   "source": [
    "# https://www.codewars.com/kata/57158fb92ad763bb180004e7/train/python\n",
    "\n",
    "def rain_amount(rain_amount):\n",
    "    if (rain_amount < 40):\n",
    "         return \"You need to give your plant \" + f\"{40 - rain_amount}\" + \"mm of water\"\n",
    "    else:\n",
    "         return \"Your plant has had more than enough water for today!\""
   ]
  },
  {
   "cell_type": "code",
   "execution_count": null,
   "metadata": {},
   "outputs": [],
   "source": [
    "# https://www.codewars.com/kata/5700c9acc1555755be00027e/train/python\n",
    "\n",
    "def contain_all_rots(s, arr):\n",
    "    return all(s[i:] + s[0:i] in arr for i in range(len(s)))"
   ]
  },
  {
   "cell_type": "code",
   "execution_count": null,
   "metadata": {},
   "outputs": [],
   "source": [
    "# https://www.codewars.com/kata/56484848ba95170a8000004d/train/python\n",
    "\n",
    "def gps(s, x):\n",
    "    speed_arr = []\n",
    "    for i in range(len(x) - 1):\n",
    "        speed_arr.append((x[i + 1] - x[i]) / s)\n",
    "    return max(speed_arr) * 3600 // 1 if len(x) > 1 else 0\n",
    "    "
   ]
  },
  {
   "cell_type": "code",
   "execution_count": null,
   "metadata": {},
   "outputs": [],
   "source": [
    "# https://www.codewars.com/kata/55b051fac50a3292a9000025/train/python\n",
    "\n",
    "import re\n",
    "\n",
    "def filter_string(s):\n",
    "    return int(\"\".join(re.findall(r\"\\d\", s)))\n",
    "\n",
    "def filter_string(s):\n",
    "    return int(\"\".join(d for d in s if d in \"0123456789\"))\n",
    "\n",
    "def filter_string(string):\n",
    "    return int(''.join(filter(str.isdigit, string)))"
   ]
  },
  {
   "cell_type": "code",
   "execution_count": null,
   "metadata": {},
   "outputs": [],
   "source": [
    "# https://www.codewars.com/kata/55e6f5e58f7817808e00002e/train/python\n",
    "\n",
    "def seven(m):\n",
    "    i = 0\n",
    "    while m // 100 and m > 0:\n",
    "        m = (m // 10) - (2 * (m % 10))\n",
    "        i += 1\n",
    "    return (m, i)\n",
    "\n",
    "# tbf my condition is bad, it could've been done like:\n",
    "\n",
    "def seven(m):\n",
    "    steps = 0\n",
    "    while m > 99: # instead of while m // 100 and m > 0:\n",
    "        q, r = divmod(m, 10)\n",
    "        m = q - (2 * r)\n",
    "        steps += 1\n",
    "    return m, steps"
   ]
  },
  {
   "cell_type": "code",
   "execution_count": null,
   "metadata": {},
   "outputs": [],
   "source": [
    "# https://www.codewars.com/kata/525c1a07bb6dda6944000031/train/python\n",
    "\n",
    "websites = [\"codewars\"] * 1000"
   ]
  },
  {
   "cell_type": "code",
   "execution_count": null,
   "metadata": {},
   "outputs": [],
   "source": [
    "# https://www.codewars.com/kata/580dda86c40fa6c45f00028a/train/python\n",
    "\n",
    "def cube_odd(arr):\n",
    "    try:\n",
    "        return sum(int(str(x))**3 * (x % 2) for x in arr)\n",
    "    except:\n",
    "        return None"
   ]
  },
  {
   "cell_type": "code",
   "execution_count": null,
   "metadata": {},
   "outputs": [],
   "source": [
    "# https://www.codewars.com/kata/57a386117cb1f31890000039/train/python\n",
    "\n",
    "def parse_float(string):\n",
    "    try: \n",
    "        return float(string)\n",
    "    except:\n",
    "        return None\n",
    "    "
   ]
  },
  {
   "cell_type": "code",
   "execution_count": null,
   "metadata": {},
   "outputs": [],
   "source": [
    "# https://www.codewars.com/kata/52adc142b2651f25a8000643/train/python\n",
    "\n",
    "class Sleigh(object):\n",
    "    def authenticate(self, name, password):\n",
    "        return True if name == \"Santa Claus\" and password == \"Ho Ho Ho!\" else False"
   ]
  },
  {
   "cell_type": "code",
   "execution_count": null,
   "metadata": {},
   "outputs": [],
   "source": [
    "# https://www.codewars.com/kata/55b75fcf67e558d3750000a3/solutions/python\n",
    "\n",
    "class Block:\n",
    "    def __init__(self, arr = [0, 0, 0]):\n",
    "        self.arr = arr\n",
    "    def get_width(self):\n",
    "        return self.arr[0]\n",
    "    def get_length(self):\n",
    "        return self.arr[1]\n",
    "    def get_height(self):\n",
    "        return self.arr[2]\n",
    "    def get_volume(self):\n",
    "        return self.arr[0] * self.arr[1] * self.arr[2]\n",
    "    def get_surface_area(self):\n",
    "        return 2 * self.arr[0] * self.arr[1] + 2 * self.arr[0] * self.arr[2] + 2 * self.arr[1] * self.arr[2]"
   ]
  },
  {
   "cell_type": "code",
   "execution_count": null,
   "metadata": {},
   "outputs": [],
   "source": [
    "# https://www.codewars.com/kata/58649884a1659ed6cb000072/train/python\n",
    "\n",
    "def update_light(s):\n",
    "    seq_map = {\"green\": \"yellow\", \"yellow\": \"red\", \"red\": \"green\"}\n",
    "    return seq_map[s]"
   ]
  },
  {
   "cell_type": "code",
   "execution_count": null,
   "metadata": {},
   "outputs": [],
   "source": [
    "# https://www.codewars.com/kata/57faf7275c991027af000679/train/python\n",
    "\n",
    "def remove(s, n):\n",
    "    return s.replace(\"!\", \"\", n)\n",
    "\n",
    "# If done manually:\n",
    "\n",
    "def remove(s, n):\n",
    "    out = []\n",
    "    for i in range(len(s)):\n",
    "        if s[i] == \"!\" and n: n -= 1\n",
    "        else: out.append(s[i])\n",
    "    return \"\".join(out)"
   ]
  },
  {
   "cell_type": "code",
   "execution_count": null,
   "metadata": {},
   "outputs": [],
   "source": [
    "# https://www.codewars.com/kata/59441520102eaa25260000bf/train/python\n",
    "\n",
    "def unusual_five():\n",
    "    return len((\"Mr.T\", \"Night Elf Mohawk\", \"MF DOOM\", \"Earl Sweatshirt\", \"Ka\"))"
   ]
  },
  {
   "cell_type": "code",
   "execution_count": null,
   "metadata": {},
   "outputs": [],
   "source": [
    "# https://www.codewars.com/kata/588a3c3ef0fbc9c8e1000095/train/python\n",
    "\n",
    "def max_diff(arr):\n",
    "    return max(arr) - min(arr) if arr else 0"
   ]
  },
  {
   "cell_type": "code",
   "execution_count": null,
   "metadata": {},
   "outputs": [],
   "source": [
    "# https://www.codewars.com/kata/580755730b5a77650500010c/train/python\n",
    "\n",
    "def sort_my_string(s):\n",
    "    # Your code here =)\n",
    "    return \"\".join([s[i] for i in range(0,len(s),2)]) + \" \" + \"\".join([s[i] for i in range(1,len(s),2)])\n",
    "\n",
    "# Oh, yeah, slicing and formatting... lol\n",
    "\n",
    "def sort_my_string(s):\n",
    "    return '{} {}'.format(s[::2], s[1::2])"
   ]
  },
  {
   "cell_type": "code",
   "execution_count": null,
   "metadata": {},
   "outputs": [],
   "source": [
    "# https://www.codewars.com/kata/55ccdf1512938ce3ac000056/train/python\n",
    "\n",
    "def is_loch_ness_monster(s):\n",
    "    return any(i in s for i in [\"tree fiddy\", \"three fifty\", \"3.50\"])"
   ]
  },
  {
   "cell_type": "code",
   "execution_count": null,
   "metadata": {},
   "outputs": [],
   "source": [
    "# https://www.codewars.com/kata/5aa1bcda373c2eb596000112/train/python\n",
    "\n",
    "def max_tri_sum(numbers):\n",
    "    return sum((sorted(list(dict.fromkeys(numbers))))[:-4:-1])"
   ]
  },
  {
   "cell_type": "code",
   "execution_count": null,
   "metadata": {},
   "outputs": [],
   "source": [
    "# https://www.codewars.com/kata/58dced7b702b805b200000be/train/python\n",
    "\n",
    "def distance_between_points(a, b):\n",
    "    return ((a.x-b.x)**2 + (a.y-b.y)**2 )**0.5\n"
   ]
  },
  {
   "cell_type": "code",
   "execution_count": null,
   "metadata": {},
   "outputs": [],
   "source": [
    "# https://www.codewars.com/kata/56e9e4f516bcaa8d4f001763/train/python\n",
    "\n",
    "def show_sequence(n):\n",
    "    return f\"{'+'.join(str(d) for d in range(n+1))} = {sum(range(n+1))}\" if n > 0 else \"0=0\" if n == 0 else f\"{n}<0\""
   ]
  },
  {
   "cell_type": "code",
   "execution_count": null,
   "metadata": {},
   "outputs": [],
   "source": [
    "# https://www.codewars.com/kata/57ecf6efc7fe13eb070000e1/train/python\n",
    "\n",
    "def outed(meet, boss):\n",
    "    return \"Nice Work Champ!\" if (sum(dict.values(meet)) + meet[boss]) / len(meet) > 5 else \"Get Out Now!\""
   ]
  },
  {
   "cell_type": "code",
   "execution_count": null,
   "metadata": {},
   "outputs": [],
   "source": [
    "# https://www.codewars.com/kata/57a6633153ba33189e000074/solutions/python\n",
    "\n",
    "def ordered_count(s):\n",
    "    l = []\n",
    "    for c in list(dict.fromkeys(s)):\n",
    "        l.append((c, s.count(c)))\n",
    "    return l"
   ]
  },
  {
   "cell_type": "code",
   "execution_count": null,
   "metadata": {},
   "outputs": [],
   "source": [
    "# https://www.codewars.com/kata/535474308bb336c9980006f2/train/python\n",
    "\n",
    "def greet(name): \n",
    "    return \"Hello {}!\".format(name.capitalize())"
   ]
  },
  {
   "cell_type": "code",
   "execution_count": null,
   "metadata": {},
   "outputs": [],
   "source": [
    "# https://www.codewars.com/kata/58712dfa5c538b6fc7000569/train/python\n",
    "\n",
    "def count_red_beads(n):\n",
    "    return (n - 1) * 2"
   ]
  },
  {
   "cell_type": "code",
   "execution_count": null,
   "metadata": {},
   "outputs": [],
   "source": [
    "# https://www.codewars.com/kata/57faece99610ced690000165/train/python\n",
    "\n",
    "import re\n",
    "\n",
    "def remove(s):\n",
    "    return re.sub(r\"!*$\", \"\", s)\n",
    "\n",
    "# Strip function I don't use:\n",
    "\n",
    "def remove(s):\n",
    "    return s.rstrip(\"!\")\n",
    "\n",
    "# Base solution:\n",
    "\n",
    "def remove(s):\n",
    "    while s and s[-1] == \"!\":\n",
    "        s = s[:-1]\n",
    "    return s\n",
    "    "
   ]
  },
  {
   "cell_type": "code",
   "execution_count": null,
   "metadata": {},
   "outputs": [],
   "source": [
    "import re\n",
    "\n",
    "def is_digit(n):\n",
    "    return bool(re.fullmatch(\"[0-9]\", n))\n",
    "\n",
    "# re.search looks for presence.\n",
    "# re.match tries to match from start to wherever, potentially leaving a tail.\n",
    "# re.fullmatch tries to match from start to end, no tails allowed."
   ]
  },
  {
   "cell_type": "code",
   "execution_count": null,
   "metadata": {},
   "outputs": [],
   "source": [
    "# https://www.codewars.com/kata/57613fb1033d766171000d60/train/python\n",
    "\n",
    "def uefa_euro_2016(teams, scores):\n",
    "    draw = scores[0] == scores[1]\n",
    "    return f\"At match {teams[0]} - {teams[1]}, {f'{teams[scores.index(max(scores))]} won!' * (not draw)}{f'teams played draw.' * draw}\""
   ]
  },
  {
   "cell_type": "code",
   "execution_count": null,
   "metadata": {},
   "outputs": [],
   "source": [
    "def to_float_array(arr): \n",
    "    return [float(i) for i in arr]"
   ]
  },
  {
   "cell_type": "code",
   "execution_count": null,
   "metadata": {},
   "outputs": [],
   "source": [
    "def positive_sum(arr):\n",
    "    return sum([x for x in arr if x > 0])\n",
    "\n",
    "# It would have been better to use a generator expression instead of a list comprehension, i.e.:\n",
    "# return sum(x for x in arr if x > 0)\n",
    "# more efficient and less memory usage"
   ]
  },
  {
   "cell_type": "code",
   "execution_count": null,
   "metadata": {},
   "outputs": [],
   "source": [
    "def binary_array_to_number(arr):\n",
    "    x = 0\n",
    "    for i in range(0, len(arr)):\n",
    "        x += 2 ** i if arr[::-1][i] == True else 0\n",
    "    return x\n",
    "\n",
    "# This is a more efficient way to do it:\n",
    "# return int(''.join(map(str, arr)), 2)\n",
    "# int has base parameter, so you can convert a string to an integer with a base of 2"
   ]
  },
  {
   "cell_type": "code",
   "execution_count": null,
   "metadata": {},
   "outputs": [],
   "source": [
    "    def DNA_strand(dna):\n",
    "    complementary_side = \"\"\n",
    "    for sym in dna:\n",
    "        if sym == \"A\": compl_sym = \"T\"\n",
    "        elif sym == \"T\": compl_sym = \"A\"\n",
    "        elif sym == \"C\": compl_sym = \"G\"\n",
    "        elif sym == \"G\": compl_sym = \"C\"\n",
    "        else: compl_sym = \"__UNDEFINED_SYMBOL__\"\n",
    "        complementary_side += compl_sym\n",
    "    return complementary_side\n",
    "\n",
    "# This is a more efficient way to do it using a dictionary:\n",
    "pairs = {'A':'T','T':'A','C':'G','G':'C'}\n",
    "def DNA_strand(dna):\n",
    "    return ''.join([pairs[x] for x in dna])\n",
    "\n",
    "# Or more clever using methods:\n",
    "def DNA_strand(dna):\n",
    "    return dna.translate(str.maketrans(\"ATCG\",\"TAGC\"))\n",
    "\n",
    "# why do we use maketrans instead of a dictionary?\n",
    "# maketrans is a method of the str class that creates a translation table that maps one character to another\n",
    "# it is more efficient than using a dictionary because it is a built-in method and it is optimized for this kind of operation\n",
    "# it is also more readable and concise"
   ]
  },
  {
   "cell_type": "code",
   "execution_count": null,
   "metadata": {},
   "outputs": [],
   "source": [
    "def rental_car_cost(d):\n",
    "    if d<3:\n",
    "        return 40*d\n",
    "    elif d>= 3 and d<7:\n",
    "        return 40*d - 20\n",
    "    else:\n",
    "        return 40*d -50\n",
    "    \n",
    "# This is a more efficient way to do it:\n",
    "def rental_car_cost(d):\n",
    "    result = d * 40\n",
    "    if d >= 7:\n",
    "        result -= 50\n",
    "    elif d >= 3:\n",
    "        result -= 20\n",
    "    return result\n",
    "    \n",
    "# This is a more clever way to do it:\n",
    "def rental_car_cost(d):\n",
    "    return d*40 - (d>2)*20 - (d>6)*30"
   ]
  },
  {
   "cell_type": "code",
   "execution_count": null,
   "metadata": {},
   "outputs": [],
   "source": [
    "def unique_in_order(sequence): # Orders a string or list or tuple into a list in a way that no two adjacent elements are added, but the original order is left the same\n",
    "    if not len(sequence):\n",
    "        return []\n",
    "    sequence_in_order = [sequence[:][0]]\n",
    "    for element in sequence[1:]:\n",
    "        if element == sequence_in_order[-1]:\n",
    "            continue\n",
    "        else:\n",
    "            sequence_in_order.append(element)\n",
    "    return sequence_in_order\n",
    "\n",
    "# Could have made it a lot more readable:\n",
    "def unique_in_order(iterable):\n",
    "    result = []\n",
    "    prev = None\n",
    "    for char in iterable[0:]:\n",
    "        if char != prev:\n",
    "            result.append(char)\n",
    "            prev = char\n",
    "    return result"
   ]
  },
  {
   "cell_type": "code",
   "execution_count": null,
   "metadata": {},
   "outputs": [],
   "source": [
    "def dig_pow(n, p):\n",
    "    n_str = str(n)\n",
    "    n_list = [int(digit) for digit in n_str]\n",
    "    for i in range(0, len(n_list)):\n",
    "        n_list[i] = n_list[i] ** (p + i)\n",
    "    sq_sum = sum(n_list)\n",
    "    sum_div_by_n = sq_sum / n\n",
    "    return sum_div_by_n if int(sum_div_by_n) == sum_div_by_n else -1\n",
    "\n",
    "# Good instinct to get number into string, but the conversion into list was unnecessary. Maybe a second try would be:\n",
    "def dig_pow(n, p):\n",
    "    c = 0\n",
    "    for i, j in enumerate(str(n)):\n",
    "        c += pow(int(j), p+i)\n",
    "    return c / n if c % n == 0 else -1"
   ]
  },
  {
   "cell_type": "code",
   "execution_count": null,
   "metadata": {},
   "outputs": [],
   "source": [
    "def row_sum_odd_numbers(n):\n",
    "    k = 1\n",
    "    l = 0\n",
    "    for i in range(0, n):\n",
    "        k += i * 2\n",
    "        l += i * 2\n",
    "    c = n * k + l\n",
    "    return c\n",
    "    \n",
    "\n",
    "# According to a fact from mathematics - for every power k >= 2 of a number n can be expressed as a specific sum of a sequence of odd numbers (see )\n",
    "\n",
    "def row_sum_odd_numbers(n):\n",
    "    #your code here\n",
    "    return n ** 3"
   ]
  },
  {
   "cell_type": "code",
   "execution_count": null,
   "metadata": {},
   "outputs": [],
   "source": [
    "def alphabet_position(text):\n",
    "    a=ord('a')\n",
    "    alph = [chr(i) for i in range(a,a+26)]\n",
    "    return \" \".join([str(alph.index(letter) + 1) for letter in text.lower() if letter in alph])"
   ]
  },
  {
   "cell_type": "code",
   "execution_count": null,
   "metadata": {},
   "outputs": [],
   "source": [
    "def basic_op(operator, value1, value2):\n",
    "    if operator == '+':\n",
    "        res = value1 + value2\n",
    "    elif operator == '-':\n",
    "        res = value1 - value2\n",
    "    elif operator == '*':\n",
    "        res = value1 * value2\n",
    "    elif operator == '/':\n",
    "        res = value1 / value2\n",
    "    else:\n",
    "        pass\n",
    "    return res\n"
   ]
  },
  {
   "cell_type": "code",
   "execution_count": null,
   "metadata": {},
   "outputs": [],
   "source": [
    "def are_you_playing_banjo(name):\n",
    "    \n",
    "    if name[0].lower() == 'r':\n",
    "        return f'{name} plays banjo'\n",
    "    else:\n",
    "        return f'{name} does not play banjo'"
   ]
  },
  {
   "cell_type": "code",
   "execution_count": null,
   "metadata": {},
   "outputs": [],
   "source": [
    "def delete_nth(order,max_e):\n",
    "    motif_dict = dict()\n",
    "    order_truncated = []\n",
    "    for motif in set(order):\n",
    "        motif_dict[motif] = [motif] * max_e\n",
    "    for i in order:\n",
    "        if motif_dict[i]:\n",
    "            order_truncated.append(i)\n",
    "            motif_dict[i] = motif_dict[i][1:]\n",
    "    return order_truncated"
   ]
  },
  {
   "cell_type": "code",
   "execution_count": null,
   "metadata": {},
   "outputs": [],
   "source": [
    "def longest_consec(strarr, k):\n",
    "    concats = []\n",
    "    for i in range(len(strarr) - k + 1):\n",
    "        conc = \"\"\n",
    "        for j in range(k):\n",
    "            conc += strarr[i + j]\n",
    "        concats.append(conc)\n",
    "    return max(concats, key = len) if len(concats) > 0 else \"\"\n",
    "\n",
    "# This could have been done a tad bit slicker with slicing the range\n",
    "def longest_consec(strarr, k):\n",
    "    concats = []\n",
    "    for i in range(len(strarr) - k + 1):\n",
    "        conc = \"\".join(strarr[i:i+k])\n",
    "        concats.append(conc)\n",
    "    return max(concats, key = len) if len(concats) > 0 and k > 0 else \"\"\n",
    "\n"
   ]
  },
  {
   "cell_type": "code",
   "execution_count": null,
   "metadata": {},
   "outputs": [],
   "source": [
    "def invert(lst):\n",
    "    return [-x for x in lst]"
   ]
  },
  {
   "cell_type": "code",
   "execution_count": null,
   "metadata": {},
   "outputs": [],
   "source": [
    "def reverse_words(text):\n",
    "    return \" \".join([x[::-1] for x in text.split(\" \")])\n",
    "# the iterator gets called on .join so the array brackets are perhaps extra\n",
    "def reverse_words(text):\n",
    "    return \" \".join(x[::-1] for x in text.split(\" \"))"
   ]
  },
  {
   "cell_type": "code",
   "execution_count": null,
   "metadata": {},
   "outputs": [],
   "source": [
    "def get_count(sentence): # count vowels aeiou in string\n",
    "    return sum( 1 for char in sentence if char in ['a','e','i', 'o','u'])"
   ]
  },
  {
   "cell_type": "code",
   "execution_count": null,
   "metadata": {},
   "outputs": [],
   "source": [
    "def better_than_average(class_points, your_points):\n",
    "    return sum(class_points)/len(class_points) < your_points\n",
    "\n",
    "# A user noticed that class_points array did not have your_points in the avg\n",
    "# and so accounted for that in the solution\n",
    "# The reason why the faulty logic one works is that in both cases -\n",
    "# wether your_points increases the average or decreases the average\n",
    "# the true/false statement will be the same\n",
    "\n",
    "def better_than_average(class_points, your_points):\n",
    "    average = (sum(class_points) + your_points) / (len(class_points) + 1)\n",
    "    return your_points > average\n"
   ]
  },
  {
   "cell_type": "code",
   "execution_count": null,
   "metadata": {},
   "outputs": [],
   "source": [
    "def find_even_index(arr):\n",
    "    return next((i for i in range(len(arr)) if sum(arr[:i + 1]) == sum(arr[i:])), -1)\n",
    "# One can make it even slicker:\n",
    "find_even_index = lambda arr: next((i for i, __ in enumerate(arr) if sum(arr[:i]) == sum(arr[i+1:])), -1)\n",
    "# And if we go the more readable best practice path:\n",
    "def find_even_index(arr):\n",
    "    for i in range(len(arr)):\n",
    "        if sum(arr[:i]) == sum(arr[i+1:]):\n",
    "            return i\n",
    "    return -1\n"
   ]
  },
  {
   "cell_type": "code",
   "execution_count": null,
   "metadata": {},
   "outputs": [],
   "source": [
    "def count_positives_sum_negatives(arr):\n",
    "    return [sum(1 for n in arr if n > 0), sum(n for n in arr if n < 0)] if len(arr) > 0 else []"
   ]
  },
  {
   "cell_type": "code",
   "execution_count": null,
   "metadata": {},
   "outputs": [],
   "source": [
    "def find_short(s):\n",
    "    return len(min(s.split(\" \"), key = len))\n",
    "# A prettier solution:\n",
    "def find_short(s):\n",
    "    return min(len(x) for x in s.split())"
   ]
  },
  {
   "cell_type": "code",
   "execution_count": null,
   "metadata": {},
   "outputs": [],
   "source": [
    "def odd_or_even(arr):\n",
    "    if sum(arr) % 2:\n",
    "        return \"odd\"\n",
    "    else:\n",
    "        return \"even\"\n",
    "\n",
    "# slicker yet:\n",
    "\n",
    "def oddOrEven(arr):\n",
    "    return 'even' if sum(arr) % 2 == 0 else 'odd'\n"
   ]
  },
  {
   "attachments": {
    "image.png": {
     "image/png": "[encoded data removed]"
    }
   },
   "cell_type": "markdown",
   "metadata": {},
   "source": [
    "![alt text](image.png)\n",
    "![image.png](attachment:image.png)"
   ]
  },
  {
   "cell_type": "code",
   "execution_count": null,
   "metadata": {},
   "outputs": [],
   "source": [
    "def snail(array):\n",
    "    result = []\n",
    "    n = len(array)\n",
    "    m = n\n",
    "    k = 0\n",
    "    while m > k:\n",
    "        result.extend(array[k][k:m])\n",
    "        result.extend(row[(m-1)] for row in array[(k + 1):(m - 1)])\n",
    "        if m - k != 1:\n",
    "            result.extend(array[(m-1)][(-k-1):(-m-1):-1])\n",
    "        result.extend(row[k] for row in array[-k-2:-m:-1])\n",
    "        m -= 1\n",
    "        k += 1\n",
    "    return result\n",
    "\n",
    "# A regular solution:\n",
    "\n",
    "def snail(array):\n",
    "    result = []\n",
    "    if array and array[0]:\n",
    "        n = len(array)\n",
    "        for i in range((n + 1)  // 2):\n",
    "            j = n - i\n",
    "            for x in range(i, j):\n",
    "                result.append(array[i][x])\n",
    "            for y in range((i + 1), j):\n",
    "                result.append(array[y][j - 1])\n",
    "            for x in range((i + 2), (j + 1)):\n",
    "                result.append(array[j - 1][-x])\n",
    "            for y in range((i + 2), (j)):\n",
    "                result.append(array[-y][i])\n",
    "    return result\n",
    "\n",
    "\n",
    "# A beautiful pop solution:\n",
    "\n",
    "def snail(array):\n",
    "    res = []\n",
    "    while len(array) > 1:\n",
    "        res = res + array.pop(0)\n",
    "        res = res + [row.pop(-1) for row in array]\n",
    "        res = res + list(reversed(array.pop(-1)))\n",
    "        res = res + [row.pop(0) for row in array[::-1]]\n",
    "    return res if not array else res + array[0]\n",
    "\n",
    "# A numpy solution:\n",
    "\n",
    "import numpy as np\n",
    "\n",
    "def snail(array):\n",
    "    m = []\n",
    "    array = np.array(array)\n",
    "    while len(array) > 0:\n",
    "        m += array[0].tolist()\n",
    "        array = np.rot90(array[1:])\n",
    "    return m"
   ]
  },
  {
   "cell_type": "code",
   "execution_count": null,
   "metadata": {},
   "outputs": [],
   "source": [
    "def cakes(recipe, available):\n",
    "    least_multiple = float(\"inf\")\n",
    "    if recipe.keys() <= available.keys():\n",
    "        for item in recipe:\n",
    "            item_multiple = available[item] // recipe[item]\n",
    "            least_multiple = min(item_multiple, least_multiple)\n",
    "        return least_multiple\n",
    "    else:\n",
    "        return 0\n",
    "    \n",
    "# A good way to deal with the availability of item that is needed in recipe is using .get() method, it gets the key value if it exists and returns None or\n",
    "# specified value otherwise:\n",
    "\n",
    "def cakes(recipe, available):\n",
    "\treturn min(available.get(k, 0)/recipe[k] for k in recipe)"
   ]
  },
  {
   "cell_type": "code",
   "execution_count": null,
   "metadata": {},
   "outputs": [],
   "source": [
    "# Omitted\n",
    "\n",
    "# A more straightforward approach using the same logic that each multiple of 5 in the number adds a zero (multiples of 2 are abundant), hence we count the number\n",
    "# of multiples of 5 in n, add that. As multiples of 25 add 5x5 to the product in the factor, it adds two zeros. One is already accounted for when counting multiples\n",
    "# of 5, the other we account for by counting the number of multiples of 25 in n.\n",
    "# By doing this for all powers of 5 less or equal to n itself we find out the exact number of 5 in the product \n",
    "\n",
    "def zeros(n):\n",
    "    zeros = 0\n",
    "    i = 5\n",
    "    while i <= n:\n",
    "        zeros += n // i\n",
    "        i *= 5\n",
    "    return zeros"
   ]
  },
  {
   "cell_type": "code",
   "execution_count": null,
   "metadata": {},
   "outputs": [],
   "source": [
    "def prime_factors(n): # This is disgusting but it works well\n",
    "    primes = dict()\n",
    "    result = \"\"\n",
    "    for k in range(2, int(n**0.5) + 1):\n",
    "        if n == 1: break\n",
    "        if k > 7 and str(k)[-1] not in {\"1\", \"3\", \"7\", \"9\"}:\n",
    "            continue\n",
    "        skip_k = False\n",
    "        for l in range(2, int(k**0.5) + 1):\n",
    "            if k % l == 0:\n",
    "                skip_k = True\n",
    "                break\n",
    "        if skip_k: continue\n",
    "        if n % k == 0:\n",
    "            primes[k] = 0\n",
    "            while n % k == 0:\n",
    "                n /= k\n",
    "                primes[k] += 1\n",
    "        else: pass\n",
    "    if n > 1: primes[int(n)] = 1\n",
    "    for prime in primes:\n",
    "        if primes[prime] == 1:\n",
    "            result += f\"({prime})\"\n",
    "        else:\n",
    "            result += f\"({prime}**{primes[prime]})\"\n",
    "    return result"
   ]
  },
  {
   "cell_type": "code",
   "execution_count": null,
   "metadata": {},
   "outputs": [],
   "source": [
    "def sudoku(array):\n",
    "    array_t = [[] for i in range(9)]\n",
    "    x_information = dict()\n",
    "    x_grid = dict()\n",
    "    for i in range(9):\n",
    "        for j in range(9):\n",
    "            array_t[i].append(array[j][i])\n",
    "    for i in range(0,9,3):\n",
    "        for j in range(0,9,3):\n",
    "            sub_sq = set()\n",
    "            sub_grid = set()\n",
    "            for k in range(i, i + 3):\n",
    "                for l in range(j, j + 3):\n",
    "                    sub_sq.add(array[k][l])\n",
    "                    sub_grid.add((k,l))\n",
    "            for v in range(i, i + 3):\n",
    "                for r in range(j, j + 3):\n",
    "                    x_information[(v, r)] = sub_sq\n",
    "                    x_grid[(v, r)] = sub_grid\n",
    "                    x_information[(v, r)] = x_information[(v, r)].union(set(array[v]))\n",
    "                    x_information[(v, r)].update(row[r] for row in array)\n",
    "    while next((x for x in x_information if array[x[0]][x[1]] == 0 and len(x_information[x]) == 9), False):\n",
    "        x = next((x for x in x_information if array[x[0]][x[1]] == 0 and len(x_information[x]) == 9), False)\n",
    "        dx_val = (45 - sum(x_information[x]))\n",
    "        for i, y in enumerate(x_grid[x]):\n",
    "            x_information[y].add(dx_val)\n",
    "            x_information[(i, x[1])].add(dx_val)\n",
    "            x_information[(x[0], i)].add(dx_val)\n",
    "        array[x[0]][x[1]] = dx_val\n",
    "    return (array)\n",
    "\n",
    "# A manyfold more elegant approach:\n",
    "\n",
    "def sudoku(P):\n",
    "    for row, col in [(r, c) for r in range(9) for c in range(9) if not P[r][c]]:\n",
    "        rr, cc = (row // 3) * 3, (col // 3) * 3\n",
    "\n",
    "        use = {1,2,3,4,5,6,7,8,9} - ({P[row][c] for c in range(9)} | {P[r][col] for r in range(9)} | {P[rr + r][cc + c] for r in range(3) for c in range(3)})\n",
    "\n",
    "        if len(use) == 1:\n",
    "            P[row][col] = use.pop()\n",
    "            return sudoku(P)\n",
    "    return P\n"
   ]
  },
  {
   "cell_type": "code",
   "execution_count": null,
   "metadata": {},
   "outputs": [],
   "source": [
    "def is_pangram(string):\n",
    "    a=ord('a')\n",
    "    alph = {chr(i) for i in range(a,a+26)}\n",
    "    string_letters = alph & set(string.lower())\n",
    "    return not alph - string_letters"
   ]
  },
  {
   "cell_type": "code",
   "execution_count": null,
   "metadata": {},
   "outputs": [],
   "source": [
    "def goals(lg1, lg2, lg3):\n",
    "    return lg1 + lg2 + lg3\n",
    "\n",
    "# But we can use *args (**kwargs exist asw)\n",
    "\n",
    "def goals(*a)\n",
    "    return sum(a)"
   ]
  },
  {
   "cell_type": "code",
   "execution_count": null,
   "metadata": {},
   "outputs": [],
   "source": [
    "def to_alternating_case(string):\n",
    "    return \"\".join(l.upper() if l.islower() else l.lower() for l in string)\n",
    "\n",
    "# There's a method .swapcase()\n",
    "\n",
    "def to_alternating_case(string):\n",
    "    return string.swapcase()"
   ]
  },
  {
   "cell_type": "code",
   "execution_count": null,
   "metadata": {},
   "outputs": [],
   "source": [
    "def sum_two_smallest_numbers(arr):\n",
    "    return arr.pop(arr.index(min(arr))) + arr.pop(arr.index(min(arr)))\n",
    "\n",
    "# but it could've been made more readable:\n",
    "\n",
    "def sum_two_smallest_numbers(arr):\n",
    "    return sum(sorted(arr)[:2])"
   ]
  },
  {
   "cell_type": "code",
   "execution_count": null,
   "metadata": {},
   "outputs": [],
   "source": [
    "def double_char(str):\n",
    "    return \"\".join(x*2 for x in str)"
   ]
  },
  {
   "cell_type": "code",
   "execution_count": null,
   "metadata": {},
   "outputs": [],
   "source": [
    "def sort_array(arr):\n",
    "    odd_arr = sorted([x for x in arr if x % 2 == 1])\n",
    "    for i, x in enumerate(arr):\n",
    "        if x % 2 == 1:\n",
    "            arr[i] = odd_arr.pop(0)\n",
    "    return arr\n",
    "\n",
    "# Keep forgetting that conditional statement can have an else clause in generator expression if the clause comes before the for loop \n",
    "\n",
    "def sort_array(arr):\n",
    "    odd_arr = sorted([x for x in arr if x % 2 == 1])\n",
    "    return [x if x % 2 else odd_arr.pop(0) for x in arr]"
   ]
  },
  {
   "cell_type": "code",
   "execution_count": null,
   "metadata": {},
   "outputs": [],
   "source": [
    "def sum_str(a, b):\n",
    "    if a == \"\":\n",
    "        a = \"0\"\n",
    "    if b == \"\":\n",
    "        b = \"0\"\n",
    "    return str(sum([int(a), int(b)]))\n",
    "\n",
    "# A tighter solution\n",
    "\n",
    "def sum_str(a, b):\n",
    "    return str(int(a or 0) + int(b or 0))"
   ]
  },
  {
   "cell_type": "code",
   "execution_count": null,
   "metadata": {},
   "outputs": [],
   "source": [
    "import re\n",
    "\n",
    "def solution(s):\n",
    "    return re.sub(r'([A-Z])', r' \\1', s)\n",
    "\n",
    "# a regular solution\n",
    "\n",
    "def solution(str):\n",
    "    return \"\".join(\" \" + c if c.isupper() else c for c in str)"
   ]
  },
  {
   "cell_type": "code",
   "execution_count": null,
   "metadata": {},
   "outputs": [],
   "source": [
    "def bool_to_word(bool):\n",
    "    return \"Yes\" if bool else \"No\""
   ]
  },
  {
   "cell_type": "code",
   "execution_count": null,
   "metadata": {},
   "outputs": [],
   "source": [
    "def add_binary(a,b):\n",
    "    sum = a + b\n",
    "    max_d = 0\n",
    "    bin_arr = []\n",
    "    while sum >= 2 ** (max_d + 1):\n",
    "        max_d += 1\n",
    "    for d in range(max_d, -1, -1):\n",
    "        if sum - 2 ** d >= 0:\n",
    "            bin_arr.append(1)\n",
    "            sum -= 2 ** d\n",
    "        else:\n",
    "            bin_arr.append(0)\n",
    "    return \"\".join(str(x) for x in bin_arr)\n",
    "\n",
    "# The function is perhaps quite good, but should be factored out into two functions - one to get the maximum degree to be used later and one for the original result.\n",
    "\n",
    "# There is a function for turning numbers into binary bin(), slicing [2:] is for taking off prefix 0b:\n",
    "\n",
    "def add_binary(a,b):\n",
    "    return bin(a+b)[2:]"
   ]
  },
  {
   "cell_type": "code",
   "execution_count": null,
   "metadata": {},
   "outputs": [],
   "source": [
    "def correct(s):\n",
    "    s=s.replace('0','O')\n",
    "    s=s.replace('5','S')\n",
    "    s=s.replace('1','I')\n",
    "    return s\n",
    "\n",
    "# There is a method for replacing multiple symbols in one go\n",
    "\n",
    "def correct(string):\n",
    "    return string.translate(str.maketrans(\"501\", \"SOI\"))    "
   ]
  },
  {
   "cell_type": "code",
   "execution_count": null,
   "metadata": {},
   "outputs": [],
   "source": [
    "def solution(args):\n",
    "    arr = []\n",
    "    while args:\n",
    "        i = args.pop(0)\n",
    "        if args and args[1:] and args[0] - i == 1 and args[1] - i == 2:\n",
    "            args.pop(0)\n",
    "            j = args.pop(0)\n",
    "            while args and args[0] - j == 1:\n",
    "                j = args.pop(0)\n",
    "            arr.append(f\"{i}-{j},\")\n",
    "        else:\n",
    "            arr.append(f\"{i},\")\n",
    "    result = \"\".join(x for x in arr)\n",
    "    return result[:-1]"
   ]
  },
  {
   "cell_type": "code",
   "execution_count": null,
   "metadata": {},
   "outputs": [],
   "source": [
    "def solution(text, ending):\n",
    "    return text[-len(ending):] == ending\n",
    "\n",
    "# There is a method for the same functionality\n",
    "\n",
    "def solution(string, ending):\n",
    "    return string.endswith(ending)"
   ]
  },
  {
   "cell_type": "code",
   "execution_count": null,
   "metadata": {},
   "outputs": [],
   "source": [
    "def dna_to_rna(dna):\n",
    "    return dna.translate(str.maketrans('T','U'))\n",
    "\n",
    "# For one letter, a simpler method can be used\n",
    "\n",
    "def dna_to_rna(dna):\n",
    "    return dna.translate(\"T\", \"U\")"
   ]
  },
  {
   "cell_type": "code",
   "execution_count": null,
   "metadata": {},
   "outputs": [],
   "source": [
    "def powers_of_two(n):\n",
    "    return [2 ** i for i in range(n+1)]"
   ]
  },
  {
   "cell_type": "code",
   "execution_count": null,
   "metadata": {},
   "outputs": [],
   "source": [
    "def sum_mix(arr):\n",
    "    return sum(int(x) for x in arr)\n",
    "\n",
    "# A bit more elegant:\n",
    "\n",
    "def sum_mix(arr):\n",
    "    return sum(map(int, arr))"
   ]
  },
  {
   "cell_type": "code",
   "execution_count": null,
   "metadata": {},
   "outputs": [],
   "source": [
    "def final_grade(exam, projects):\n",
    "    if exam > 90 or projects > 10:\n",
    "        return 100\n",
    "    elif exam > 75 and projects >= 5:\n",
    "        return 90\n",
    "    elif exam > 50 and projects >= 2:\n",
    "        return 75\n",
    "    else:\n",
    "        return 0"
   ]
  },
  {
   "cell_type": "code",
   "execution_count": null,
   "metadata": {},
   "outputs": [],
   "source": [
    "def min_max(arr):\n",
    "    return [min(arr), max(arr)]"
   ]
  },
  {
   "cell_type": "code",
   "execution_count": null,
   "metadata": {},
   "outputs": [],
   "source": [
    "def tower_builder(n_floors):\n",
    "    result = []\n",
    "    for i in range(1, n_floors + 1):\n",
    "        space = ' ' * (n_floors - i)\n",
    "        bricks = \"*\" * (2 * i - 1)\n",
    "        result.append(f\"{space}{bricks}{space}\")\n",
    "    return result\n",
    "\n",
    "# An intriguing method makes it straightforward:\n",
    "\n",
    "def tower_builder(n):\n",
    "    return [(\"*\" * (i*2-1)).center(n*2-1) for i in range(1, n+1)]"
   ]
  },
  {
   "cell_type": "code",
   "execution_count": null,
   "metadata": {},
   "outputs": [],
   "source": [
    "def switch_it_up(number):\n",
    "    match number:\n",
    "        case 0:\n",
    "            return \"Zero\"\n",
    "        case 1:\n",
    "            return \"One\"\n",
    "        case 2:\n",
    "            return \"Two\"\n",
    "        case 3:\n",
    "            return \"Three\"\n",
    "        case 4:\n",
    "            return \"Four\"\n",
    "        case 5:\n",
    "            return \"Five\"\n",
    "        case 6:\n",
    "            return \"Six\"\n",
    "        case 7:\n",
    "            return \"Seven\"\n",
    "        case 8:\n",
    "            return \"Eight\"\n",
    "        case 9:\n",
    "            return \"Nine\"\n",
    "        case _:\n",
    "            return \"Other\"\n",
    "        \n",
    "# If not using a switch statement, we can simply use a good old array solution\n",
    "\n",
    "def switch_it_up(n):\n",
    "    return ['Zero','One','Two','Three','Four','Five','Six','Seven','Eight','Nine'][n]\n",
    "\n",
    "# Or dictionary for clearer mapping\n",
    "\n",
    "def switch_it_up(number):\n",
    "    number_converter={0:\"Zero\",1:\"One\",2:\"Two\",3:\"Three\",4:\"Four\",5:\"Five\",6:\"Six\",7:\"Seven\",8:\"Eight\",9:\"Nine\"}\n",
    "    return number_converter[number]"
   ]
  },
  {
   "cell_type": "code",
   "execution_count": null,
   "metadata": {},
   "outputs": [],
   "source": [
    "def feast(beast, dish):\n",
    "    return beast[0] == dish[0] and beast[-1] == dish[-1]"
   ]
  },
  {
   "cell_type": "code",
   "execution_count": null,
   "metadata": {},
   "outputs": [],
   "source": [
    "def twice_as_old(dad_years_old, son_years_old):\n",
    "    dad_age = dad_years_old - son_years_old\n",
    "    son_age = 0\n",
    "    while dad_age > 2 * son_age:\n",
    "        dad_age += 1\n",
    "        son_age += 1\n",
    "    return abs(dad_age - dad_years_old)\n",
    "\n",
    "# A simple difference could have done the job\n",
    "# As y_f = x + (d-s)\n",
    "# y_s = x\n",
    "# y_f/y_s = (x + (d-s)) / x\n",
    "# y_f/y_s = 2\n",
    "# (x + (d-s)) / x = 2\n",
    "# x = d-s-s = d-2s\n",
    "\n",
    "def twice_as_old(d, s):\n",
    "    return abs(d-2*s)"
   ]
  },
  {
   "cell_type": "code",
   "execution_count": null,
   "metadata": {},
   "outputs": [],
   "source": [
    "geese = [\"African\", \"Roman Tufted\", \"Toulouse\", \"Pilgrim\", \"Steinbacher\"]\n",
    "def goose_filter(birds):\n",
    "    return [x for x in birds if x not in geese]"
   ]
  },
  {
   "cell_type": "code",
   "execution_count": null,
   "metadata": {},
   "outputs": [],
   "source": [
    "def how_much_i_love_you(nb_petals):\n",
    "    return [\"not at all\", \"I love you\", \"a little\", \"a lot\", \"passionately\", \"madly\"][nb_petals % 6]\n",
    "\n",
    "# A more in line with the task order solution with a subtle difference:\n",
    "\n",
    "def how_much_i_love_you(nb_petals):\n",
    "    return [\"I love you\", \"a little\", \"a lot\", \"passionately\", \"madly\", \"not at all\"][nb_petals % 6 - 1] #g"
   ]
  },
  {
   "cell_type": "code",
   "execution_count": null,
   "metadata": {},
   "outputs": [],
   "source": [
    "def two_sum(numbers, target):\n",
    "    for i, x in enumerate(numbers):\n",
    "        diff = target - x\n",
    "        try:\n",
    "            j = numbers.index(diff)\n",
    "            if j != i:\n",
    "                return [i, j]\n",
    "        except ValueError:\n",
    "            continue\n",
    "\n",
    "# Perhaps the solution was a bit more difficult as if you were doing a regular double for loop search or an if statement inside the original one, you should get\n",
    "# the same time complexity\n",
    "\n",
    "def two_sum(nums, t):\n",
    "    for i, x in enumerate(nums):\n",
    "        for j, y in enumerate(nums):\n",
    "            if i != j and x + y == t:\n",
    "                return [i, j]\n",
    "            \n",
    "def two_sum(nums, target):\n",
    "    d = {}\n",
    "    for i, num in enumerate(nums):\n",
    "        diff = target - num\n",
    "        if diff in d:\n",
    "            return [d[diff], i]\n",
    "        d[num] = i"
   ]
  },
  {
   "cell_type": "code",
   "execution_count": null,
   "metadata": {},
   "outputs": [],
   "source": [
    "def divisors(n):\n",
    "    res = 1\n",
    "    for i in range(1, (n // 2) + 1):\n",
    "        if n % i == 0:\n",
    "            res += 1\n",
    "    return res\n",
    "\n",
    "# A slicker suggested way:\n",
    "\n",
    "def divisors(n):\n",
    "    return len([l_div for l_div in range(1, n + 1) if n % l_div == 0]);\n",
    "\n",
    "# But then checking for numbers between n//2 and n will always filter out, so we can half the calculation time:\n",
    "\n",
    "def divisors(n):\n",
    "    return len([l_div for l_div in range(1, n // 2 + 1) if n % l_div == 0]) + 1;\n",
    "\n",
    "# Even more so we can check numbers up to sqrt(n) and add the pair divisor\n",
    "\n",
    "def divisors(n):\n",
    "    return len([d for s in range(1, int(n**0.5) + 1) if n % s == 0\n",
    "                for d in ([s, n / s] if s * s != n else [s])])"
   ]
  },
  {
   "cell_type": "code",
   "execution_count": null,
   "metadata": {},
   "outputs": [],
   "source": [
    "def find_it(arr):\n",
    "    for i in set(arr):\n",
    "        if arr.count(i) % 2:\n",
    "            return i\n",
    "    return None"
   ]
  },
  {
   "cell_type": "code",
   "execution_count": null,
   "metadata": {},
   "outputs": [],
   "source": [
    "def is_square(n):    \n",
    "    return True if n >= 0 and n ** (1 / 2) == n ** (1 / 2) // 1 else False\n",
    "\n",
    "# Can be done more simply as you can just take the statement itself as the result rather than conditioning on it \n",
    "# (give true if statement true else false => give statement true/false)\n",
    "\n",
    "def is_square(n):    \n",
    "    return n >= 0 and (n**0.5) % 1 == 0"
   ]
  },
  {
   "cell_type": "code",
   "execution_count": null,
   "metadata": {},
   "outputs": [],
   "source": [
    "def get_age(age):\n",
    "    return int(age[0])"
   ]
  },
  {
   "cell_type": "code",
   "execution_count": null,
   "metadata": {},
   "outputs": [],
   "source": [
    "def count(s):\n",
    "    result = {c : 0 for c in set(s)}\n",
    "    for c in s:\n",
    "        result[c] += 1\n",
    "    return result\n",
    "\n",
    "# The counting could be done on the making of the dictionary\n",
    "\n",
    "def count(string):\n",
    "    return {c: string.count(c) for c in string}"
   ]
  },
  {
   "cell_type": "code",
   "execution_count": null,
   "metadata": {},
   "outputs": [],
   "source": [
    "def boolean_to_string(b):\n",
    "    return f\"{b}\"\n",
    "\n",
    "# A more classic way\n",
    "\n",
    "def boolean_to_string(b):\n",
    "    return str(b)"
   ]
  },
  {
   "cell_type": "code",
   "execution_count": null,
   "metadata": {},
   "outputs": [],
   "source": [
    "import numpy as np\n",
    "def find_difference(a, b):\n",
    "    return abs(np.prod(a) - np.prod(b))"
   ]
  },
  {
   "cell_type": "code",
   "execution_count": null,
   "metadata": {},
   "outputs": [],
   "source": [
    "db = [ (\"english\", \"Welcome\")\n",
    ", (\"czech\", \"Vitejte\")\n",
    ", (\"danish\", \"Velkomst\")\n",
    ", (\"dutch\", \"Welkom\")\n",
    ", (\"estonian\", \"Tere tulemast\")\n",
    ", (\"finnish\", \"Tervetuloa\")\n",
    ", (\"flemish\", \"Welgekomen\")\n",
    ", (\"french\", \"Bienvenue\")\n",
    ", (\"german\", \"Willkommen\")\n",
    ", (\"irish\", \"Failte\")\n",
    ", (\"italian\", \"Benvenuto\")\n",
    ", (\"latvian\", \"Gaidits\")\n",
    ", (\"lithuanian\", \"Laukiamas\")\n",
    ", (\"polish\", \"Witamy\")\n",
    ", (\"spanish\", \"Bienvenido\")\n",
    ", (\"swedish\", \"Valkommen\")\n",
    ", (\"welsh\", \"Croeso\")\n",
    "]\n",
    "\n",
    "\n",
    "def greet(language):\n",
    "    for x in db:\n",
    "        if x[0] == language:\n",
    "            return x[1]\n",
    "    return db[0][1]\n",
    "\n",
    "# It was best to make a dictionary and use dict.get() method for it \n",
    "\n",
    "def greet(language):\n",
    "    return {\n",
    "        'czech': 'Vitejte',\n",
    "        'danish': 'Velkomst',\n",
    "        'dutch': 'Welkom',\n",
    "        'english': 'Welcome',\n",
    "        'estonian': 'Tere tulemast',\n",
    "        'finnish': 'Tervetuloa',\n",
    "        'flemish': 'Welgekomen',\n",
    "        'french': 'Bienvenue',\n",
    "        'german': 'Willkommen',\n",
    "        'irish': 'Failte',\n",
    "        'italian': 'Benvenuto',\n",
    "        'latvian': 'Gaidits',\n",
    "        'lithuanian': 'Laukiamas',\n",
    "        'polish': 'Witamy',\n",
    "        'spanish': 'Bienvenido',\n",
    "        'swedish': 'Valkommen',\n",
    "        'welsh': 'Croeso'\n",
    "    }.get(language, 'Welcome')"
   ]
  },
  {
   "cell_type": "code",
   "execution_count": null,
   "metadata": {},
   "outputs": [],
   "source": [
    "def other_angle(a, b):\n",
    "    return 180 - a - b"
   ]
  },
  {
   "cell_type": "code",
   "execution_count": null,
   "metadata": {},
   "outputs": [],
   "source": [
    "def square(n):\n",
    "    return n ** 2"
   ]
  },
  {
   "cell_type": "code",
   "execution_count": null,
   "metadata": {},
   "outputs": [],
   "source": [
    "def reverse_list(arr):\n",
    "    return arr[::-1]"
   ]
  },
  {
   "cell_type": "code",
   "execution_count": null,
   "metadata": {},
   "outputs": [],
   "source": [
    "def remove_every_other(arr):\n",
    "    return arr[::2]"
   ]
  },
  {
   "cell_type": "code",
   "execution_count": null,
   "metadata": {},
   "outputs": [],
   "source": [
    "def sum_array(arr):\n",
    "    return sum(arr)"
   ]
  },
  {
   "cell_type": "code",
   "execution_count": null,
   "metadata": {},
   "outputs": [],
   "source": [
    "def people_with_age_drink(age):\n",
    "    if age < 14:\n",
    "        return \"drink toddy\"\n",
    "    elif age < 18:\n",
    "        return \"drink coke\"\n",
    "    elif age < 21:\n",
    "        return \"drink beer\"\n",
    "    else:\n",
    "        return \"drink whisky\"\n",
    "    \n",
    "# If we define the variable when conditioning by age:\n",
    "\n",
    "def people_with_age_drink(age):\n",
    "    if age < 14:\n",
    "        drink = \"toddy\"\n",
    "    elif age < 18:\n",
    "        drink = \"coke\"\n",
    "    elif age < 21:\n",
    "        drink = \"beer\"\n",
    "    else:\n",
    "        drink = \"whisky\"\n",
    "    return f\"drink {drink}\""
   ]
  },
  {
   "cell_type": "code",
   "execution_count": null,
   "metadata": {},
   "outputs": [],
   "source": [
    "def string_to_array(s):\n",
    "    return s.split() if s != \"\" else ['']\n",
    "\n",
    "# for the test case s = \"\" to work, one should specify the separator into the whitespace and the method call will instead return \"\" rather than None\n",
    "\n",
    "def string_to_array(s):\n",
    "    return s.split(\" \")"
   ]
  },
  {
   "cell_type": "code",
   "execution_count": null,
   "metadata": {},
   "outputs": [],
   "source": [
    "def arithmetic(a, b, operator):\n",
    "  if operator == \"add\": return a + b\n",
    "  if operator == \"subtract\": return a - b\n",
    "  if operator == \"multiply\": return a * b\n",
    "  if operator == \"divide\": return a / b\n",
    "\n",
    "# A more clever way is using a dictionary:\n",
    "\n",
    "def arithmetic(a, b, operator):\n",
    "    return {\n",
    "        'add': a + b,\n",
    "        'subtract': a - b,\n",
    "        'multiply': a * b,\n",
    "        'divide': a / b,\n",
    "    }[operator]"
   ]
  },
  {
   "cell_type": "code",
   "execution_count": null,
   "metadata": {},
   "outputs": [],
   "source": [
    "def find_next_square(sq):\n",
    "    return (sq ** (1 / 2) + 1) ** 2 if sq ** (1 /2) == sq ** (1 /2) // 1 else -1\n",
    "\n",
    "# The conditional statement could be made simpler:\n",
    "\n",
    "def find_next_square(sq):\n",
    "    return (sq ** (1 / 2) + 1) ** 2 if not (sq ** (1 /2) % 1) else -1\n",
    "\n",
    "# But is essentially the same"
   ]
  },
  {
   "cell_type": "code",
   "execution_count": null,
   "metadata": {},
   "outputs": [],
   "source": [
    "def move(position, roll):\n",
    "    return position + 2 * roll"
   ]
  },
  {
   "cell_type": "code",
   "execution_count": null,
   "metadata": {},
   "outputs": [],
   "source": [
    "def fake_bin(x):\n",
    "    return x.translate(str.maketrans(\"0123456789\", \"0000011111\"))\n",
    "\n",
    "# The basic approach could also be taken:\n",
    "\n",
    "def fake_bin(x):\n",
    "    return ''.join('0' if c < '5' else '1' for c in x)"
   ]
  },
  {
   "cell_type": "code",
   "execution_count": null,
   "metadata": {},
   "outputs": [],
   "source": [
    "def remove(s):\n",
    "    return s[:-1] if s and s[-1] == \"!\" else s\n",
    "\n",
    "# endswith function makes it more easy:\n",
    "\n",
    "def remove(s):\n",
    "    return s[:-1] if s.endswith('!') else s"
   ]
  },
  {
   "cell_type": "code",
   "execution_count": null,
   "metadata": {},
   "outputs": [],
   "source": [
    "def plural(n):\n",
    "    return n != 1"
   ]
  },
  {
   "cell_type": "code",
   "execution_count": null,
   "metadata": {},
   "outputs": [],
   "source": [
    "def name_shuffler(s):\n",
    "    return \" \".join(s.split()[::-1])"
   ]
  },
  {
   "cell_type": "code",
   "execution_count": null,
   "metadata": {},
   "outputs": [],
   "source": [
    "def get_char(c):\n",
    "    return chr(c)"
   ]
  },
  {
   "cell_type": "code",
   "execution_count": null,
   "metadata": {},
   "outputs": [],
   "source": [
    "def validate_pin(pin):\n",
    "    return pin.isnumeric() and len(pin) in [4, 6]\n",
    "\n",
    "# isdigit method is more correct due to there being for example fraction characters that pass isnumeric but not isdigit\n",
    "\n",
    "def validate_pin(pin):\n",
    "    return pin.digit() and len(pin) in [4, 6]"
   ]
  },
  {
   "cell_type": "code",
   "execution_count": null,
   "metadata": {},
   "outputs": [],
   "source": [
    "def sort_by_length(arr):\n",
    "    return sorted(arr, key = len)"
   ]
  },
  {
   "cell_type": "code",
   "execution_count": null,
   "metadata": {},
   "outputs": [],
   "source": [
    "def likes(names):\n",
    "    n = len(names)\n",
    "    if n == 0: return \"no one likes this\"\n",
    "    if n == 1: return f\"{names[0]} likes this\"\n",
    "    if n == 2: return f\"{names[0]} and {names[1]} like this\"\n",
    "    if n == 3: return f\"{names[0]}, {names[1]} and {names[2]} like this\"\n",
    "    return f\"{names[0]}, {names[1]} and {n - 2} others like this\"\n",
    "\n",
    "# A very clean solution proposed:\n",
    "\n",
    "def likes(names):\n",
    "    n = len(names)\n",
    "    return {\n",
    "        0: 'no one likes this',\n",
    "        1: '{} likes this', \n",
    "        2: '{} and {} like this', \n",
    "        3: '{}, {} and {} like this', \n",
    "        4: '{}, {} and {others} others like this'\n",
    "    }[min(4, n)].format(*names[:3], others=n-2)"
   ]
  },
  {
   "cell_type": "code",
   "execution_count": null,
   "metadata": {},
   "outputs": [],
   "source": [
    "la_liga_goals = 43\n",
    "champions_league_goals = 10\n",
    "copa_del_rey_goals = 5\n",
    "\n",
    "total_goals = la_liga_goals + champions_league_goals + copa_del_rey_goals"
   ]
  },
  {
   "cell_type": "code",
   "execution_count": null,
   "metadata": {},
   "outputs": [],
   "source": [
    "def accum(str):\n",
    "    r = \"\"\n",
    "    for i, c in enumerate(str.lower()):\n",
    "        r += c.capitalize() + (c * i) + \"-\"\n",
    "    return r[:-1]\n",
    "\n",
    "# using join\n",
    "\n",
    "def accum(s):\n",
    "    return '-'.join(c.upper() + c.lower() * i for i, c in enumerate(s))"
   ]
  },
  {
   "cell_type": "code",
   "execution_count": null,
   "metadata": {},
   "outputs": [],
   "source": [
    "class Fighter(object):\n",
    "    def __init__(self, name, health, damage_per_attack):\n",
    "        self.name = name\n",
    "        self.health = health\n",
    "        self.damage_per_attack = damage_per_attack\n",
    "        \n",
    "    def __str__(self): return \"Fighter({}, {}, {})\".format(self.name, self.health, self.damage_per_attack)\n",
    "    __repr__=__str__\n",
    "\n",
    "\n",
    "def declare_winner(fighter1, fighter2, first_attacker):\n",
    "    if first_attacker == fighter1.name:\n",
    "        att = fighter1\n",
    "        deff = fighter2\n",
    "    else:\n",
    "        att = fighter2\n",
    "        deff = fighter1\n",
    "    while fighter1.health > 0 and fighter2.health > 0:\n",
    "        deff.health -= att.damage_per_attack\n",
    "        if deff.health > 0:\n",
    "            att.health -= deff.damage_per_attack\n",
    "    return fighter1.name if fighter1.health > 0 else fighter2.name\n",
    "\n",
    "# The suggested shorter method:\n",
    "\n",
    "def declare_winner(fighter1, fighter2, first_attacker):\n",
    "    cur, opp = (fighter1, fighter2) if first_attacker == fighter1.name else (fighter2, fighter1)\n",
    "    while cur.health > 0:        \n",
    "        opp.health -= cur.damage_per_attack\n",
    "        cur, opp = opp, cur\n",
    "    return opp.name"
   ]
  },
  {
   "cell_type": "code",
   "execution_count": null,
   "metadata": {},
   "outputs": [],
   "source": [
    "def mouth_size(animal): \n",
    "    return \"wide\" if animal.lower() != \"alligator\" else \"small\""
   ]
  },
  {
   "cell_type": "code",
   "execution_count": null,
   "metadata": {},
   "outputs": [],
   "source": [
    "def combat(health, damage):\n",
    "    return max(0, health - damage)"
   ]
  },
  {
   "cell_type": "code",
   "execution_count": null,
   "metadata": {},
   "outputs": [],
   "source": [
    "def merge_arrays(arr1, arr2):\n",
    "     return sorted(list(set(arr1 + arr2)))\n",
    "\n",
    "# The sorted function already turns the object into a list anyway:\n",
    "\n",
    "def merge_arrays(arr1, arr2):\n",
    "     return sorted(set(arr1 + arr2))\n",
    "\n",
    "# is sufficient"
   ]
  },
  {
   "cell_type": "code",
   "execution_count": null,
   "metadata": {},
   "outputs": [],
   "source": [
    "def disemvowel(str):\n",
    "    return \"\".join(c for c in str if c not in \"AEIUOaeiuo\")\n",
    "\n",
    "# or just lower c to make the vowel list simple:\n",
    "\n",
    "def disemvowel(str):\n",
    "    return \"\".join(c for c in str if c.lower() not in \"aeiuo\")\n",
    "\n",
    "# using the replace method:\n",
    "\n",
    "def disemvowel(str):\n",
    "    for i in \"aeiuoAEIUO\":\n",
    "        str.replace(i, \"\")\n",
    "    return str"
   ]
  },
  {
   "cell_type": "code",
   "execution_count": null,
   "metadata": {},
   "outputs": [],
   "source": [
    "def add_length(s):\n",
    "    res = s.split()\n",
    "    return [x + f\" {len(x)}\" for x in res]\n",
    "\n",
    "# Using format method is a clean way to do things, especially as I am already using format strings:\n",
    "\n",
    "def add_length(str_):\n",
    "    return [\"{} {}\".format(i, len(i)) for i in str_.split(' ')]\n",
    "\n",
    "# And my own solution could look better following the principle:\n",
    "\n",
    "def add_length(s):\n",
    "    res = s.split()\n",
    "    return [f\"{} {len(x)}\" for x in res]"
   ]
  },
  {
   "cell_type": "code",
   "execution_count": null,
   "metadata": {},
   "outputs": [],
   "source": [
    "def problem(a):\n",
    "    return a * 50 + 6 if type(a) != str else \"Error\"\n",
    "\n",
    "# Best practice for errorous inputs:\n",
    "\n",
    "def problem(a):\n",
    "    try:\n",
    "        return a * 50 + 6\n",
    "    except TypeError:\n",
    "        return \"Error\""
   ]
  },
  {
   "cell_type": "code",
   "execution_count": null,
   "metadata": {},
   "outputs": [],
   "source": [
    "def warn_the_sheep(queue):\n",
    "    if queue[-1] == \"wolf\":\n",
    "        return \"Pls go away and stop eating my sheep\"\n",
    "    for i in range(-2, -len(queue) - 1, -1):\n",
    "        if queue[i] == \"wolf\":\n",
    "            return f\"Oi! Sheep number {- i - 1}! You are about to be eaten by a wolf!\"\n",
    "\n",
    "# A more elegant solution:\n",
    "\n",
    "def warn_the_sheep(queue):\n",
    "    n = len(queue) - queue.index('wolf') - 1\n",
    "    return f'Oi! Sheep number {n}! You are about to be eaten by a wolf!' if n else 'Pls go away and stop eating my sheep'"
   ]
  },
  {
   "cell_type": "code",
   "execution_count": null,
   "metadata": {},
   "outputs": [],
   "source": [
    "def filter_list(l):\n",
    "    return [x for x in l if type(x) != str]"
   ]
  },
  {
   "cell_type": "code",
   "execution_count": null,
   "metadata": {},
   "outputs": [],
   "source": [
    "def friend(arr):\n",
    "    return [x for x in arr if len(x) == 4]"
   ]
  },
  {
   "cell_type": "code",
   "execution_count": null,
   "metadata": {},
   "outputs": [],
   "source": [
    "def chromosome_check(chromosome):\n",
    "    if chromosome == 'XX':\n",
    "        child = 'daughter'\n",
    "    else:\n",
    "        child = 'son'\n",
    "    return f'Congratulations! You\\'re going to have a {child}.'\n",
    "        \n",
    "# format method allows for conditional statements\n",
    "\n",
    "def chromosome_check(chromosome):\n",
    "    return \"Congratulations! You\\'re going to have a {}.\".format(\"son\" if \"Y\" in chromosome else \"daughter\")"
   ]
  },
  {
   "cell_type": "code",
   "execution_count": null,
   "metadata": {},
   "outputs": [],
   "source": [
    "def century(year):\n",
    "    return (year - 1) // 100 + 1"
   ]
  },
  {
   "cell_type": "code",
   "execution_count": null,
   "metadata": {},
   "outputs": [],
   "source": [
    "def quarter_of(month):\n",
    "    return (month - 1) // 3 + 1"
   ]
  },
  {
   "cell_type": "code",
   "execution_count": null,
   "metadata": {},
   "outputs": [],
   "source": [
    "def is_anagram(test, original):\n",
    "    return sorted(test.lower()) == sorted(original.lower())"
   ]
  },
  {
   "cell_type": "code",
   "execution_count": null,
   "metadata": {},
   "outputs": [],
   "source": [
    "def gimme(array):\n",
    "    supp_arr = sorted(array)\n",
    "    return array.index(supp_arr[1])"
   ]
  },
  {
   "cell_type": "code",
   "execution_count": null,
   "metadata": {},
   "outputs": [],
   "source": [
    "def open_or_senior(data):\n",
    "     return [\"Senior\" if x[0] >= 55 and x[1] > 7 else \"Open\" for x in data]\n",
    "\n",
    "# A good notice on being able to pass double variables in a for loop in Python\n",
    "\n",
    "def openOrSenior(data):\n",
    "  return [\"Senior\" if age >= 55 and handicap >= 8 else \"Open\" for (age, handicap) in data]"
   ]
  },
  {
   "cell_type": "code",
   "execution_count": null,
   "metadata": {},
   "outputs": [],
   "source": [
    "def position(letter):\n",
    "    position = ord(letter) - ord(\"a\") + 1\n",
    "    return \"Position of alphabet: {}\".format(position)"
   ]
  },
  {
   "cell_type": "code",
   "execution_count": null,
   "metadata": {},
   "outputs": [],
   "source": [
    "def check_exam(arr1, arr2):\n",
    "    score = 0\n",
    "    for corr, ans in zip(arr1, arr2):\n",
    "        if corr == ans: score += 4\n",
    "        elif ans == \"\": continue\n",
    "        else: score -= 1\n",
    "    return score if score > 0 else 0\n",
    "\n",
    "# A really clever solution using both conditional statements and filtering within an array for loop:\n",
    "\n",
    "def check_exam(arr1, arr2):\n",
    "    return max(0, sum(4 if a == b else -1 for a, b in zip(arr1, arr2) if b))"
   ]
  },
  {
   "cell_type": "code",
   "execution_count": null,
   "metadata": {},
   "outputs": [],
   "source": [
    "def remove_url_anchor(url):\n",
    "    return url[:url.index(\"#\")] if \"#\" in url else url\n",
    "\n",
    "# Using split method:\n",
    "\n",
    "def remove_url_anchor(url):\n",
    "  return url.split('#')[0]"
   ]
  },
  {
   "cell_type": "code",
   "execution_count": null,
   "metadata": {},
   "outputs": [],
   "source": [
    "def say_hello(name, city, state):\n",
    "    return \"Hello, {}! Welcome to {}, {}!\".format(\" \".join(i for i in name), city, state)\n",
    "\n",
    "# No need to for loop in join method, it does it on its own:\n",
    "\n",
    "def say_hello(name, city, state):\n",
    "    return \"Hello, {}! Welcome to {}, {}!\".format(\" \".join(name), city, state)"
   ]
  },
  {
   "cell_type": "code",
   "execution_count": null,
   "metadata": {},
   "outputs": [],
   "source": [
    "def factorial(n):\n",
    "    if n < 0 or n > 12:\n",
    "        raise ValueError\n",
    "    fac = 1\n",
    "    for i in range(1, n + 1):\n",
    "        fac *= i\n",
    "    return fac\n",
    "\n",
    "# There is a recursive approach:\n",
    "\n",
    "def factorial(n):\n",
    "    if n < 0 or n > 12:\n",
    "        raise ValueError\n",
    "    return 1 if n <= 1 else n * factorial(n - 1)"
   ]
  },
  {
   "cell_type": "code",
   "execution_count": null,
   "metadata": {},
   "outputs": [],
   "source": [
    "def round_to_next5(n):\n",
    "    return n + (5 - (n % 5)) if n % 5 else n\n",
    "\n",
    "# if we modulo 5 the addditive modulo 5 inverse of n instead:\n",
    "\n",
    "def round_to_next5(n):\n",
    "    return n + (5 - n) % 5\n",
    "\n",
    "# Even more clever:\n",
    "\n",
    "def round_to_next5(n):\n",
    "    return n + (-n % 5) "
   ]
  },
  {
   "cell_type": "code",
   "execution_count": null,
   "metadata": {},
   "outputs": [],
   "source": [
    "def find_average(arr):\n",
    "    return sum(arr) / len(arr)"
   ]
  },
  {
   "cell_type": "code",
   "execution_count": null,
   "metadata": {},
   "outputs": [],
   "source": [
    "def sale_hotdogs(n):\n",
    "    if n <= 0: return 0\n",
    "    elif n < 5: return n * 100\n",
    "    elif n < 10: return n * 95\n",
    "    else: return n * 90\n",
    "\n",
    "# Ternaries can be chained:\n",
    "\n",
    "def sale_hotdogs(n):\n",
    "    return n * (100 if n < 5 else 95 if n < 10 else 90)"
   ]
  },
  {
   "cell_type": "code",
   "execution_count": null,
   "metadata": {},
   "outputs": [],
   "source": [
    "def stray(arr):\n",
    "    return [x for x in arr if x not in arr[0:2] or x not in arr[-3:-1]][0]\n",
    "\n",
    "# There is a count method for lists:\n",
    "\n",
    "def stray(arr):\n",
    "    return min(arr, key = arr.count)"
   ]
  },
  {
   "cell_type": "code",
   "execution_count": null,
   "metadata": {},
   "outputs": [],
   "source": [
    "def expanded_form(num):\n",
    "    return \" + \".join([str(int(x) * (10 ** i)) for i, x in enumerate(str(num)[::-1]) if int(x)][::-1])"
   ]
  },
  {
   "cell_type": "code",
   "execution_count": null,
   "metadata": {},
   "outputs": [],
   "source": [
    "def capitals(word):\n",
    "    return [i for i, x in enumerate(word) if x.isupper()]"
   ]
  },
  {
   "cell_type": "code",
   "execution_count": null,
   "metadata": {},
   "outputs": [],
   "source": [
    "def double_integer(i):\n",
    "    return i * 2"
   ]
  },
  {
   "cell_type": "code",
   "execution_count": null,
   "metadata": {},
   "outputs": [],
   "source": [
    "def is_palindrome(s):\n",
    "    return s.lower() == s[::-1].lower()"
   ]
  },
  {
   "cell_type": "code",
   "execution_count": null,
   "metadata": {},
   "outputs": [],
   "source": [
    "def duty_free(price, discount, holiday_cost):\n",
    "    return int(holiday_cost / (price * discount / 100))"
   ]
  },
  {
   "cell_type": "code",
   "execution_count": null,
   "metadata": {},
   "outputs": [],
   "source": [
    "def human_years_cat_years_dog_years(y):\n",
    "    return [y, 24 + (y - 2) * 4 if y - 1 else 15, 24 + (y - 2) * 5 if y - 1 else 15]"
   ]
  },
  {
   "cell_type": "code",
   "execution_count": null,
   "metadata": {},
   "outputs": [],
   "source": [
    "def zero(a = \"\"): return eval(\"0\" + a) if len(a) else \"0\" + a\n",
    "def one(a = \"\"): return eval(\"1\" + a) if len(a) else \"1\" + a\n",
    "def two(a = \"\"): return eval(\"2\" + a) if len(a) else \"2\" + a\n",
    "def three(a = \"\"): return eval(\"3\" + a) if len(a) else \"3\" + a\n",
    "def four(a = \"\"): return eval(\"4\" + a) if len(a) else \"4\" + a\n",
    "def five(a = \"\"): return eval(\"5\" + a) if len(a) else \"5\" + a\n",
    "def six(a = \"\"): return eval(\"6\" + a) if len(a) else \"6\" + a\n",
    "def seven(a = \"\"): return eval(\"7\" + a) if len(a) else \"7\" + a\n",
    "def eight(a = \"\"): return eval(\"8\" + a) if len(a) else \"8\" + a\n",
    "def nine(a = \"\"): return eval(\"9\" + a) if len(a) else \"9\" + a\n",
    "def plus(a = \"\"): return \"+\" + a\n",
    "def minus(a = \"\"): return \"-\" + a\n",
    "def times(a = \"\"): return \"*\" + a\n",
    "def divided_by(a = \"\"): return \"//\" + a\n",
    "\n",
    "# With lambda functions:\n",
    "\n",
    "def identity(a): return a\n",
    "\n",
    "def zero(f=identity): return f(0)\n",
    "def one(f=identity): return f(1)\n",
    "def two(f=identity): return f(2)\n",
    "def three(f=identity): return f(3)\n",
    "def four(f=identity): return f(4)\n",
    "def five(f=identity): return f(5)\n",
    "def six(f=identity): return f(6)\n",
    "def seven(f=identity): return f(7)\n",
    "def eight(f=identity): return f(8)\n",
    "def nine(f=identity): return f(9)\n",
    "\n",
    "def plus(b): return lambda a: a + b\n",
    "def minus(b): return lambda a: a - b\n",
    "def times(b): return lambda a: a * b\n",
    "def divided_by(b): return lambda a: a // b"
   ]
  },
  {
   "cell_type": "code",
   "execution_count": null,
   "metadata": {},
   "outputs": [],
   "source": [
    "def mix(s1, s2):\n",
    "    res = []\n",
    "    s1 = list(s1)\n",
    "    s2 = list(s2)\n",
    "    unique_elements = sorted(set(s1 + s2))\n",
    "    lowercase_elements = {c for c in unique_elements if c.islower() and c != \" \"}\n",
    "    for c in lowercase_elements:\n",
    "        s1c = s1.count(c)\n",
    "        s2c = s2.count(c)\n",
    "        if  s1c > 1 or s2c > 1:\n",
    "            s = \"=\" if s1c == s2c else \"1\" if s1c > s2c else \"2\"\n",
    "            res.append(f\"{s}:{c * max(s1c, s2c)}\")\n",
    "    res = sorted(res)\n",
    "    res = sorted(res, key = len, reverse = True)\n",
    "    return \"/\".join(res)\n",
    "\n",
    "# Done neater:\n",
    "\n",
    "def mix(s1, s2):\n",
    "    res = []\n",
    "    for c in \"abcdefghijklmnopqrstuvwxyz\":\n",
    "        s1c, s2c = s1.count(c), s2.count(c)\n",
    "        if  max(s1c, s2c) > 1:\n",
    "            s = \"=\" if s1c == s2c else \"1\" if s1c > s2c else \"2\"\n",
    "            res.append(f\"{s}:{c * max(s1c, s2c)}\")\n",
    "    res = sorted(res, key = lambda x: (-len(x), x))\n",
    "    return \"/\".join(res)\n",
    "\n",
    "# 2nd bit done using: \n",
    "\n",
    "def mix(s1, s2):\n",
    "    hist = {}\n",
    "    for ch in  :\n",
    "        val1, val2 = s1.count(ch), s2.count(ch)\n",
    "        if max(val1, val2) > 1:\n",
    "            which = \"1\" if val1 > val2 else \"2\" if val2 > val1 else \"=\"\n",
    "            hist[ch] = (-max(val1, val2), which + \":\" + ch * max(val1, val2))\n",
    "    return \"/\".join(hist[ch][1] for ch in sorted(hist, key=lambda x: hist[x]))"
   ]
  },
  {
   "cell_type": "code",
   "execution_count": null,
   "metadata": {},
   "outputs": [],
   "source": [
    "def reverse_letter(s):\n",
    "    return \"\".join(c for c in s[::-1] if c.lower() in \"abcdefghijklmnopqrstuvwxyz\")"
   ]
  },
  {
   "cell_type": "code",
   "execution_count": null,
   "metadata": {},
   "outputs": [],
   "source": [
    "def to_binary(n):\n",
    "    return int(bin(n)[2:])\n",
    "\n",
    "# I really liked this solution:\n",
    "\n",
    "def to_binary(n):\n",
    "    return n if 2 > n else 10 * to_binary(n // 2) + n % 2"
   ]
  },
  {
   "cell_type": "code",
   "execution_count": null,
   "metadata": {},
   "outputs": [],
   "source": [
    "def min_value(arr):\n",
    "    return int(\"\".join(str(i) for i in sorted(set(arr))))"
   ]
  },
  {
   "cell_type": "code",
   "execution_count": null,
   "metadata": {},
   "outputs": [],
   "source": [
    "def mxdiflg(a1, a2):\n",
    "    try:\n",
    "        return max([len(max(a1, key = len)) - len(min(a2, key = len)), len(max(a2, key = len)) - len(min(a1, key = len))])\n",
    "    except ValueError:\n",
    "        return -1"
   ]
  },
  {
   "cell_type": "code",
   "execution_count": null,
   "metadata": {},
   "outputs": [],
   "source": [
    "def is_uppercase(s):\n",
    "    return s.upper() == s"
   ]
  },
  {
   "cell_type": "code",
   "execution_count": null,
   "metadata": {},
   "outputs": [],
   "source": [
    "def hello(name = \"\"):\n",
    "    return f\"Hello, {(name.lower()).capitalize()}!\" if name else \"Hello, World!\"\n",
    "\n",
    "# An improvement:\n",
    "\n",
    "def hello(name=''):\n",
    "    return f\"Hello, {name.title() or 'World'}!\"\n",
    "\n",
    "# Note that a or b gives a if a not empty/zero and World otherwise"
   ]
  },
  {
   "cell_type": "code",
   "execution_count": null,
   "metadata": {},
   "outputs": [],
   "source": [
    "def get_volume_of_cuboid(length, width, height):\n",
    "    return length * width * height"
   ]
  },
  {
   "cell_type": "code",
   "execution_count": null,
   "metadata": {},
   "outputs": [],
   "source": [
    "def multiple_of_index(arr):\n",
    "    return [x for i, x in enumerate(arr) if i and not x % i or x == 0]"
   ]
  },
  {
   "cell_type": "code",
   "execution_count": null,
   "metadata": {},
   "outputs": [],
   "source": [
    "def title_case(title, minor_words=''):\n",
    "    return title[0].upper() + \" \".join(x.title() if x not in minor_words.lower().split() else x for x in title.lower().split())[1:] if title else \"\"\n",
    "\n",
    "# Probably the healthier way to do it:\n",
    "\n",
    "def title_case(title, minor_words=''):\n",
    "    title = title.capitalize().split()\n",
    "    minor_words = minor_words.lower().split()\n",
    "    return ' '.join([word if word in minor_words else word.capitalize() for word in title])"
   ]
  },
  {
   "cell_type": "code",
   "execution_count": null,
   "metadata": {},
   "outputs": [],
   "source": [
    "def sum_digits(n):\n",
    "    return sum(int(x) for x in str(abs(n)))"
   ]
  },
  {
   "cell_type": "code",
   "execution_count": null,
   "metadata": {},
   "outputs": [],
   "source": [
    "def multiplication_table(N):\n",
    "    return [[x*y for x in range(1, N+1)] for y in range(1, N+1)]"
   ]
  },
  {
   "cell_type": "code",
   "execution_count": null,
   "metadata": {},
   "outputs": [],
   "source": [
    "def printer_error(s):\n",
    "    return f\"{len([x for x in s if x in 'nopqrstuvwxyz'])}/{len(s)}\"\n",
    "\n",
    "# A neater way\n",
    "\n",
    "from re import sub\n",
    "def printer_error(s):\n",
    "    return \"{}/{}\".format(len(sub(\"[a-m]\",'',s)),len(s))\n",
    "\n",
    "# Without using re module / regex:\n",
    "\n",
    "def printer_error(s):\n",
    "    return \"{}/{}\".format(len([x for x in s if x in 'nopqrstuvwxyz']),len(s))"
   ]
  },
  {
   "cell_type": "code",
   "execution_count": null,
   "metadata": {},
   "outputs": [],
   "source": [
    "def main [verb, noun]\n",
    "return verb + noun\n",
    "\n",
    "# Turned into (syntax exercise):\n",
    "\n",
    "def main (verb, noun):\n",
    "    return verb + noun"
   ]
  },
  {
   "cell_type": "code",
   "execution_count": null,
   "metadata": {},
   "outputs": [],
   "source": [
    "def no_boring_zeros(n):\n",
    "    return n if n % 10 or not n else no_boring_zeros(n / 10)\n",
    "\n",
    "# Simple way with strip method:\n",
    "\n",
    "def no_boring_zeros(n):\n",
    "    return int(str(n).strip(\"0\")) if n else n"
   ]
  },
  {
   "cell_type": "code",
   "execution_count": null,
   "metadata": {},
   "outputs": [],
   "source": [
    "def bin_to_decimal(inp):\n",
    "    return sum(2 ** i for i, x in enumerate(inp[::-1]) if int(x))\n",
    "\n",
    "# int function has a built in base reader:\n",
    "\n",
    "def bin_to_decimal(inp):\n",
    "    return int(inp, 2)\n",
    "\n",
    "# Recursive version:\n",
    "\n",
    "def bin_to_decimal(inp):\n",
    "    l = len(inp)\n",
    "    return int(inp) if l == 1 else int(inp[0]) * 2 ** (l - 1) + bin_to_decimal(inp[1:])"
   ]
  },
  {
   "cell_type": "code",
   "execution_count": null,
   "metadata": {},
   "outputs": [],
   "source": [
    "def small_enough(array, limit):\n",
    "    return max(array) <= limit"
   ]
  },
  {
   "cell_type": "code",
   "execution_count": null,
   "metadata": {},
   "outputs": [],
   "source": [
    "def cube_checker(volume, side):\n",
    "    return side ** 3 == volume if volume > 0 and side > 0 else 1 == 0\n",
    "\n",
    "# two comparisons can be done seemlessly:\n",
    "\n",
    "def cube_checker(volume, side):\n",
    "    return 0 < volume == side**3"
   ]
  },
  {
   "cell_type": "code",
   "execution_count": null,
   "metadata": {},
   "outputs": [],
   "source": [
    "def diamond(n):\n",
    "    return \"\".join(\" \" * abs(i) + \"*\" * (n - 2 * abs(i)) + \"\\n\" for i in range(-(n - 1) // 2, (n - 1) // 2 + 1)) if n % 2 and n > 0 else None\n",
    "\n",
    "# Without sweating it for a one-liner:\n",
    "\n",
    "def diamond(n):\n",
    "    if n < 0 or n % 2 == 0:\n",
    "        return None\n",
    "    \n",
    "    result = \"*\" * n + \"\\n\";\n",
    "    spaces = 1;\n",
    "    n = n - 2\n",
    "    while n > 0:\n",
    "        current = \" \" * spaces + \"*\" * n + \"\\n\"\n",
    "        spaces = spaces + 1\n",
    "        n = n - 2\n",
    "        result = current + result + current\n",
    "    \n",
    "    return result"
   ]
  },
  {
   "cell_type": "code",
   "execution_count": null,
   "metadata": {},
   "outputs": [],
   "source": [
    "def bouncing_ball(h, bounce, window):\n",
    "    if h > 0 and 0 < bounce < 1 and h > window:\n",
    "        seen = 1\n",
    "        h *= bounce\n",
    "        while h > window:\n",
    "            h *= bounce\n",
    "            seen += 2\n",
    "        return seen\n",
    "    else: return -1\n",
    "\n",
    "# A well thought out version:\n",
    "\n",
    "def bouncingBall(h, bounce, window):\n",
    "    if not 0 < bounce < 1: return -1\n",
    "    count = 0\n",
    "    while h > window:\n",
    "        count += 1\n",
    "        h *= bounce\n",
    "        if h > window: count += 1\n",
    "    return count or -1"
   ]
  },
  {
   "cell_type": "code",
   "execution_count": null,
   "metadata": {},
   "outputs": [],
   "source": [
    "def add_five(num):\n",
    "    total = num + 5\n",
    "    return total"
   ]
  },
  {
   "cell_type": "code",
   "execution_count": null,
   "metadata": {},
   "outputs": [],
   "source": [
    "def say_hello(name):\n",
    "    return f\"Hello, {name}\""
   ]
  },
  {
   "cell_type": "code",
   "execution_count": null,
   "metadata": {},
   "outputs": [],
   "source": [
    "def set_alarm(employed, vacation):\n",
    "    return employed and not vacation"
   ]
  },
  {
   "cell_type": "code",
   "execution_count": null,
   "metadata": {},
   "outputs": [],
   "source": [
    "def distinct(seq):\n",
    "    return list(dict.fromkeys(seq))\n",
    "\n",
    "# A clever and pretty way to do it (though it has been pointed out that the time complexity is O(N^2) here):\n",
    "\n",
    "def distinct(seq):\n",
    "    return sorted(set(seq), key = seq.index)"
   ]
  },
  {
   "cell_type": "code",
   "execution_count": null,
   "metadata": {},
   "outputs": [],
   "source": [
    "def str_count(strng, letter):\n",
    "    return strng.count(letter)"
   ]
  },
  {
   "cell_type": "code",
   "execution_count": null,
   "metadata": {},
   "outputs": [],
   "source": [
    "def derive(c, e): \n",
    "    return \"{}x^{}\".format(c*e, e - 1)"
   ]
  },
  {
   "cell_type": "code",
   "execution_count": null,
   "metadata": {},
   "outputs": [],
   "source": [
    "def reverse_seq(n):\n",
    "    return [i for i in range(n, 0, -1)]"
   ]
  },
  {
   "cell_type": "code",
   "execution_count": null,
   "metadata": {},
   "outputs": [],
   "source": [
    "def is_valid_walk(walk):\n",
    "    return len(walk) == 10 and walk.count(\"n\") == walk.count(\"s\") and walk.count(\"e\") == walk.count(\"w\")"
   ]
  },
  {
   "cell_type": "code",
   "execution_count": null,
   "metadata": {},
   "outputs": [],
   "source": [
    "def dir_reduc(path):\n",
    "    path_reducible = True\n",
    "    while path_reducible:\n",
    "        path_unaltered = True\n",
    "        index_pairs = []\n",
    "        for i, (x, y) in enumerate(zip(path[:], path[1:])):\n",
    "            if {x, y} in ({\"NORTH\", \"SOUTH\"}, {\"EAST\", \"WEST\"}):\n",
    "                index_pairs.append((i + 1, i)) if (i, i - 1) not in index_pairs else 1\n",
    "                path_unaltered = False\n",
    "        for x, y in index_pairs[::-1]:\n",
    "            path.pop(x)\n",
    "            path.pop(y)\n",
    "        if path_unaltered:\n",
    "            path_reducible = False\n",
    "    return path\n",
    "\n",
    "#\n",
    "\n",
    "\n",
    "\n",
    "\n",
    "def dirReduc(plan):\n",
    "    new_plan, opposite =  [], ({'NORTH', 'SOUTH'}, {'EAST', 'WEST'})\n",
    "    for d in plan:\n",
    "        new_plan.append(d)\n",
    "        if set(new_plan[-2:]) in opposite:\n",
    "            new_plan[-2:] = []\n",
    "    return new_plan\n",
    "\n"
   ]
  },
  {
   "cell_type": "code",
   "execution_count": null,
   "metadata": {},
   "outputs": [],
   "source": [
    "def list_squared(m, n):\n",
    "    res = []\n",
    "    for i in range(m, n):\n",
    "        divisor_square_sum = sum(sq for d in range(1, int(i ** (1 / 2)) + 1) if i % d == 0\n",
    "                                 for sq in (([d ** 2, (i // d) ** 2]) if d * d != i else [d ** 2]))\n",
    "        if not (divisor_square_sum ** (1 / 2)) % 1:\n",
    "            res.append([i, divisor_square_sum])\n",
    "    return res\n",
    "\n",
    "# A rather more readable option:\n",
    "\n",
    "def list_squared(m, n):\n",
    "    out = []\n",
    "    for i in range(m,n+1):\n",
    "        # Finding all divisors below the square root of i\n",
    "        possibles = set([x for x in range (1,int(i**0.5)+1) if i%x == 0])\n",
    "        # And adding their counterpart\n",
    "        possibles.update([i/x for x in possibles])\n",
    "        # Doubles in the possibles are solved due to the set\n",
    "        val = sum(x**2 for x in possibles)\n",
    "        # Checking for exact square\n",
    "        if (int(val**0.5))**2 == val: out.append([i, val])\n",
    "    return out"
   ]
  },
  {
   "cell_type": "code",
   "execution_count": null,
   "metadata": {},
   "outputs": [],
   "source": [
    "def cockroach_speed(s):\n",
    "    return int(s * 1000 / 36)"
   ]
  },
  {
   "cell_type": "code",
   "execution_count": null,
   "metadata": {},
   "outputs": [],
   "source": [
    "def get_size(w,h,d):\n",
    "    return [2 * (w * h + w * d + h * d), w*h*d]"
   ]
  },
  {
   "cell_type": "code",
   "execution_count": null,
   "metadata": {},
   "outputs": [],
   "source": [
    "def pipe_fix(arr):\n",
    "    return list(range(arr[0], arr[-1] + 1))"
   ]
  },
  {
   "cell_type": "code",
   "execution_count": null,
   "metadata": {},
   "outputs": [],
   "source": [
    "def rev_rot(string, sz):\n",
    "    if sz <= 0:\n",
    "        return \"\"\n",
    "    else: \n",
    "        chunks = [string[i:i + sz] for i in range(0, len(string) + 1, sz) if len(string[i:i + sz]) == sz]\n",
    "        chunks = [c[1:] + c[0] if sum(int(k) for k in c) % 2 else c[::-1] for c in chunks]\n",
    "        return \"\".join(chunks)"
   ]
  },
  {
   "cell_type": "code",
   "execution_count": null,
   "metadata": {},
   "outputs": [],
   "source": [
    "def apple(x):\n",
    "    return \"It's hotter than the sun!!\" if int(x)**2 > 1000 else \"Help yourself to a honeycomb Yorkie for the glovebox.\""
   ]
  },
  {
   "cell_type": "code",
   "execution_count": null,
   "metadata": {},
   "outputs": [],
   "source": [
    "def rot13(message):\n",
    "    return \"\".join(chr(65 + ((ord(c) - 65) + 13) % 26) if c.isupper() else chr(97 + ((ord(c) - 97) + 13) % 26) if c.islower() else c for c in message)\n",
    "\n",
    "# A more readable approach with the same essence:\n",
    "\n",
    "def rot13(message):\n",
    "    result = ''\n",
    "    for char in message:\n",
    "        if char.isalpha() and char.isupper():\n",
    "            result += chr((((ord(char) - 65) + 13) % 26) + 65)\n",
    "        elif char.isalpha() and char.islower():\n",
    "            result += chr((((ord(char) - 97) + 13) % 26) + 97)\n",
    "        else:\n",
    "            result += char\n",
    "    return result"
   ]
  },
  {
   "cell_type": "code",
   "execution_count": null,
   "metadata": {},
   "outputs": [],
   "source": [
    "# This is called Kadane's algorithm for finding the biggest sum of a subarray of a sequence\n",
    "\n",
    "def kadane(arr):\n",
    "    curr = max = 0\n",
    "    for x in arr:\n",
    "        curr = max(0, curr + x)\n",
    "        max = max(max, curr)\n",
    "    return max"
   ]
  },
  {
   "cell_type": "code",
   "execution_count": null,
   "metadata": {},
   "outputs": [],
   "source": [
    "def factorial(n):\n",
    "    fact = 1\n",
    "    for i in range(1, n + 1):\n",
    "        fact *= i\n",
    "    return fact"
   ]
  },
  {
   "cell_type": "code",
   "execution_count": null,
   "metadata": {},
   "outputs": [],
   "source": [
    "def replace_exclamation(st):\n",
    "    vowels = \"aeiouAEIOU\"\n",
    "    return \"\".join(\"!\" if c in vowels else c for c in st)\n",
    "\n",
    "# A regex solution\n",
    "\n",
    "import re\n",
    "\n",
    "def replace_exclamation(s):\n",
    "    return re.sub('[aeiouAEIOU]', '!', s)"
   ]
  },
  {
   "cell_type": "code",
   "execution_count": null,
   "metadata": {},
   "outputs": [],
   "source": [
    "def sum_of_minimums(matrix):\n",
    "    return sum(min(a) for a in matrix)\n",
    "\n",
    "# Using the map function:\n",
    "\n",
    "def sum_of_minimums(numbers):\n",
    "    return sum(map(min, numbers))"
   ]
  },
  {
   "cell_type": "code",
   "execution_count": null,
   "metadata": {},
   "outputs": [],
   "source": [
    "def increment_string(string):\n",
    "    #end_n = str(int(\"\".join(l if l.isnumeric() else break for l in string[::-1])) + 1)\n",
    "    n = \"\"\n",
    "    for l in string[::-1]:\n",
    "        if l.isnumeric():\n",
    "            n += l\n",
    "            string = string[:-1]\n",
    "        else:\n",
    "            break\n",
    "    if n: n = \"{:0{}d}\".format(int(n[::-1]) + 1, len(n))\n",
    "    else: n = \"1\"\n",
    "    return string + n\n",
    "\n",
    "# With using advanced methods:\n",
    "\n",
    "def increment_string(strng):\n",
    "    head = strng.rstrip('0123456789')\n",
    "    tail = strng[len(head):]\n",
    "    if tail == \"\": return strng + \"1\"\n",
    "    return head + str(int(tail) + 1).zfill(len(tail))"
   ]
  },
  {
   "cell_type": "code",
   "execution_count": null,
   "metadata": {},
   "outputs": [],
   "source": [
    "def add(a, b):\n",
    "    return a + b\n",
    "\n",
    "def multiply(a, b):\n",
    "    return a * b\n",
    "\n",
    "def divide(a, b):\n",
    "    return a / b\n",
    "\n",
    "def mod(a, b):\n",
    "    return a % b\n",
    "\n",
    "def exponent(a, b):\n",
    "    return a**b\n",
    "\n",
    "def subt(a, b):\n",
    "    return a - b"
   ]
  },
  {
   "cell_type": "code",
   "execution_count": null,
   "metadata": {},
   "outputs": [],
   "source": [
    "def encrypt_this(text):\n",
    "    return \" \".join(str(ord(a[0])) + a[-1] + a[2:-1] + a[1] if len(a) > 2\n",
    "                    else str(ord(a[0])) + a[-1] if len(a) > 1 else str(ord(a[0])) for a in text.split())\n",
    "\n",
    "# An elegant approach:\n",
    "\n",
    "def encrypt_this(text):\n",
    "    result = []\n",
    "    \n",
    "    for word in text.split():\n",
    "        # turn word into a list\n",
    "        word = list(word)\n",
    "        \n",
    "        # replace first letter with ascii code\n",
    "        word[0] = str(ord(word[0]))\n",
    "        \n",
    "        # switch 2nd and last letters\n",
    "        if len(word) > 2:\n",
    "            word[1], word[-1] = word[-1], word[1]\n",
    "        \n",
    "        # add to results\n",
    "        result.append(''.join(word))\n",
    "    \n",
    "    return ' '.join(result)"
   ]
  },
  {
   "cell_type": "code",
   "execution_count": null,
   "metadata": {},
   "outputs": [],
   "source": [
    "def whatday(n):\n",
    "    weekday = {1: \"Sunday\", 2: \"Monday\", 3: \"Tuesday\", 4: \"Wednesday\", 5: \"Thursday\", 6: \"Friday\", 7: \"Saturday\"}\n",
    "    return weekday[n] if n in weekday else \"Wrong, please enter a number between 1 and 7\""
   ]
  },
  {
   "cell_type": "code",
   "execution_count": null,
   "metadata": {},
   "outputs": [],
   "source": [
    "def solve(s):\n",
    "    lower_chars = [c for c in s if c.islower() or c == \" \"]\n",
    "    return s.lower() if len(lower_chars) * 2 >= len(s) else s.upper()\n",
    "\n",
    "# using a map we can skip the making of the lower_chars array\n",
    "\n",
    "def solve(s):\n",
    "    return s.upper() if sum(map(str.isupper, s)) * 2 > len(s) else s.lower()"
   ]
  },
  {
   "cell_type": "code",
   "execution_count": null,
   "metadata": {},
   "outputs": [],
   "source": [
    "def how_many_light_sabers_do_you_own(name = \"\"):\n",
    "    return 18 if name == \"Zach\" else 0"
   ]
  },
  {
   "cell_type": "code",
   "execution_count": null,
   "metadata": {},
   "outputs": [],
   "source": [
    "def no_odds(values):\n",
    "    return [x for x in values if not x % 2]"
   ]
  },
  {
   "cell_type": "code",
   "execution_count": null,
   "metadata": {},
   "outputs": [],
   "source": [
    "def race(v1, v2, g):\n",
    "    t = g / (v2 - v1) * 60 * 60\n",
    "    h, t = t // 3600, t % 3600\n",
    "    m, t = t // 60, t % 60\n",
    "    s = t\n",
    "    return list(map(int, [h, m, s])) if v1 < v2 else None\n",
    "\n",
    "# A concise way\n",
    "\n",
    "def race(v1, v2, g):\n",
    "    t = 3600 * g/(v2-v1)\n",
    "    return [t/3600, t/60%60, t%60] if v2 > v1 else None"
   ]
  },
  {
   "cell_type": "code",
   "execution_count": null,
   "metadata": {},
   "outputs": [],
   "source": [
    "def get_drink_by_profession(s):\n",
    "    drink_by_type = {\"Jabroni\": \"Patron Tequila\", \"School Counselor\": \"Anything with Alcohol\", \"Programmer\": \"Hipster Craft Beer\",\n",
    "                     \"Bike Gang Member\": \"Moonshine\", \"Politician\": \"Your tax dollars\", \"Rapper\": \"Cristal\"}\n",
    "    return drink_by_type[s.title()] if s.title() in drink_by_type else \"Beer\"\n",
    "\n",
    "# A tweaked practice approach:\n",
    "\n",
    "\n",
    "\n",
    "def get_drink_by_profession(s):\n",
    "    d = {\n",
    "    \"jabroni\": \"Patron Tequila\",\n",
    "    \"school counselor\": \"Anything with Alcohol\",\n",
    "    \"programmer\": \"Hipster Craft Beer\",\n",
    "    \"bike gang member\": \"Moonshine\",\n",
    "    \"politician\": \"Your tax dollars\",\n",
    "    \"rapper\": \"Cristal\"\n",
    "    }\n",
    "    return d.get(s.lower(), \"Beer\")"
   ]
  },
  {
   "cell_type": "code",
   "execution_count": null,
   "metadata": {},
   "outputs": [],
   "source": [
    "def array(s):\n",
    "    return \" \".join(s.split(\",\")[1:-1]) if s.split(\",\")[1:-1] else None\n",
    "\n",
    "# A more concise way:\n",
    "\n",
    "def array(strng):\n",
    "    return ' '.join(strng.split(',')[1:-1]) or None\n",
    "\n",
    "# As if \"\" (which is equiv to false) then None (which is equiv to false, so x if x == True else True)"
   ]
  },
  {
   "cell_type": "code",
   "execution_count": null,
   "metadata": {},
   "outputs": [],
   "source": [
    "def find_multiples(n, limit):\n",
    "    return [n * i for i in range(1, limit // n + 1)]\n",
    "\n",
    "# Oh, right:\n",
    "\n",
    "def find_multiples(integer, limit):\n",
    "    return list(range(integer, limit+1, integer))"
   ]
  },
  {
   "cell_type": "code",
   "execution_count": null,
   "metadata": {},
   "outputs": [],
   "source": [
    "def words_to_marks(s):\n",
    "    return sum(ord(c) % 96 for c in s)"
   ]
  },
  {
   "cell_type": "code",
   "execution_count": null,
   "metadata": {},
   "outputs": [],
   "source": [
    "def row_weights(array):\n",
    "    return (sum(array[::2]), sum(array[1::2]))"
   ]
  },
  {
   "cell_type": "code",
   "execution_count": null,
   "metadata": {},
   "outputs": [],
   "source": [
    "def expression_matter(a, b, c):\n",
    "    return max([a + b + c, (a + b) * c, a * b + c, a * (b + c), a * b * c])"
   ]
  },
  {
   "cell_type": "code",
   "execution_count": null,
   "metadata": {},
   "outputs": [],
   "source": [
    "import string\n",
    "\n",
    "def to_jaden_case(s):\n",
    "    return string.capwords(s)\n",
    "\n",
    "# or just:\n",
    "\n",
    "import string\n",
    "toJadenCase = string.capwords"
   ]
  },
  {
   "cell_type": "code",
   "execution_count": null,
   "metadata": {},
   "outputs": [],
   "source": [
    "def take(arr,n):\n",
    "    return arr[:n]"
   ]
  },
  {
   "cell_type": "code",
   "execution_count": null,
   "metadata": {},
   "outputs": [],
   "source": [
    "def nb_dig(n, d):\n",
    "    return sum(str(i**2).count(str(d)) for i in range(n + 1))"
   ]
  },
  {
   "cell_type": "code",
   "execution_count": null,
   "metadata": {},
   "outputs": [],
   "source": [
    "def flatten_and_sort(array):\n",
    "    return sorted([x for a in array for x in a])"
   ]
  },
  {
   "cell_type": "code",
   "execution_count": null,
   "metadata": {},
   "outputs": [],
   "source": [
    "def domain_name(url):\n",
    "    prefixes = {\"www.\", \"http://\", \"https://\"}\n",
    "    for pfx in prefixes:\n",
    "        url = url.removeprefix(pfx)\n",
    "    \n",
    "    tld_index = url.index(\".\")\n",
    "    domain = url[:tld_index]\n",
    "    return domain\n",
    "\n",
    "# clever split way:\n",
    "\n",
    "def domain_name(url):\n",
    "    return url.split(\"//\")[-1].split(\"www.\")[-1].split(\".\")[0]\n",
    "\n",
    "# Clever regex way:\n",
    "\n",
    "import re\n",
    "def domain_name(url):\n",
    "    return re.search('(https?://)?(www\\d?\\.)?(?P<name>[\\w-]+)\\.', url).group('name')"
   ]
  },
  {
   "cell_type": "code",
   "execution_count": null,
   "metadata": {},
   "outputs": [],
   "source": [
    "def longest(a1, a2):\n",
    "    return \"\".join(sorted(set(a1 + a2)))"
   ]
  },
  {
   "cell_type": "code",
   "execution_count": null,
   "metadata": {},
   "outputs": [],
   "source": [
    "def find_nb(m, i = 1):\n",
    "    while m > 0:\n",
    "        m -= i**3\n",
    "        if m == 0: return i\n",
    "        i += 1\n",
    "    return -1"
   ]
  },
  {
   "cell_type": "code",
   "execution_count": null,
   "metadata": {},
   "outputs": [],
   "source": [
    "def combine_names(first, last):\n",
    "    return first  + \" \" + last"
   ]
  },
  {
   "cell_type": "code",
   "execution_count": null,
   "metadata": {},
   "outputs": [],
   "source": [
    "def string_clean(s):\n",
    "    return ''.join([c for c in s if not c.isnumeric()])\n",
    "\n",
    "# regex version\n",
    "\n",
    "import re\n",
    "\n",
    "def string_clean(s):\n",
    "    return re.sub(\"[0-9]\", \"\", s)\n",
    "\n",
    "# \\d takes digit\n",
    "\n",
    "def string_clean(s):\n",
    "    return re.sub(r'\\d', '', s)"
   ]
  },
  {
   "cell_type": "code",
   "execution_count": null,
   "metadata": {},
   "outputs": [],
   "source": [
    "def sp_eng(s): \n",
    "    return \"english\" in \"\".join([c for c in s.lower() if c in \"english\"])\n",
    "\n",
    "# The task asked if there is the whole 'english' word rather than the sequence letter by letter possibly with other characters in between\n",
    "\n",
    "def sp_eng(s): \n",
    "    return \"english\" in s.lower()"
   ]
  },
  {
   "cell_type": "code",
   "execution_count": null,
   "metadata": {},
   "outputs": [],
   "source": [
    "def even_numbers(arr,n):\n",
    "    return [i for i in arr if i % 2 == 0][-n:]"
   ]
  },
  {
   "cell_type": "code",
   "execution_count": null,
   "metadata": {},
   "outputs": [],
   "source": [
    "def evaporator(content, evap_per_day, threshold):\n",
    "    i = 1\n",
    "    while True:\n",
    "        if ((100 - evap_per_day) / 100) ** i <= threshold / 100: return i\n",
    "        i += 1"
   ]
  },
  {
   "cell_type": "code",
   "execution_count": null,
   "metadata": {},
   "outputs": [],
   "source": [
    "def tribonacci(signature, n):\n",
    "    for i in range(3, n):\n",
    "        signature.append(sum(signature[(i - 3):i]))\n",
    "    return signature[:n]\n",
    "\n",
    "# Bit better use of indexes and variable names:\n",
    "\n",
    "def tribonacci(signature, n):\n",
    "  res = signature[:n]\n",
    "  for i in range(n - 3): res.append(sum(res[-3:]))\n",
    "  return res"
   ]
  },
  {
   "cell_type": "code",
   "execution_count": null,
   "metadata": {},
   "outputs": [],
   "source": [
    "def order(string):\n",
    "    array = string.split()\n",
    "    indexes = [int(i) - 1 for w in array for i in w if i.isnumeric()]\n",
    "    res = [0 for i in array]\n",
    "    for i, w in zip(indexes, array):\n",
    "        res[i] = w\n",
    "    return \" \".join(res)\n",
    "\n",
    "# one liner:\n",
    "\n",
    "def order(words):\n",
    "  return ' '.join(sorted(words.split(), key=lambda w:sorted(w)))"
   ]
  },
  {
   "cell_type": "code",
   "execution_count": null,
   "metadata": {},
   "outputs": [],
   "source": [
    "def two_decimal_places(n):\n",
    "    return round(n, 2)"
   ]
  },
  {
   "cell_type": "code",
   "execution_count": null,
   "metadata": {},
   "outputs": [],
   "source": [
    "def sum_mul(n, m):\n",
    "    return sum([ni for ni in range(0, m, n)]) if n > 0 and m > 0 else 'INVALID'\n",
    "\n",
    "# 0 doesn't have to be taken, so:\n",
    "\n",
    "def sum_mul(n, m):\n",
    "    if m>0 and n>0:\n",
    "        return sum(range(n, m, n))\n",
    "    else:\n",
    "        return 'INVALID'"
   ]
  },
  {
   "cell_type": "code",
   "execution_count": null,
   "metadata": {},
   "outputs": [],
   "source": [
    "def _if(bool, func1, func2):\n",
    "    return func1() if bool else func2()\n",
    "\n",
    "# Return is not needed as the task only asked to call the functions depending on bool rather than return a function call, so:\n",
    "\n",
    "def _if(bool, func1, func2):\n",
    "    func1() if bool else func2()"
   ]
  },
  {
   "cell_type": "code",
   "execution_count": null,
   "metadata": {},
   "outputs": [],
   "source": [
    "def greet(name):\n",
    "    return f\"Hello, {name} how are you doing today?\""
   ]
  },
  {
   "cell_type": "code",
   "execution_count": null,
   "metadata": {},
   "outputs": [],
   "source": [
    "def data_reverse(data):\n",
    "    bytes = [data[i:i + 8] for i in range(0, len(data), 8)]\n",
    "    return [bit for byte in bytes[::-1] for bit in byte]"
   ]
  },
  {
   "cell_type": "code",
   "execution_count": null,
   "metadata": {},
   "outputs": [],
   "source": [
    "def check(a, x): \n",
    "    return x in a"
   ]
  },
  {
   "cell_type": "code",
   "execution_count": null,
   "metadata": {},
   "outputs": [],
   "source": [
    "def two_sort(array):\n",
    "    return \"***\".join(sorted(array)[0])\n",
    "\n",
    "# Clever solution:\n",
    "\n",
    "def two_sort(array):\n",
    "    return \"***\".join(sorted(array)[0])"
   ]
  },
  {
   "cell_type": "code",
   "execution_count": null,
   "metadata": {},
   "outputs": [],
   "source": [
    "def define_suit(card):\n",
    "    suits = {\"C\": \"clubs\", \"D\": \"diamonds\", \"H\": \"hearts\", \"S\": \"spades\"}\n",
    "    return suits[card[-1]]"
   ]
  },
  {
   "cell_type": "code",
   "execution_count": null,
   "metadata": {},
   "outputs": [],
   "source": [
    "def nearest_sq(n):\n",
    "    return round(n**(1 / 2))**2\n",
    "\n",
    "# A more readable fraction:\n",
    "\n",
    "def nearest_sq(n):\n",
    "    return round(n**0.5)**2"
   ]
  },
  {
   "cell_type": "code",
   "execution_count": null,
   "metadata": {},
   "outputs": [],
   "source": [
    "def pillars(num_pill, dist, width):\n",
    "    return (num_pill - 1) * dist * 100 + (num_pill - 2) * width if num_pill >= 2 else 0 "
   ]
  },
  {
   "cell_type": "code",
   "execution_count": null,
   "metadata": {},
   "outputs": [],
   "source": [
    "def same_case(a, b): \n",
    "    return 1 * (a.isupper() == b.isupper()) if a.isalpha() and b.isalpha() else -1"
   ]
  },
  {
   "cell_type": "code",
   "execution_count": null,
   "metadata": {},
   "outputs": [],
   "source": [
    "def solution(nums):\n",
    "    return sorted(nums) if nums != None else []\n",
    "\n",
    "# \n",
    "\n",
    "def solution(nums):\n",
    "    return sorted(nums) if nums else []"
   ]
  },
  {
   "cell_type": "code",
   "execution_count": null,
   "metadata": {},
   "outputs": [],
   "source": [
    "def largest_pair_sum(numbers): \n",
    "    return sum(sorted(numbers)[-2:])"
   ]
  },
  {
   "cell_type": "code",
   "execution_count": null,
   "metadata": {},
   "outputs": [],
   "source": [
    "def vowel_indices(word):\n",
    "\treturn [i + 1 for i, c in enumerate(word) if c in \"AEIYUOaeiyuo\"]"
   ]
  },
  {
   "cell_type": "code",
   "execution_count": null,
   "metadata": {},
   "outputs": [],
   "source": [
    "import re\n",
    "\n",
    "def validate_usr(username):\n",
    "    return re.sub(\"[^a-z0-9_]\", \"\", username) == username and 4 <= len(username) <= 16\n",
    "\n",
    "# The task was to strictly have a regex\n",
    "\n",
    "def validate_usr(un):\n",
    "    return bool(re.match('[a-z0-9_]{4,16}$', un))"
   ]
  },
  {
   "cell_type": "code",
   "execution_count": null,
   "metadata": {},
   "outputs": [],
   "source": [
    "def print_array(arr):\n",
    "    return \",\".join([str(i) for i in arr])\n",
    "\n",
    "# map is a useful function\n",
    "\n",
    "def print_array(arr):\n",
    "    return ','.join(map(str, arr))"
   ]
  },
  {
   "cell_type": "code",
   "execution_count": null,
   "metadata": {},
   "outputs": [],
   "source": [
    "def mango(quantity, price):\n",
    "    return quantity // 3 * 2 * price + quantity % 3 * price\n",
    "\n",
    "# Or just take away the number of free ones and multiply by price:\n",
    "\n",
    "def mango(quantity, price):\n",
    "    return (quantity - quantity // 3) * price"
   ]
  },
  {
   "cell_type": "code",
   "execution_count": null,
   "metadata": {},
   "outputs": [],
   "source": [
    "def enough(cap, on, wait):\n",
    "    return (on + wait) - cap if on + wait > cap else 0\n",
    "\n",
    "# max function!\n",
    "\n",
    "def enough(cap, on, wait):\n",
    "    return max(0, (on + wait) - cap)"
   ]
  },
  {
   "cell_type": "code",
   "execution_count": null,
   "metadata": {},
   "outputs": [],
   "source": [
    "def multi_table(number):\n",
    "    return \"\\n\".join(f\"{i} * {number} = {i * number}\" for i in range(1, 11))"
   ]
  },
  {
   "cell_type": "code",
   "execution_count": null,
   "metadata": {},
   "outputs": [],
   "source": [
    "def adjacent_element_product(array):\n",
    "    return max(array[i] * array[i + 1] for i in range(len(array) - 1))\n",
    "\n",
    "# Zip also works\n",
    "\n",
    "def adjacent_element_product(array):\n",
    "    return max( a*b for a, b in zip(array, array[1:]) )"
   ]
  },
  {
   "cell_type": "code",
   "execution_count": null,
   "metadata": {},
   "outputs": [],
   "source": [
    "import itertools\n",
    "\n",
    "def choose_best_sum(t, k, ls):\n",
    "    viable_combinations = [sum(a) for a in list(itertools.combinations(ls, k)) if sum(a) <= t]\n",
    "    return max(viable_combinations) if viable_combinations else None\n",
    "\n",
    "# Try, except case seems to be preferable\n",
    "\n",
    "import itertools\n",
    "def choose_best_sum(t, k, ls):\n",
    "    try: \n",
    "        return max(sum(i) for i in itertools.combinations(ls,k) if sum(i)<=t)\n",
    "    except:\n",
    "        return None\n",
    "\n",
    "# Without using itertools, using recursion in a clever way:\n",
    "\n",
    "def choose_best(t,k,ls):\n",
    "    if k == 0: return 0\n",
    "    best = -1\n",
    "    for i, v in enumerate(ls):\n",
    "        if v > t: continue\n",
    "        b = choose_best(t - v, k - 1, ls[i+1:])\n",
    "        if b < 0: continue\n",
    "        b += v\n",
    "        if b > best and b <= t:\n",
    "            best = b\n",
    "    return best\n",
    "\n",
    "def choose_best_sum(t, k, ls):\n",
    "    c = choose_best(t,k,ls)\n",
    "    if c <= 0 : return None\n",
    "    return c"
   ]
  },
  {
   "cell_type": "code",
   "execution_count": null,
   "metadata": {},
   "outputs": [],
   "source": [
    "def lowercase_count(string):\n",
    "    return len([c for c in string if c.islower()])"
   ]
  },
  {
   "cell_type": "code",
   "execution_count": null,
   "metadata": {},
   "outputs": [],
   "source": [
    "def decrypt(encrypted_text, n):\n",
    "    if not encrypted_text:\n",
    "        return encrypted_text\n",
    "    decrypted_text = encrypted_text\n",
    "    for i in range(n):\n",
    "        odd_indexed = decrypted_text[:len(encrypted_text) // 2]\n",
    "        even_indexed = decrypted_text[len(encrypted_text) // 2:]\n",
    "        decrypted_text = \"\".join(i + j for i, j in zip(even_indexed, odd_indexed))\n",
    "    if len(encrypted_text) // 2 != len(encrypted_text) / 2 and n > 0:\n",
    "        decrypted_text += encrypted_text[-1]\n",
    "    return decrypted_text\n",
    "\n",
    "\n",
    "def encrypt(text, n):\n",
    "    for i in range(n):\n",
    "        text = text[1::2] + text[0::2]\n",
    "    return text\n"
   ]
  },
  {
   "cell_type": "code",
   "execution_count": null,
   "metadata": {},
   "outputs": [],
   "source": [
    "def hex_to_dec(s):\n",
    "    return int(s, 16)"
   ]
  },
  {
   "cell_type": "code",
   "execution_count": null,
   "metadata": {},
   "outputs": [],
   "source": [
    "def bumps(road):\n",
    "    return \"Woohoo!\" if road.count(\"n\") <= 15 else \"Car Dead\""
   ]
  },
  {
   "cell_type": "code",
   "execution_count": null,
   "metadata": {},
   "outputs": [],
   "source": [
    "def calculator(x,y,op):\n",
    "    if not (str(op) in \"+-*/\" and isinstance(x, int) and isinstance(y, int)):\n",
    "        return \"unknown value\"\n",
    "    if op == \"+\":\n",
    "        return x + y\n",
    "    if op == \"-\":\n",
    "        return x - y\n",
    "    if op == \"*\":\n",
    "        return x * y\n",
    "    if op == \"/\":\n",
    "        return x / y\n",
    "    return \"unknown value\"\n",
    "\n",
    "# eval function is a useful one:\n",
    "\n",
    "def calculator(x, y, op):\n",
    "  return eval(f'{x}{op}{y}') if type(x) == type(y) == int and str(op) in '+-*/' else 'unknown value'"
   ]
  },
  {
   "cell_type": "code",
   "execution_count": null,
   "metadata": {},
   "outputs": [],
   "source": [
    "def alphabet_war(fight):\n",
    "    power = {\"w\": 4, \"p\": 3, \"b\": 2, \"s\": 1, \"z\": -1, \"d\": -2, \"q\": -3, \"m\": -4}\n",
    "    result = 0\n",
    "    for fighter in fight:\n",
    "        if fighter in \"wpbszdqm\":\n",
    "            result += power[fighter]\n",
    "    return \"Let's fight again!\" if result == 0 else \"Left side wins!\" if result > 0 else \"Right side wins!\"\n",
    "\n",
    "# Tighter solution:\n",
    "\n",
    "def alphabet_war(fight):\n",
    "    d = {'w':4,'p':3,'b':2,'s':1,\n",
    "         'm':-4,'q':-3,'d':-2,'z':-1}\n",
    "    r = sum(d[c] for c in fight if c in d)\n",
    "    \n",
    "    return {r==0:\"Let's fight again!\",\n",
    "            r>0:\"Left side wins!\",\n",
    "            r<0:\"Right side wins!\"\n",
    "            }[True]\n",
    "\n",
    "# Clever solution:\n",
    "\n",
    "def alphabet_war(fight):\n",
    "    result = sum(\"zdqm\".find(c) - \"sbpw\".find(c) for c in fight)\n",
    "    return \"{} side wins!\".format(\"Left\" if result < 0 else \"Right\") if result else \"Let's fight again!\""
   ]
  },
  {
   "cell_type": "code",
   "execution_count": null,
   "metadata": {},
   "outputs": [],
   "source": [
    "def contamination(text, char):\n",
    "    return char * len(text)"
   ]
  },
  {
   "cell_type": "code",
   "execution_count": null,
   "metadata": {},
   "outputs": [],
   "source": [
    "def meeting(s):\n",
    "    s = sorted([(name.upper()).split(\":\") for name in s.split(\";\")], key = lambda name: (name[1], name[0]))\n",
    "    return \"\".join(f\"({name[1]}, {name[0]})\" for name in s)\n",
    "\n",
    "# One liner\n",
    "\n",
    "def meeting(s):\n",
    "    return ''.join(sorted('({1}, {0})'.format(*(x.split(':'))) for x in s.upper().split(';')))"
   ]
  },
  {
   "cell_type": "code",
   "execution_count": null,
   "metadata": {},
   "outputs": [],
   "source": [
    "regex = \"(?=.*[a-z])(?=.*[A-Z])(?=.*[0-9])(?!.*_)([A-Za-z0-9]){6,}$\""
   ]
  },
  {
   "cell_type": "code",
   "execution_count": null,
   "metadata": {},
   "outputs": [],
   "source": [
    "def thirt(n):\n",
    "    j = n\n",
    "    i = 0\n",
    "    cycle = (1, 10, 9, 12, 3, 4)\n",
    "    while i != j:\n",
    "        i = j\n",
    "        i_f = str(i)\n",
    "        sum = 0\n",
    "        while i_f:\n",
    "            for r in cycle:\n",
    "                if not i_f: break\n",
    "                d, i_f = int(i_f[-1]), i_f[:-1]\n",
    "                sum += d * r\n",
    "        j = sum\n",
    "    return i\n",
    "\n",
    "# recursion way:\n",
    "\n",
    "def thirt(n):\n",
    "    array = [1, 10, 9, 12, 3, 4]\n",
    "    total = sum([int(c) * i for i, c in zip(array, reversed(str(n)))])\n",
    "    if n == total:\n",
    "        return total\n",
    "    return thirt(total)"
   ]
  },
  {
   "cell_type": "code",
   "execution_count": null,
   "metadata": {},
   "outputs": [],
   "source": [
    "def stairs_in_20(stairs):\n",
    "    return sum(sum(a) for a in stairs) * 20"
   ]
  },
  {
   "cell_type": "code",
   "execution_count": null,
   "metadata": {},
   "outputs": [],
   "source": [
    "def multiply(n):\n",
    "    return n * 5**(len(str(abs(n))))"
   ]
  },
  {
   "cell_type": "code",
   "execution_count": null,
   "metadata": {},
   "outputs": [],
   "source": [
    "def billboard(name, price = 30):\n",
    "    return sum(price for c in name)"
   ]
  },
  {
   "cell_type": "code",
   "execution_count": null,
   "metadata": {},
   "outputs": [],
   "source": [
    "from math import pi\n",
    "\n",
    "def square_area(A):\n",
    "    return round((A * 2 / (pi))**2, 2)"
   ]
  },
  {
   "cell_type": "code",
   "execution_count": null,
   "metadata": {},
   "outputs": [],
   "source": [
    "def calculate_age(year_of_birth, current_year):\n",
    "    diff = abs(current_year - year_of_birth)\n",
    "    return f\"You are {diff} year{(diff != 1) * 's'} old.\" if current_year > year_of_birth else f\"You will be born in {abs(current_year - year_of_birth)} year{(diff != 1) * 's'}.\" if current_year < year_of_birth else \"You were born this very year!\""
   ]
  },
  {
   "cell_type": "code",
   "execution_count": null,
   "metadata": {},
   "outputs": [],
   "source": [
    "def who_is_paying(name):\n",
    "    return [name, name[:2]] if len(name) > 2 else [name]"
   ]
  },
  {
   "cell_type": "code",
   "execution_count": null,
   "metadata": {},
   "outputs": [],
   "source": [
    "class Ball:\n",
    "    def __init__(self, ball_type = \"regular\"):\n",
    "        self.ball_type = ball_type"
   ]
  },
  {
   "cell_type": "code",
   "execution_count": null,
   "metadata": {},
   "outputs": [],
   "source": [
    "def sum_pairs(ints, s):\n",
    "    res = None\n",
    "    ints = list(dict.fromkeys(ints))\n",
    "    while ints:\n",
    "        r_index =  -1\n",
    "        t = ints[0]\n",
    "        d = s - t\n",
    "        ints = ints[1:]\n",
    "        try: r_index = ints.index(d)\n",
    "        except ValueError: continue\n",
    "        ints = ints[:r_index]\n",
    "        print(ints)\n",
    "        res = [t, d]\n",
    "    return res"
   ]
  },
  {
   "cell_type": "code",
   "execution_count": null,
   "metadata": {},
   "outputs": [],
   "source": [
    "def minimum(arr):\n",
    "    return min(arr)\n",
    "\n",
    "def maximum(arr):\n",
    "    return max(arr)\n",
    "\n",
    "# Avoiding the obvious:\n",
    "\n",
    "def min(arr):\n",
    "    low = arr[0]\n",
    "    for i in arr[1:]:\n",
    "        if i < low:\n",
    "            low = i\n",
    "    return low\n",
    "\n",
    "def max(arr):\n",
    "    high = arr[0]\n",
    "    for i in arr[1:]:\n",
    "        if i > high:\n",
    "            high = i\n",
    "    return high"
   ]
  },
  {
   "cell_type": "code",
   "execution_count": null,
   "metadata": {},
   "outputs": [],
   "source": [
    "def shark(pontoon_distance, shark_distance, you_speed, shark_speed, dolphin):\n",
    "    if dolphin:\n",
    "        shark_speed /= 2\n",
    "    return \"Alive!\" if pontoon_distance / you_speed < shark_distance / shark_speed else \"Shark Bait!\"\n",
    "    "
   ]
  },
  {
   "cell_type": "code",
   "execution_count": null,
   "metadata": {},
   "outputs": [],
   "source": [
    "def include(arr, item):\n",
    "    return item in arr"
   ]
  },
  {
   "cell_type": "code",
   "execution_count": null,
   "metadata": {},
   "outputs": [],
   "source": [
    "def find_longest(arr):\n",
    "    return [n for n in arr if len(str(n)) == len(str(max(arr)))][0]\n",
    "\n",
    "# A cleaner version with lambda function:\n",
    "\n",
    "def find_longest(xs):\n",
    "    return max(xs, key=lambda x: len(str(x)))"
   ]
  },
  {
   "cell_type": "code",
   "execution_count": null,
   "metadata": {},
   "outputs": [],
   "source": [
    "def min_sum(arr):\n",
    "    arr.sort()\n",
    "    return sum(arr.pop(0) * arr.pop(-1) for i in range(len(arr) // 2))"
   ]
  },
  {
   "cell_type": "code",
   "execution_count": null,
   "metadata": {},
   "outputs": [],
   "source": [
    "def vert_mirror(s):\n",
    "    return \"\\n\".join([ss[::-1] for ss in s.split(\"\\n\")])\n",
    "    \n",
    "def hor_mirror(s):\n",
    "    return \"\\n\".join([ss for ss in s.split(\"\\n\")][::-1])\n",
    "    \n",
    "def oper(fct, s):\n",
    "    return fct(s)"
   ]
  },
  {
   "cell_type": "code",
   "execution_count": null,
   "metadata": {},
   "outputs": [],
   "source": [
    "def is_digit(s):\n",
    "    try:\n",
    "        float(s)\n",
    "        return True\n",
    "    except ValueError:\n",
    "        return False"
   ]
  },
  {
   "cell_type": "code",
   "execution_count": null,
   "metadata": {},
   "outputs": [],
   "source": [
    "def usdcny(usd):\n",
    "    return f\"{round(usd * 6.75, 4):0.2f} Chinese Yuan\"\n",
    "\n",
    "# using round is overkill since we already format it to two decimal points\n",
    "\n",
    "def usdcny(usd):\n",
    "    return f\"{(usd * 6.75):.2f} Chinese Yuan\""
   ]
  },
  {
   "cell_type": "code",
   "execution_count": null,
   "metadata": {},
   "outputs": [],
   "source": [
    "def get_ascii(c):\n",
    "    return ord(c)"
   ]
  },
  {
   "cell_type": "code",
   "execution_count": null,
   "metadata": {},
   "outputs": [],
   "source": [
    "def div_con(a):\n",
    "    return sum(i for i in a if type(i) is int) - sum(int(j) for j in a if type(j) is str)\n",
    "\n",
    "# One iterator is enough using conditional statement instead of filtering.\n",
    "\n",
    "def div_con(lst):\n",
    "    return sum(n if isinstance(n, int) else -int(n) for n in lst)"
   ]
  },
  {
   "cell_type": "code",
   "execution_count": null,
   "metadata": {},
   "outputs": [],
   "source": [
    "def solve(strings : list[str]) -> list[int]:\n",
    "    return [sum([ord(s[i].lower()) - 97 == i for i in range(len(s))]) for s in strings]"
   ]
  },
  {
   "cell_type": "code",
   "execution_count": null,
   "metadata": {},
   "outputs": [],
   "source": [
    "def partlist(arr):\n",
    "    return [(\" \".join(arr[:i]), \" \".join(arr[i:])) for i in range(1, len(arr))]"
   ]
  },
  {
   "cell_type": "code",
   "execution_count": null,
   "metadata": {},
   "outputs": [],
   "source": [
    "def switcheroo(s):\n",
    "    return s.translate(str.maketrans(\"ab\", \"ba\"))"
   ]
  },
  {
   "cell_type": "code",
   "execution_count": null,
   "metadata": {},
   "outputs": [],
   "source": [
    "def is_sorted_and_how(arr):\n",
    "    if arr[0] > arr[-1]:\n",
    "        for n, m in zip(arr[:], arr[1:]):\n",
    "            if n < m:\n",
    "                return \"no\"\n",
    "        return \"yes, descending\"\n",
    "    for n, m in zip(arr[:], arr[1:]):\n",
    "        if n > m:\n",
    "            return \"no\"\n",
    "    return \"yes, ascending\"\n",
    "\n",
    "# A one liner approach, but for extremely large arrays it would get very expensive to use due to sorted() being O(n log n)\n",
    "\n",
    "def is_sorted_and_how(arr):\n",
    "    return \"yes, ascending\" if arr == sorted(arr) else \"yes, descending\" if arr == sorted(arr, reverse = True) else \"no\""
   ]
  },
  {
   "cell_type": "code",
   "execution_count": null,
   "metadata": {},
   "outputs": [],
   "source": [
    "def remainder(a,b):\n",
    "    return max((a, b)) % min((a, b)) if min((a, b)) != 0 else None\n",
    "\n",
    "# If a function does not encounter a return statement, it returns None by default, so\n",
    "\n",
    "def remainder(a, b):\n",
    "    if min(a, b) != 0: return max(a, b) % min(a, b)"
   ]
  },
  {
   "cell_type": "code",
   "execution_count": null,
   "metadata": {},
   "outputs": [],
   "source": [
    "def sort_gift_code(code):\n",
    "    return \"\".join(sorted(code))"
   ]
  }
 ],
 "metadata": {
  "kernelspec": {
   "display_name": "base",
   "language": "python",
   "name": "python3"
  },
  "language_info": {
   "codemirror_mode": {
    "name": "ipython",
    "version": 3
   },
   "file_extension": ".py",
   "mimetype": "text/x-python",
   "name": "python",
   "nbconvert_exporter": "python",
   "pygments_lexer": "ipython3",
   "version": "3.12.3"
  }
 },
 "nbformat": 4,
 "nbformat_minor": 2
}
