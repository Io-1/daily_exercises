{
 "cells": [
  {
   "cell_type": "markdown",
   "metadata": {},
   "source": [
    "![](../docs/banner.png)"
   ]
  },
  {
   "cell_type": "markdown",
   "metadata": {},
   "source": [
    "# Basic Wrangling With Pandas\n",
    "\n",
    "**Tomas Beuzen, September 2020**"
   ]
  },
  {
   "cell_type": "markdown",
   "metadata": {},
   "source": [
    "These exercises complement [Chapter 8](../chapters/chapter8-wrangling-basics.ipynb)."
   ]
  },
  {
   "cell_type": "markdown",
   "metadata": {},
   "source": [
    "## Exercises"
   ]
  },
  {
   "cell_type": "markdown",
   "metadata": {},
   "source": [
    "### 1."
   ]
  },
  {
   "cell_type": "markdown",
   "metadata": {},
   "source": [
    "In this set of practice exercises we'll be again looking at the dataset of consumption and carbon footprints of different foods that we looked at in the last set of practice exercises, which was compiled by [Kasia Kulma](https://r-tastic.co.uk/post/from-messy-to-tidy/) and contributed to [R's Tidy Tuesday project](https://github.com/rfordatascience/tidytuesday).\n",
    "\n",
    "Let's start by importing pandas with the alias `pd`."
   ]
  },
  {
   "cell_type": "code",
   "execution_count": 1,
   "metadata": {},
   "outputs": [],
   "source": [
    "import pandas as pd"
   ]
  },
  {
   "cell_type": "markdown",
   "metadata": {},
   "source": [
    "### 2."
   ]
  },
  {
   "cell_type": "markdown",
   "metadata": {},
   "source": [
    "As a reminder, the dataset has the following columns:\n",
    "\n",
    "|column      |description |\n",
    "|:-------------|:-----------|\n",
    "|country       | Country Name |\n",
    "|food_category | Food Category |\n",
    "|consumption   | Consumption (kg/person/year) |\n",
    "|co2_emmission | Co2 Emission (Kg CO2/person/year) |\n",
    "\n",
    "\n",
    "Import the dataset as a dataframe named `df` from this url: <https://raw.githubusercontent.com/rfordatascience/tidytuesday/master/data/2020/2020-02-18/food_consumption.csv>"
   ]
  },
  {
   "cell_type": "code",
   "execution_count": 2,
   "metadata": {},
   "outputs": [],
   "source": [
    "df = pd.read_csv(\"https://raw.githubusercontent.com/rfordatascience/tidytuesday/master/data/2020/2020-02-18/food_consumption.csv\")"
   ]
  },
  {
   "cell_type": "markdown",
   "metadata": {},
   "source": [
    "### 3."
   ]
  },
  {
   "cell_type": "markdown",
   "metadata": {},
   "source": [
    "What country consumes the most food per person per year (across all food categories)?"
   ]
  },
  {
   "cell_type": "code",
   "execution_count": 3,
   "metadata": {},
   "outputs": [
    {
     "data": {
      "text/plain": [
       "'Finland'"
      ]
     },
     "execution_count": 3,
     "metadata": {},
     "output_type": "execute_result"
    }
   ],
   "source": [
    "s = df.groupby(by=\"country\")[\"consumption\"].sum()\n",
    "top = s.idxmax()\n",
    "top"
   ]
  },
  {
   "cell_type": "markdown",
   "metadata": {},
   "source": [
    "### 4."
   ]
  },
  {
   "cell_type": "markdown",
   "metadata": {},
   "source": [
    "Which food category is the biggest contributor to the above country's consumption total?"
   ]
  },
  {
   "cell_type": "code",
   "execution_count": 4,
   "metadata": {},
   "outputs": [
    {
     "data": {
      "text/plain": [
       "'Milk - inc. cheese'"
      ]
     },
     "execution_count": 4,
     "metadata": {},
     "output_type": "execute_result"
    }
   ],
   "source": [
    "idx = df.loc[df[\"country\"].eq(top), \"consumption\"].idxmax()\n",
    "top_category = df.loc[idx, \"food_category\"]\n",
    "top_category"
   ]
  },
  {
   "cell_type": "markdown",
   "metadata": {},
   "source": [
    "### 5."
   ]
  },
  {
   "cell_type": "markdown",
   "metadata": {},
   "source": [
    "What country produces the most kg C02 per person per year?"
   ]
  },
  {
   "cell_type": "code",
   "execution_count": 5,
   "metadata": {},
   "outputs": [
    {
     "data": {
      "text/plain": [
       "'Argentina'"
      ]
     },
     "execution_count": 5,
     "metadata": {},
     "output_type": "execute_result"
    }
   ],
   "source": [
    "s = df.groupby(\"country\")[\"co2_emmission\"].sum()\n",
    "top = s.idxmax()\n",
    "top"
   ]
  },
  {
   "cell_type": "markdown",
   "metadata": {},
   "source": [
    "### 6."
   ]
  },
  {
   "cell_type": "markdown",
   "metadata": {},
   "source": [
    "Which food category is the biggest contributor to the above country's C02 emissions?"
   ]
  },
  {
   "cell_type": "code",
   "execution_count": 6,
   "metadata": {},
   "outputs": [
    {
     "data": {
      "text/plain": [
       "'Beef'"
      ]
     },
     "execution_count": 6,
     "metadata": {},
     "output_type": "execute_result"
    }
   ],
   "source": [
    "idx = df.loc[df[\"country\"].eq(top), \"co2_emmission\"].idxmax()\n",
    "top_category = df.loc[idx, \"food_category\"]\n",
    "top_category"
   ]
  },
  {
   "cell_type": "markdown",
   "metadata": {},
   "source": [
    "### 7."
   ]
  },
  {
   "cell_type": "markdown",
   "metadata": {},
   "source": [
    "What food category produces the most C02 per person per year across all countries?"
   ]
  },
  {
   "cell_type": "code",
   "execution_count": 7,
   "metadata": {},
   "outputs": [
    {
     "data": {
      "text/plain": [
       "'Beef'"
      ]
     },
     "execution_count": 7,
     "metadata": {},
     "output_type": "execute_result"
    }
   ],
   "source": [
    "\n",
    "s = df.groupby(\"food_category\")[\"co2_emmission\"].sum()\n",
    "top_category = s.idxmax()\n",
    "top_category"
   ]
  },
  {
   "cell_type": "markdown",
   "metadata": {},
   "source": [
    "### 8."
   ]
  },
  {
   "cell_type": "markdown",
   "metadata": {},
   "source": [
    "What food category is consumed the most across all countries per person per year? What food category is consumed the least across all countries?"
   ]
  },
  {
   "cell_type": "code",
   "execution_count": 9,
   "metadata": {},
   "outputs": [
    {
     "name": "stdout",
     "output_type": "stream",
     "text": [
      "Milk - inc. cheese\n",
      "Soybeans\n"
     ]
    }
   ],
   "source": [
    "s = df.groupby(\"food_category\")[\"consumption\"].sum()\n",
    "top_category = s.idxmax()\n",
    "print(top_category)\n",
    "\n",
    "bot_category = s.idxmin()\n",
    "print(bot_category)"
   ]
  },
  {
   "cell_type": "markdown",
   "metadata": {},
   "source": [
    "### 9."
   ]
  },
  {
   "cell_type": "markdown",
   "metadata": {},
   "source": [
    "Make the dataset wide by pivoting on the `food_category` column. You'll end up with a \"multi-index\" dataframe, with multiple levels of columns."
   ]
  },
  {
   "cell_type": "code",
   "execution_count": 14,
   "metadata": {},
   "outputs": [
    {
     "data": {
      "text/plain": [
       "Index(['country', 'food_category', 'consumption', 'co2_emmission'], dtype='object')"
      ]
     },
     "execution_count": 14,
     "metadata": {},
     "output_type": "execute_result"
    }
   ],
   "source": [
    "df.columns"
   ]
  },
  {
   "cell_type": "code",
   "execution_count": 35,
   "metadata": {},
   "outputs": [],
   "source": [
    "df_wide = (\n",
    "    df.melt(\n",
    "    id_vars=[\"country\", \"food_category\"],\n",
    "    value_vars=[\"co2_emmission\",\"consumption\"],\n",
    "    var_name=\"type\",\n",
    "    value_name=\"value\"\n",
    "        )\n",
    "    .pivot_table(\n",
    "        index=\"country\",\n",
    "        columns=[\"type\", \"food_category\"],\n",
    "        values=\"value\")\n",
    ")"
   ]
  },
  {
   "cell_type": "markdown",
   "metadata": {},
   "source": [
    "### 10."
   ]
  },
  {
   "cell_type": "markdown",
   "metadata": {},
   "source": [
    "Now that the dataset is wide, I want you to answer the same question from Question 5 above: \"What country produces the most kg C02 per person per year?\". Specifically, I want you to notice that the way we answer the same data analysis question changes depending on the format of the data (wide vs long). You can form your own opinion on which option you prefer - I prefer long data (and remember that many visualization libraries work best with long data too - more on that in DSCI 531). *Hint*: you can index the outer layer of a multi-index column using the same syntax we've seen previously: `df['co2_emmission']`, if you wanted to access an inner index, you'd have to use a tuple: `df[(\"consumption\", \"Beef\")]`. Read more on multi-indexes (also called \"hierarchical indexes\") in [Chapter 9](../chapters/chapter9-wrangling-advanced.ipynb)."
   ]
  },
  {
   "cell_type": "code",
   "execution_count": 41,
   "metadata": {},
   "outputs": [
    {
     "data": {
      "application/vnd.microsoft.datawrangler.viewer.v0+json": {
       "columns": [
        {
         "name": "country",
         "rawType": "object",
         "type": "string"
        },
        {
         "name": "0",
         "rawType": "float64",
         "type": "float"
        }
       ],
       "ref": "4f30b161-ecad-4c64-9b69-d2ea3a039d2f",
       "rows": [
        [
         "Argentina",
         "2172.3999999999996"
        ]
       ],
       "shape": {
        "columns": 1,
        "rows": 1
       }
      },
      "text/plain": [
       "country\n",
       "Argentina    2172.4\n",
       "dtype: float64"
      ]
     },
     "execution_count": 41,
     "metadata": {},
     "output_type": "execute_result"
    }
   ],
   "source": [
    "df_wide['co2_emmission'].sum(axis=1).sort_values().tail(1)"
   ]
  },
  {
   "cell_type": "markdown",
   "metadata": {},
   "source": [
    "<hr>\n",
    "<hr>\n",
    "<hr>"
   ]
  },
  {
   "cell_type": "markdown",
   "metadata": {},
   "source": [
    "## Solutions"
   ]
  },
  {
   "cell_type": "markdown",
   "metadata": {},
   "source": [
    "### 1."
   ]
  },
  {
   "cell_type": "markdown",
   "metadata": {},
   "source": [
    "In this set of practice exercises we'll be again looking at the dataset of consumption and carbon footprints of different foods that we looked at in the last set of practice exercises, which was compiled by [Kasia Kulma](https://r-tastic.co.uk/post/from-messy-to-tidy/) and contributed to [R's Tidy Tuesday project](https://github.com/rfordatascience/tidytuesday).\n",
    "\n",
    "Let's start by importing pandas with the alias `pd`."
   ]
  },
  {
   "cell_type": "code",
   "execution_count": 11,
   "metadata": {},
   "outputs": [],
   "source": [
    "import pandas as pd"
   ]
  },
  {
   "cell_type": "markdown",
   "metadata": {},
   "source": [
    "### 2."
   ]
  },
  {
   "cell_type": "markdown",
   "metadata": {},
   "source": [
    "As a reminder, the dataset has the following columns:\n",
    "\n",
    "|column      |description |\n",
    "|:-------------|:-----------|\n",
    "|country       | Country Name |\n",
    "|food_category | Food Category |\n",
    "|consumption   | Consumption (kg/person/year) |\n",
    "|co2_emmission | Co2 Emission (Kg CO2/person/year) |\n",
    "\n",
    "\n",
    "Import the dataset as a dataframe named `df` from this url: <https://raw.githubusercontent.com/rfordatascience/tidytuesday/master/data/2020/2020-02-18/food_consumption.csv>"
   ]
  },
  {
   "cell_type": "code",
   "execution_count": 12,
   "metadata": {},
   "outputs": [
    {
     "data": {
      "text/html": [
       "<div>\n",
       "<style scoped>\n",
       "    .dataframe tbody tr th:only-of-type {\n",
       "        vertical-align: middle;\n",
       "    }\n",
       "\n",
       "    .dataframe tbody tr th {\n",
       "        vertical-align: top;\n",
       "    }\n",
       "\n",
       "    .dataframe thead th {\n",
       "        text-align: right;\n",
       "    }\n",
       "</style>\n",
       "<table border=\"1\" class=\"dataframe\">\n",
       "  <thead>\n",
       "    <tr style=\"text-align: right;\">\n",
       "      <th></th>\n",
       "      <th>country</th>\n",
       "      <th>food_category</th>\n",
       "      <th>consumption</th>\n",
       "      <th>co2_emmission</th>\n",
       "    </tr>\n",
       "  </thead>\n",
       "  <tbody>\n",
       "    <tr>\n",
       "      <th>0</th>\n",
       "      <td>Argentina</td>\n",
       "      <td>Pork</td>\n",
       "      <td>10.51</td>\n",
       "      <td>37.20</td>\n",
       "    </tr>\n",
       "    <tr>\n",
       "      <th>1</th>\n",
       "      <td>Argentina</td>\n",
       "      <td>Poultry</td>\n",
       "      <td>38.66</td>\n",
       "      <td>41.53</td>\n",
       "    </tr>\n",
       "    <tr>\n",
       "      <th>2</th>\n",
       "      <td>Argentina</td>\n",
       "      <td>Beef</td>\n",
       "      <td>55.48</td>\n",
       "      <td>1712.00</td>\n",
       "    </tr>\n",
       "    <tr>\n",
       "      <th>3</th>\n",
       "      <td>Argentina</td>\n",
       "      <td>Lamb &amp; Goat</td>\n",
       "      <td>1.56</td>\n",
       "      <td>54.63</td>\n",
       "    </tr>\n",
       "    <tr>\n",
       "      <th>4</th>\n",
       "      <td>Argentina</td>\n",
       "      <td>Fish</td>\n",
       "      <td>4.36</td>\n",
       "      <td>6.96</td>\n",
       "    </tr>\n",
       "    <tr>\n",
       "      <th>...</th>\n",
       "      <td>...</td>\n",
       "      <td>...</td>\n",
       "      <td>...</td>\n",
       "      <td>...</td>\n",
       "    </tr>\n",
       "    <tr>\n",
       "      <th>1425</th>\n",
       "      <td>Bangladesh</td>\n",
       "      <td>Milk - inc. cheese</td>\n",
       "      <td>21.91</td>\n",
       "      <td>31.21</td>\n",
       "    </tr>\n",
       "    <tr>\n",
       "      <th>1426</th>\n",
       "      <td>Bangladesh</td>\n",
       "      <td>Wheat and Wheat Products</td>\n",
       "      <td>17.47</td>\n",
       "      <td>3.33</td>\n",
       "    </tr>\n",
       "    <tr>\n",
       "      <th>1427</th>\n",
       "      <td>Bangladesh</td>\n",
       "      <td>Rice</td>\n",
       "      <td>171.73</td>\n",
       "      <td>219.76</td>\n",
       "    </tr>\n",
       "    <tr>\n",
       "      <th>1428</th>\n",
       "      <td>Bangladesh</td>\n",
       "      <td>Soybeans</td>\n",
       "      <td>0.61</td>\n",
       "      <td>0.27</td>\n",
       "    </tr>\n",
       "    <tr>\n",
       "      <th>1429</th>\n",
       "      <td>Bangladesh</td>\n",
       "      <td>Nuts inc. Peanut Butter</td>\n",
       "      <td>0.72</td>\n",
       "      <td>1.27</td>\n",
       "    </tr>\n",
       "  </tbody>\n",
       "</table>\n",
       "<p>1430 rows × 4 columns</p>\n",
       "</div>"
      ],
      "text/plain": [
       "         country             food_category  consumption  co2_emmission\n",
       "0      Argentina                      Pork        10.51          37.20\n",
       "1      Argentina                   Poultry        38.66          41.53\n",
       "2      Argentina                      Beef        55.48        1712.00\n",
       "3      Argentina               Lamb & Goat         1.56          54.63\n",
       "4      Argentina                      Fish         4.36           6.96\n",
       "...          ...                       ...          ...            ...\n",
       "1425  Bangladesh        Milk - inc. cheese        21.91          31.21\n",
       "1426  Bangladesh  Wheat and Wheat Products        17.47           3.33\n",
       "1427  Bangladesh                      Rice       171.73         219.76\n",
       "1428  Bangladesh                  Soybeans         0.61           0.27\n",
       "1429  Bangladesh   Nuts inc. Peanut Butter         0.72           1.27\n",
       "\n",
       "[1430 rows x 4 columns]"
      ]
     },
     "execution_count": 12,
     "metadata": {},
     "output_type": "execute_result"
    }
   ],
   "source": [
    "url = \"https://raw.githubusercontent.com/rfordatascience/tidytuesday/master/data/2020/2020-02-18/food_consumption.csv\"\n",
    "df = pd.read_csv(url)\n",
    "df"
   ]
  },
  {
   "cell_type": "markdown",
   "metadata": {},
   "source": [
    "### 3."
   ]
  },
  {
   "cell_type": "markdown",
   "metadata": {},
   "source": [
    "What country consumes the most food per person per year (across all food categories)?"
   ]
  },
  {
   "cell_type": "code",
   "execution_count": 13,
   "metadata": {},
   "outputs": [
    {
     "data": {
      "text/html": [
       "<div>\n",
       "<style scoped>\n",
       "    .dataframe tbody tr th:only-of-type {\n",
       "        vertical-align: middle;\n",
       "    }\n",
       "\n",
       "    .dataframe tbody tr th {\n",
       "        vertical-align: top;\n",
       "    }\n",
       "\n",
       "    .dataframe thead th {\n",
       "        text-align: right;\n",
       "    }\n",
       "</style>\n",
       "<table border=\"1\" class=\"dataframe\">\n",
       "  <thead>\n",
       "    <tr style=\"text-align: right;\">\n",
       "      <th></th>\n",
       "      <th>consumption</th>\n",
       "      <th>co2_emmission</th>\n",
       "    </tr>\n",
       "    <tr>\n",
       "      <th>country</th>\n",
       "      <th></th>\n",
       "      <th></th>\n",
       "    </tr>\n",
       "  </thead>\n",
       "  <tbody>\n",
       "    <tr>\n",
       "      <th>Finland</th>\n",
       "      <td>639.79</td>\n",
       "      <td>1464.63</td>\n",
       "    </tr>\n",
       "  </tbody>\n",
       "</table>\n",
       "</div>"
      ],
      "text/plain": [
       "         consumption  co2_emmission\n",
       "country                            \n",
       "Finland       639.79        1464.63"
      ]
     },
     "execution_count": 13,
     "metadata": {},
     "output_type": "execute_result"
    }
   ],
   "source": [
    "df.groupby(\"country\").sum().sort_values(by=\"consumption\").tail(1)"
   ]
  },
  {
   "cell_type": "markdown",
   "metadata": {},
   "source": [
    "### 4."
   ]
  },
  {
   "cell_type": "markdown",
   "metadata": {},
   "source": [
    "Which food category is the biggest contributor to the above country's consumption total?"
   ]
  },
  {
   "cell_type": "code",
   "execution_count": 14,
   "metadata": {},
   "outputs": [
    {
     "data": {
      "text/html": [
       "<div>\n",
       "<style scoped>\n",
       "    .dataframe tbody tr th:only-of-type {\n",
       "        vertical-align: middle;\n",
       "    }\n",
       "\n",
       "    .dataframe tbody tr th {\n",
       "        vertical-align: top;\n",
       "    }\n",
       "\n",
       "    .dataframe thead th {\n",
       "        text-align: right;\n",
       "    }\n",
       "</style>\n",
       "<table border=\"1\" class=\"dataframe\">\n",
       "  <thead>\n",
       "    <tr style=\"text-align: right;\">\n",
       "      <th></th>\n",
       "      <th>country</th>\n",
       "      <th>food_category</th>\n",
       "      <th>consumption</th>\n",
       "      <th>co2_emmission</th>\n",
       "    </tr>\n",
       "  </thead>\n",
       "  <tbody>\n",
       "    <tr>\n",
       "      <th>149</th>\n",
       "      <td>Finland</td>\n",
       "      <td>Milk - inc. cheese</td>\n",
       "      <td>430.76</td>\n",
       "      <td>613.57</td>\n",
       "    </tr>\n",
       "  </tbody>\n",
       "</table>\n",
       "</div>"
      ],
      "text/plain": [
       "     country       food_category  consumption  co2_emmission\n",
       "149  Finland  Milk - inc. cheese       430.76         613.57"
      ]
     },
     "execution_count": 14,
     "metadata": {},
     "output_type": "execute_result"
    }
   ],
   "source": [
    "df.query(\"country == 'Finland'\").sort_values(by=\"consumption\").tail(1)"
   ]
  },
  {
   "cell_type": "markdown",
   "metadata": {},
   "source": [
    "### 5."
   ]
  },
  {
   "cell_type": "markdown",
   "metadata": {},
   "source": [
    "What country produces the most kg C02 per person per year?"
   ]
  },
  {
   "cell_type": "code",
   "execution_count": 15,
   "metadata": {},
   "outputs": [
    {
     "data": {
      "text/html": [
       "<div>\n",
       "<style scoped>\n",
       "    .dataframe tbody tr th:only-of-type {\n",
       "        vertical-align: middle;\n",
       "    }\n",
       "\n",
       "    .dataframe tbody tr th {\n",
       "        vertical-align: top;\n",
       "    }\n",
       "\n",
       "    .dataframe thead th {\n",
       "        text-align: right;\n",
       "    }\n",
       "</style>\n",
       "<table border=\"1\" class=\"dataframe\">\n",
       "  <thead>\n",
       "    <tr style=\"text-align: right;\">\n",
       "      <th></th>\n",
       "      <th>consumption</th>\n",
       "      <th>co2_emmission</th>\n",
       "    </tr>\n",
       "    <tr>\n",
       "      <th>country</th>\n",
       "      <th></th>\n",
       "      <th></th>\n",
       "    </tr>\n",
       "  </thead>\n",
       "  <tbody>\n",
       "    <tr>\n",
       "      <th>Argentina</th>\n",
       "      <td>429.41</td>\n",
       "      <td>2172.4</td>\n",
       "    </tr>\n",
       "  </tbody>\n",
       "</table>\n",
       "</div>"
      ],
      "text/plain": [
       "           consumption  co2_emmission\n",
       "country                              \n",
       "Argentina       429.41         2172.4"
      ]
     },
     "execution_count": 15,
     "metadata": {},
     "output_type": "execute_result"
    }
   ],
   "source": [
    "df.groupby(\"country\").sum().sort_values(by=\"co2_emmission\").tail(1)"
   ]
  },
  {
   "cell_type": "markdown",
   "metadata": {},
   "source": [
    "### 6."
   ]
  },
  {
   "cell_type": "markdown",
   "metadata": {},
   "source": [
    "Which food category is the biggest contributor to the above country's C02 emissions?"
   ]
  },
  {
   "cell_type": "code",
   "execution_count": 16,
   "metadata": {},
   "outputs": [
    {
     "data": {
      "text/html": [
       "<div>\n",
       "<style scoped>\n",
       "    .dataframe tbody tr th:only-of-type {\n",
       "        vertical-align: middle;\n",
       "    }\n",
       "\n",
       "    .dataframe tbody tr th {\n",
       "        vertical-align: top;\n",
       "    }\n",
       "\n",
       "    .dataframe thead th {\n",
       "        text-align: right;\n",
       "    }\n",
       "</style>\n",
       "<table border=\"1\" class=\"dataframe\">\n",
       "  <thead>\n",
       "    <tr style=\"text-align: right;\">\n",
       "      <th></th>\n",
       "      <th>country</th>\n",
       "      <th>food_category</th>\n",
       "      <th>consumption</th>\n",
       "      <th>co2_emmission</th>\n",
       "    </tr>\n",
       "  </thead>\n",
       "  <tbody>\n",
       "    <tr>\n",
       "      <th>2</th>\n",
       "      <td>Argentina</td>\n",
       "      <td>Beef</td>\n",
       "      <td>55.48</td>\n",
       "      <td>1712.0</td>\n",
       "    </tr>\n",
       "  </tbody>\n",
       "</table>\n",
       "</div>"
      ],
      "text/plain": [
       "     country food_category  consumption  co2_emmission\n",
       "2  Argentina          Beef        55.48         1712.0"
      ]
     },
     "execution_count": 16,
     "metadata": {},
     "output_type": "execute_result"
    }
   ],
   "source": [
    "df.query(\"country == 'Argentina'\").sort_values(by=\"co2_emmission\").tail(1)"
   ]
  },
  {
   "cell_type": "markdown",
   "metadata": {},
   "source": [
    "### 7."
   ]
  },
  {
   "cell_type": "markdown",
   "metadata": {},
   "source": [
    "What food category produces the most C02 per person per year across all countries?"
   ]
  },
  {
   "cell_type": "code",
   "execution_count": 17,
   "metadata": {},
   "outputs": [
    {
     "data": {
      "text/html": [
       "<div>\n",
       "<style scoped>\n",
       "    .dataframe tbody tr th:only-of-type {\n",
       "        vertical-align: middle;\n",
       "    }\n",
       "\n",
       "    .dataframe tbody tr th {\n",
       "        vertical-align: top;\n",
       "    }\n",
       "\n",
       "    .dataframe thead th {\n",
       "        text-align: right;\n",
       "    }\n",
       "</style>\n",
       "<table border=\"1\" class=\"dataframe\">\n",
       "  <thead>\n",
       "    <tr style=\"text-align: right;\">\n",
       "      <th></th>\n",
       "      <th>consumption</th>\n",
       "      <th>co2_emmission</th>\n",
       "    </tr>\n",
       "    <tr>\n",
       "      <th>food_category</th>\n",
       "      <th></th>\n",
       "      <th></th>\n",
       "    </tr>\n",
       "  </thead>\n",
       "  <tbody>\n",
       "    <tr>\n",
       "      <th>Beef</th>\n",
       "      <td>1576.04</td>\n",
       "      <td>48633.26</td>\n",
       "    </tr>\n",
       "    <tr>\n",
       "      <th>Milk - inc. cheese</th>\n",
       "      <td>16350.71</td>\n",
       "      <td>23290.00</td>\n",
       "    </tr>\n",
       "    <tr>\n",
       "      <th>Lamb &amp; Goat</th>\n",
       "      <td>338.02</td>\n",
       "      <td>11837.38</td>\n",
       "    </tr>\n",
       "    <tr>\n",
       "      <th>Pork</th>\n",
       "      <td>2096.08</td>\n",
       "      <td>7419.11</td>\n",
       "    </tr>\n",
       "    <tr>\n",
       "      <th>Rice</th>\n",
       "      <td>3818.77</td>\n",
       "      <td>4886.91</td>\n",
       "    </tr>\n",
       "    <tr>\n",
       "      <th>Fish</th>\n",
       "      <td>2247.32</td>\n",
       "      <td>3588.22</td>\n",
       "    </tr>\n",
       "    <tr>\n",
       "      <th>Poultry</th>\n",
       "      <td>2758.50</td>\n",
       "      <td>2963.16</td>\n",
       "    </tr>\n",
       "    <tr>\n",
       "      <th>Wheat and Wheat Products</th>\n",
       "      <td>9301.44</td>\n",
       "      <td>1773.78</td>\n",
       "    </tr>\n",
       "    <tr>\n",
       "      <th>Eggs</th>\n",
       "      <td>1061.29</td>\n",
       "      <td>974.95</td>\n",
       "    </tr>\n",
       "    <tr>\n",
       "      <th>Nuts inc. Peanut Butter</th>\n",
       "      <td>537.84</td>\n",
       "      <td>951.99</td>\n",
       "    </tr>\n",
       "    <tr>\n",
       "      <th>Soybeans</th>\n",
       "      <td>111.87</td>\n",
       "      <td>50.35</td>\n",
       "    </tr>\n",
       "  </tbody>\n",
       "</table>\n",
       "</div>"
      ],
      "text/plain": [
       "                          consumption  co2_emmission\n",
       "food_category                                       \n",
       "Beef                          1576.04       48633.26\n",
       "Milk - inc. cheese           16350.71       23290.00\n",
       "Lamb & Goat                    338.02       11837.38\n",
       "Pork                          2096.08        7419.11\n",
       "Rice                          3818.77        4886.91\n",
       "Fish                          2247.32        3588.22\n",
       "Poultry                       2758.50        2963.16\n",
       "Wheat and Wheat Products      9301.44        1773.78\n",
       "Eggs                          1061.29         974.95\n",
       "Nuts inc. Peanut Butter        537.84         951.99\n",
       "Soybeans                       111.87          50.35"
      ]
     },
     "execution_count": 17,
     "metadata": {},
     "output_type": "execute_result"
    }
   ],
   "source": [
    "df.groupby(\"food_category\").sum().sort_values(by=\"co2_emmission\", ascending=False)"
   ]
  },
  {
   "cell_type": "markdown",
   "metadata": {},
   "source": [
    "### 8."
   ]
  },
  {
   "cell_type": "markdown",
   "metadata": {},
   "source": [
    "What food category is consumed the most across all countries per person per year? What food category is consumed the least across all countries?"
   ]
  },
  {
   "cell_type": "code",
   "execution_count": 18,
   "metadata": {},
   "outputs": [
    {
     "name": "stdout",
     "output_type": "stream",
     "text": [
      "Most consumption:\n",
      "                    consumption  co2_emmission\n",
      "food_category                                 \n",
      "Milk - inc. cheese     16350.71        23290.0\n",
      "\n",
      "Least consumption:\n",
      "               consumption  co2_emmission\n",
      "food_category                            \n",
      "Soybeans            111.87          50.35\n"
     ]
    }
   ],
   "source": [
    "print(\"Most consumption:\")\n",
    "print(df.groupby(\"food_category\").sum().sort_values(by=\"consumption\", ascending=False).head(1))\n",
    "print(\"\")\n",
    "print(\"Least consumption:\")\n",
    "print(df.groupby(\"food_category\").sum().sort_values(by=\"consumption\", ascending=False).tail(1))"
   ]
  },
  {
   "cell_type": "markdown",
   "metadata": {},
   "source": [
    "### 9."
   ]
  },
  {
   "cell_type": "markdown",
   "metadata": {},
   "source": [
    "Make the dataset wide by pivoting on the `food_category` column. You'll end up with a \"multi-index\" dataframe, with multiple levels of columns."
   ]
  },
  {
   "cell_type": "code",
   "execution_count": 42,
   "metadata": {},
   "outputs": [
    {
     "data": {
      "application/vnd.microsoft.datawrangler.viewer.v0+json": {
       "columns": [
        {
         "name": "country",
         "rawType": "object",
         "type": "string"
        },
        {
         "name": "('consumption', 'Beef')",
         "rawType": "float64",
         "type": "float"
        },
        {
         "name": "('consumption', 'Eggs')",
         "rawType": "float64",
         "type": "float"
        },
        {
         "name": "('consumption', 'Fish')",
         "rawType": "float64",
         "type": "float"
        },
        {
         "name": "('consumption', 'Lamb & Goat')",
         "rawType": "float64",
         "type": "float"
        },
        {
         "name": "('consumption', 'Milk - inc. cheese')",
         "rawType": "float64",
         "type": "float"
        },
        {
         "name": "('consumption', 'Nuts inc. Peanut Butter')",
         "rawType": "float64",
         "type": "float"
        },
        {
         "name": "('consumption', 'Pork')",
         "rawType": "float64",
         "type": "float"
        },
        {
         "name": "('consumption', 'Poultry')",
         "rawType": "float64",
         "type": "float"
        },
        {
         "name": "('consumption', 'Rice')",
         "rawType": "float64",
         "type": "float"
        },
        {
         "name": "('consumption', 'Soybeans')",
         "rawType": "float64",
         "type": "float"
        },
        {
         "name": "('consumption', 'Wheat and Wheat Products')",
         "rawType": "float64",
         "type": "float"
        },
        {
         "name": "('co2_emmission', 'Beef')",
         "rawType": "float64",
         "type": "float"
        },
        {
         "name": "('co2_emmission', 'Eggs')",
         "rawType": "float64",
         "type": "float"
        },
        {
         "name": "('co2_emmission', 'Fish')",
         "rawType": "float64",
         "type": "float"
        },
        {
         "name": "('co2_emmission', 'Lamb & Goat')",
         "rawType": "float64",
         "type": "float"
        },
        {
         "name": "('co2_emmission', 'Milk - inc. cheese')",
         "rawType": "float64",
         "type": "float"
        },
        {
         "name": "('co2_emmission', 'Nuts inc. Peanut Butter')",
         "rawType": "float64",
         "type": "float"
        },
        {
         "name": "('co2_emmission', 'Pork')",
         "rawType": "float64",
         "type": "float"
        },
        {
         "name": "('co2_emmission', 'Poultry')",
         "rawType": "float64",
         "type": "float"
        },
        {
         "name": "('co2_emmission', 'Rice')",
         "rawType": "float64",
         "type": "float"
        },
        {
         "name": "('co2_emmission', 'Soybeans')",
         "rawType": "float64",
         "type": "float"
        },
        {
         "name": "('co2_emmission', 'Wheat and Wheat Products')",
         "rawType": "float64",
         "type": "float"
        }
       ],
       "ref": "2aa8322d-7cbf-437f-a77e-61a3649ddcec",
       "rows": [
        [
         "Albania",
         "22.5",
         "12.45",
         "3.85",
         "15.32",
         "303.72",
         "4.359999999999999",
         "10.88",
         "13.23",
         "7.78",
         "0.0",
         "138.64",
         "694.3",
         "11.44",
         "6.15",
         "536.5",
         "432.62",
         "7.72",
         "38.51",
         "14.21",
         "9.96",
         "0.0",
         "26.44"
        ],
        [
         "Algeria",
         "5.6",
         "8.06",
         "3.74",
         "7.689999999999999",
         "141.53",
         "2.08",
         "0.0",
         "7.42",
         "2.97",
         "0.0",
         "185.42",
         "172.8",
         "7.4",
         "5.970000000000001",
         "269.3",
         "201.6",
         "3.68",
         "0.0",
         "7.970000000000001",
         "3.8",
         "0.0",
         "35.36"
        ],
        [
         "Angola",
         "8.42",
         "1.11",
         "15.239999999999998",
         "1.08",
         "12.3",
         "2.26",
         "8.89",
         "17.330000000000002",
         "8.12",
         "0.52",
         "40.720000000000006",
         "259.82",
         "1.02",
         "24.33",
         "37.82",
         "17.52",
         "4.0",
         "31.47",
         "18.62",
         "10.39",
         "0.23",
         "7.77"
        ],
        [
         "Argentina",
         "55.48",
         "11.39",
         "4.359999999999999",
         "1.56",
         "195.08",
         "0.49",
         "10.51",
         "38.66",
         "8.77",
         "0.0",
         "103.11",
         "1712.0",
         "10.46",
         "6.96",
         "54.63",
         "277.87",
         "0.8700000000000001",
         "37.2",
         "41.53",
         "11.22",
         "0.0",
         "19.66"
        ],
        [
         "Armenia",
         "19.66",
         "11.69",
         "4.359999999999999",
         "3.02",
         "209.03",
         "2.55",
         "9.67",
         "13.35",
         "3.18",
         "0.0",
         "130.6",
         "606.6700000000001",
         "10.739999999999998",
         "6.96",
         "105.76",
         "297.74",
         "4.51",
         "34.230000000000004",
         "14.34",
         "4.07",
         "0.0",
         "24.91"
        ],
        [
         "Australia",
         "33.86",
         "8.51",
         "17.69",
         "9.87",
         "234.49",
         "8.729999999999999",
         "24.14",
         "46.120000000000005",
         "11.03",
         "0.19",
         "70.46000000000001",
         "1044.85",
         "7.819999999999999",
         "28.25",
         "345.65000000000003",
         "334.01",
         "15.45",
         "85.44000000000001",
         "49.54",
         "14.12",
         "0.09",
         "13.44"
        ],
        [
         "Austria",
         "17.14",
         "14.68",
         "12.16",
         "1.16",
         "258.09",
         "7.88",
         "52.56",
         "18.610000000000003",
         "3.7",
         "2.06",
         "81.1",
         "528.9",
         "13.49",
         "19.42",
         "40.620000000000005",
         "367.62",
         "13.95",
         "186.04",
         "19.99",
         "4.73",
         "0.93",
         "15.47"
        ],
        [
         "Bahamas",
         "19.92",
         "6.2",
         "18.8",
         "5.22",
         "104.76",
         "4.03",
         "32.74",
         "45.74",
         "23.97",
         "0.09",
         "39.98",
         "614.69",
         "5.7",
         "30.02",
         "182.8",
         "149.22",
         "7.13",
         "115.88",
         "49.13",
         "30.67",
         "0.04",
         "7.619999999999999"
        ],
        [
         "Bangladesh",
         "1.28",
         "2.08",
         "18.07",
         "1.33",
         "21.91",
         "0.72",
         "0.0",
         "1.4",
         "171.73",
         "0.61",
         "17.47",
         "39.5",
         "1.91",
         "28.85",
         "46.58",
         "31.21",
         "1.27",
         "0.0",
         "1.5",
         "219.76",
         "0.27",
         "3.33"
        ],
        [
         "Barbados",
         "13.13",
         "9.61",
         "37.41",
         "4.08",
         "110.48",
         "4.159999999999999",
         "8.3",
         "42.620000000000005",
         "15.66",
         "0.1",
         "65.71000000000001",
         "405.16",
         "8.83",
         "59.73",
         "142.88000000000002",
         "157.37",
         "7.359999999999999",
         "29.38",
         "45.78",
         "20.04",
         "0.05",
         "12.53"
        ],
        [
         "Belarus",
         "17.110000000000003",
         "15.86",
         "15.75",
         "0.11",
         "133.73",
         "3.36",
         "40.37",
         "31.29",
         "3.17",
         "0.3",
         "60.48",
         "527.98",
         "14.57",
         "25.15",
         "3.85",
         "190.49",
         "5.95",
         "142.89",
         "33.61",
         "4.06",
         "0.14",
         "11.53"
        ],
        [
         "Belgium",
         "15.63",
         "12.59",
         "18.97",
         "1.32",
         "236.19",
         "7.319999999999999",
         "38.65",
         "12.2",
         "8.61",
         "0.07",
         "111.91",
         "482.31",
         "11.57",
         "30.29",
         "46.23",
         "336.42999999999995",
         "12.96",
         "136.8",
         "13.11",
         "11.02",
         "0.03",
         "21.34"
        ],
        [
         "Belize",
         "4.859999999999999",
         "4.85",
         "7.57",
         "0.14",
         "80.3",
         "5.58",
         "16.8",
         "28.31",
         "28.42",
         "1.88",
         "54.06",
         "149.97",
         "4.46",
         "12.09",
         "4.9",
         "114.38",
         "9.88",
         "59.46",
         "30.41",
         "36.37",
         "0.8500000000000001",
         "10.31"
        ],
        [
         "Bermuda",
         "33.15",
         "14.92",
         "33.220000000000006",
         "2.71",
         "95.56",
         "5.72",
         "28.24",
         "32.620000000000005",
         "5.38",
         "0.22",
         "54.88",
         "1022.94",
         "13.71",
         "53.04",
         "94.9",
         "136.12",
         "10.12",
         "99.96",
         "35.04",
         "6.88",
         "0.1",
         "10.47"
        ],
        [
         "Bolivia",
         "19.78",
         "5.18",
         "2.18",
         "1.72",
         "46.04",
         "9.16",
         "8.89",
         "34.309999999999995",
         "26.99",
         "0.01",
         "49.99",
         "610.37",
         "4.76",
         "3.48",
         "60.23",
         "65.58",
         "16.21",
         "31.47",
         "36.86",
         "34.54",
         "0.0",
         "9.53"
        ],
        [
         "Bosnia and Herzegovina",
         "9.12",
         "4.49",
         "4.06",
         "0.47",
         "174.03",
         "2.0",
         "9.38",
         "13.17",
         "1.88",
         "1.48",
         "93.56",
         "281.42",
         "4.119999999999999",
         "6.48",
         "16.459999999999997",
         "247.89",
         "3.54",
         "33.2",
         "14.15",
         "2.41",
         "0.6699999999999999",
         "17.84"
        ],
        [
         "Botswana",
         "7.85",
         "1.95",
         "3.98",
         "3.76",
         "117.74",
         "1.08",
         "0.74",
         "5.33",
         "7.06",
         "1.16",
         "38.2",
         "242.23",
         "1.79",
         "6.35",
         "131.67",
         "167.70999999999998",
         "1.91",
         "2.62",
         "5.73",
         "9.03",
         "0.52",
         "7.28"
        ],
        [
         "Brazil",
         "39.25",
         "8.98",
         "10.01",
         "0.62",
         "149.28",
         "0.6699999999999999",
         "12.6",
         "45.0",
         "32.13",
         "3.62",
         "53.0",
         "1211.1699999999998",
         "8.25",
         "15.98",
         "21.71",
         "212.63",
         "1.1900000000000002",
         "44.6",
         "48.34",
         "41.120000000000005",
         "1.63",
         "10.11"
        ],
        [
         "Bulgaria",
         "3.84",
         "8.360000000000001",
         "6.24",
         "1.63",
         "155.70999999999998",
         "2.26",
         "26.26",
         "20.68",
         "2.24",
         "0.04",
         "121.17",
         "118.49",
         "7.68",
         "9.96",
         "57.08",
         "221.79",
         "4.0",
         "92.95",
         "22.21",
         "2.87",
         "0.02",
         "23.110000000000003"
        ],
        [
         "Cambodia",
         "4.85",
         "1.37",
         "39.59",
         "0.0",
         "3.47",
         "1.25",
         "6.52",
         "1.84",
         "159.1",
         "4.33",
         "2.74",
         "149.66",
         "1.26",
         "63.21",
         "0.0",
         "4.94",
         "2.21",
         "23.08",
         "1.98",
         "203.6",
         "1.95",
         "0.52"
        ],
        [
         "Cameroon",
         "4.17",
         "0.4",
         "14.71",
         "1.4",
         "15.27",
         "9.29",
         "1.47",
         "3.29",
         "23.85",
         "0.64",
         "22.6",
         "128.68",
         "0.37",
         "23.49",
         "49.03",
         "21.75",
         "16.439999999999998",
         "5.2",
         "3.53",
         "30.52",
         "0.29",
         "4.31"
        ],
        [
         "Canada",
         "30.25",
         "12.95",
         "14.56",
         "0.97",
         "187.77",
         "8.01",
         "22.81",
         "36.68",
         "12.65",
         "0.94",
         "84.96000000000001",
         "933.45",
         "11.9",
         "23.25",
         "33.97",
         "267.46",
         "14.18",
         "80.74000000000001",
         "39.4",
         "16.19",
         "0.42",
         "16.2"
        ],
        [
         "Chile",
         "23.86",
         "9.97",
         "7.649999999999999",
         "0.42",
         "116.11",
         "2.22",
         "24.68",
         "36.52",
         "8.850000000000001",
         "0.04",
         "104.74",
         "736.2700000000001",
         "9.16",
         "12.21",
         "14.71",
         "165.39",
         "3.93",
         "87.35",
         "39.23",
         "11.33",
         "0.02",
         "19.97"
        ],
        [
         "China",
         "5.119999999999999",
         "18.76",
         "21.01",
         "3.13",
         "32.660000000000004",
         "6.39",
         "38.43",
         "13.2",
         "78.17999999999999",
         "3.66",
         "63.36",
         "157.99",
         "17.23",
         "33.55",
         "109.61",
         "46.52",
         "11.31",
         "136.02",
         "14.18",
         "100.05",
         "1.65",
         "12.08"
        ],
        [
         "Colombia",
         "16.36",
         "10.78",
         "6.01",
         "0.21",
         "108.47",
         "0.42",
         "6.51",
         "27.57",
         "28.02",
         "0.89",
         "29.79",
         "504.84",
         "9.9",
         "9.6",
         "7.35",
         "154.5",
         "0.74",
         "23.04",
         "29.62",
         "35.86",
         "0.4",
         "5.68"
        ],
        [
         "Congo",
         "4.35",
         "0.6",
         "26.22",
         "0.4",
         "10.69",
         "3.08",
         "2.39",
         "13.02",
         "16.51",
         "0.0",
         "40.07",
         "134.23",
         "0.55",
         "41.86",
         "14.01",
         "15.23",
         "5.45",
         "8.46",
         "13.99",
         "21.130000000000003",
         "0.0",
         "7.64"
        ],
        [
         "Costa Rica",
         "15.23",
         "10.55",
         "11.32",
         "0.02",
         "183.28",
         "1.38",
         "10.28",
         "24.47",
         "45.690000000000005",
         "1.54",
         "39.31",
         "469.97",
         "9.69",
         "18.07",
         "0.7",
         "261.06",
         "2.44",
         "36.39",
         "26.29",
         "58.47",
         "0.69",
         "7.5"
        ],
        [
         "Croatia",
         "12.41",
         "8.48",
         "15.83",
         "1.71",
         "231.02",
         "3.88",
         "42.790000000000006",
         "8.52",
         "2.64",
         "0.0",
         "106.59",
         "382.95",
         "7.79",
         "25.28",
         "59.88",
         "329.06",
         "6.87",
         "151.46",
         "9.15",
         "3.38",
         "0.0",
         "20.33"
        ],
        [
         "Cuba",
         "6.39",
         "9.82",
         "4.76",
         "1.24",
         "99.94",
         "0.23",
         "19.82",
         "20.15",
         "67.7",
         "6.34",
         "54.620000000000005",
         "197.18",
         "9.02",
         "7.6",
         "43.42",
         "142.35000000000002",
         "0.41",
         "70.14999999999999",
         "21.65",
         "86.64",
         "2.85",
         "10.42"
        ],
        [
         "Cyprus",
         "5.79",
         "8.98",
         "14.86",
         "5.05",
         "113.31",
         "4.6",
         "38.38",
         "24.45",
         "4.94",
         "0.04",
         "83.25",
         "178.67",
         "8.25",
         "23.73",
         "176.85000000000002",
         "161.4",
         "8.139999999999999",
         "135.85000000000002",
         "26.26",
         "6.319999999999999",
         "0.02",
         "15.88"
        ],
        [
         "Czech Republic",
         "8.15",
         "11.66",
         "8.25",
         "0.3399999999999999",
         "195.2",
         "2.47",
         "41.17",
         "19.09",
         "4.79",
         "0.8200000000000001",
         "92.67",
         "251.49",
         "10.71",
         "13.17",
         "11.91",
         "278.04",
         "4.37",
         "145.72",
         "20.51",
         "6.13",
         "0.37",
         "17.67"
        ],
        [
         "Denmark",
         "28.46",
         "15.35",
         "16.49",
         "0.92",
         "277.3",
         "5.94",
         "24.87",
         "26.75",
         "4.96",
         "0.03",
         "98.0",
         "878.22",
         "14.1",
         "26.33",
         "32.220000000000006",
         "394.99",
         "10.51",
         "88.03",
         "28.73",
         "6.35",
         "0.01",
         "18.69"
        ],
        [
         "Ecuador",
         "16.610000000000003",
         "8.01",
         "5.17",
         "0.44",
         "139.6",
         "0.98",
         "14.44",
         "21.85",
         "45.07",
         "0.0",
         "39.190000000000005",
         "512.55",
         "7.359999999999999",
         "8.25",
         "15.41",
         "198.85",
         "1.73",
         "51.11",
         "23.47",
         "57.68",
         "0.0",
         "7.470000000000001"
        ],
        [
         "Egypt",
         "12.88",
         "4.59",
         "21.46",
         "1.58",
         "59.46",
         "1.82",
         "0.02",
         "14.43",
         "39.77",
         "0.64",
         "146.83",
         "397.45",
         "4.22",
         "34.260000000000005",
         "55.33",
         "84.69",
         "3.22",
         "0.07",
         "15.5",
         "50.89",
         "0.29",
         "28.0"
        ],
        [
         "El Salvador",
         "5.95",
         "9.51",
         "6.25",
         "0.02",
         "124.34",
         "1.1",
         "3.23",
         "19.84",
         "10.53",
         "0.8",
         "28.19",
         "183.6",
         "8.739999999999998",
         "9.98",
         "0.7",
         "177.11",
         "1.95",
         "11.43",
         "21.31",
         "13.48",
         "0.36",
         "5.38"
        ],
        [
         "Estonia",
         "7.19",
         "12.66",
         "12.78",
         "0.44",
         "284.85",
         "4.29",
         "29.68",
         "21.110000000000003",
         "2.56",
         "0.04",
         "89.36",
         "221.87",
         "11.63",
         "20.41",
         "15.41",
         "405.74",
         "7.59",
         "105.05",
         "22.68",
         "3.28",
         "0.02",
         "17.04"
        ],
        [
         "Ethiopia",
         "3.61",
         "0.36",
         "0.24",
         "1.57",
         "44.14",
         "1.21",
         "0.02",
         "0.6599999999999999",
         "2.25",
         "0.45",
         "31.26",
         "111.4",
         "0.3299999999999999",
         "0.38",
         "54.98",
         "62.87",
         "2.14",
         "0.07",
         "0.71",
         "2.88",
         "0.2",
         "5.96"
        ],
        [
         "Fiji",
         "8.96",
         "6.44",
         "35.01",
         "5.9",
         "40.2",
         "1.3",
         "4.31",
         "20.26",
         "45.620000000000005",
         "0.3",
         "84.22",
         "276.48999999999995",
         "5.92",
         "55.9",
         "206.62",
         "57.260000000000005",
         "2.3",
         "15.26",
         "21.76",
         "58.38",
         "0.14",
         "16.06"
        ],
        [
         "Finland",
         "19.22",
         "9.55",
         "33.8",
         "0.53",
         "430.76",
         "3.43",
         "36.14",
         "19.87",
         "4.42",
         "0.08",
         "81.99000000000001",
         "593.09",
         "8.77",
         "53.97",
         "18.56",
         "613.57",
         "6.07",
         "127.92",
         "21.34",
         "5.659999999999999",
         "0.04",
         "15.64"
        ],
        [
         "France",
         "23.81",
         "13.13",
         "22.91",
         "3.28",
         "241.31",
         "5.39",
         "33.05",
         "22.93",
         "4.88",
         "0.05",
         "108.43",
         "734.73",
         "12.06",
         "36.58",
         "114.87",
         "343.72",
         "9.54",
         "116.98",
         "24.630000000000003",
         "6.24",
         "0.02",
         "20.68"
        ],
        [
         "French Polynesia",
         "30.9",
         "8.75",
         "38.95",
         "2.83",
         "93.56",
         "2.34",
         "14.75",
         "49.55",
         "35.59",
         "0.77",
         "68.66999999999999",
         "953.51",
         "8.04",
         "62.190000000000005",
         "99.11",
         "133.26999999999998",
         "4.14",
         "52.21",
         "53.23",
         "45.54",
         "0.35",
         "13.1"
        ],
        [
         "Gambia",
         "2.16",
         "0.99",
         "23.130000000000003",
         "0.71",
         "45.71",
         "5.2700000000000005",
         "0.18",
         "2.66",
         "61.84",
         "0.0",
         "37.91",
         "66.64999999999999",
         "0.91",
         "36.93",
         "24.86",
         "65.11",
         "9.33",
         "0.64",
         "2.86",
         "79.14",
         "0.0",
         "7.23"
        ],
        [
         "Georgia",
         "6.04",
         "6.119999999999999",
         "10.42",
         "0.63",
         "149.26",
         "2.47",
         "8.93",
         "12.28",
         "2.64",
         "0.0",
         "163.43",
         "186.38",
         "5.619999999999999",
         "16.64",
         "22.06",
         "212.61",
         "4.37",
         "31.610000000000003",
         "13.19",
         "3.38",
         "0.0",
         "31.17"
        ],
        [
         "Germany",
         "13.16",
         "12.2",
         "11.16",
         "0.73",
         "258.7",
         "7.96",
         "51.81",
         "17.75",
         "3.34",
         "0.88",
         "83.41000000000001",
         "406.09",
         "11.21",
         "17.82",
         "25.56",
         "368.49",
         "14.09",
         "183.38",
         "19.07",
         "4.2700000000000005",
         "0.4",
         "15.91"
        ],
        [
         "Ghana",
         "1.09",
         "1.21",
         "26.05",
         "1.74",
         "9.08",
         "5.56",
         "1.36",
         "8.629999999999999",
         "32.03",
         "0.01",
         "14.45",
         "33.64",
         "1.11",
         "41.59",
         "60.93",
         "12.93",
         "9.84",
         "4.81",
         "9.27",
         "40.99",
         "0.0",
         "2.76"
        ],
        [
         "Greece",
         "16.1",
         "10.13",
         "14.42",
         "12.47",
         "255.26",
         "10.5",
         "28.31",
         "15.739999999999998",
         "6.64",
         "0.02",
         "124.04",
         "496.81",
         "9.31",
         "23.02",
         "436.7",
         "363.59",
         "18.59",
         "100.2",
         "16.91",
         "8.5",
         "0.01",
         "23.65"
        ],
        [
         "Grenada",
         "3.46",
         "10.34",
         "27.95",
         "1.25",
         "86.88",
         "0.18",
         "11.52",
         "43.51",
         "9.56",
         "0.01",
         "59.59",
         "106.77",
         "9.5",
         "44.63",
         "43.77",
         "123.75",
         "0.32",
         "40.78",
         "46.74",
         "12.23",
         "0.0",
         "11.36"
        ],
        [
         "Guatemala",
         "5.6",
         "14.61",
         "1.08",
         "0.23",
         "46.6",
         "2.0",
         "4.85",
         "16.45",
         "5.659999999999999",
         "0.32",
         "35.9",
         "172.8",
         "13.42",
         "1.72",
         "8.05",
         "66.38",
         "3.54",
         "17.17",
         "17.67",
         "7.24",
         "0.14",
         "6.85"
        ],
        [
         "Guinea",
         "6.26",
         "1.95",
         "9.18",
         "1.6",
         "20.62",
         "4.14",
         "0.16",
         "1.83",
         "97.12",
         "0.0",
         "18.55",
         "193.17",
         "1.79",
         "14.66",
         "56.03",
         "29.37",
         "7.33",
         "0.5700000000000001",
         "1.97",
         "124.28",
         "0.0",
         "3.54"
        ],
        [
         "Honduras",
         "7.19",
         "5.19",
         "2.7",
         "0.04",
         "91.33",
         "0.75",
         "6.48",
         "20.29",
         "14.42",
         "0.01",
         "37.36",
         "221.87",
         "4.7700000000000005",
         "4.31",
         "1.4",
         "130.09",
         "1.33",
         "22.94",
         "21.8",
         "18.45",
         "0.0",
         "7.119999999999999"
        ]
       ],
       "shape": {
        "columns": 22,
        "rows": 130
       }
      },
      "text/html": [
       "<div>\n",
       "<style scoped>\n",
       "    .dataframe tbody tr th:only-of-type {\n",
       "        vertical-align: middle;\n",
       "    }\n",
       "\n",
       "    .dataframe tbody tr th {\n",
       "        vertical-align: top;\n",
       "    }\n",
       "\n",
       "    .dataframe thead tr th {\n",
       "        text-align: left;\n",
       "    }\n",
       "\n",
       "    .dataframe thead tr:last-of-type th {\n",
       "        text-align: right;\n",
       "    }\n",
       "</style>\n",
       "<table border=\"1\" class=\"dataframe\">\n",
       "  <thead>\n",
       "    <tr>\n",
       "      <th></th>\n",
       "      <th colspan=\"10\" halign=\"left\">consumption</th>\n",
       "      <th>...</th>\n",
       "      <th colspan=\"10\" halign=\"left\">co2_emmission</th>\n",
       "    </tr>\n",
       "    <tr>\n",
       "      <th>food_category</th>\n",
       "      <th>Beef</th>\n",
       "      <th>Eggs</th>\n",
       "      <th>Fish</th>\n",
       "      <th>Lamb &amp; Goat</th>\n",
       "      <th>Milk - inc. cheese</th>\n",
       "      <th>Nuts inc. Peanut Butter</th>\n",
       "      <th>Pork</th>\n",
       "      <th>Poultry</th>\n",
       "      <th>Rice</th>\n",
       "      <th>Soybeans</th>\n",
       "      <th>...</th>\n",
       "      <th>Eggs</th>\n",
       "      <th>Fish</th>\n",
       "      <th>Lamb &amp; Goat</th>\n",
       "      <th>Milk - inc. cheese</th>\n",
       "      <th>Nuts inc. Peanut Butter</th>\n",
       "      <th>Pork</th>\n",
       "      <th>Poultry</th>\n",
       "      <th>Rice</th>\n",
       "      <th>Soybeans</th>\n",
       "      <th>Wheat and Wheat Products</th>\n",
       "    </tr>\n",
       "    <tr>\n",
       "      <th>country</th>\n",
       "      <th></th>\n",
       "      <th></th>\n",
       "      <th></th>\n",
       "      <th></th>\n",
       "      <th></th>\n",
       "      <th></th>\n",
       "      <th></th>\n",
       "      <th></th>\n",
       "      <th></th>\n",
       "      <th></th>\n",
       "      <th></th>\n",
       "      <th></th>\n",
       "      <th></th>\n",
       "      <th></th>\n",
       "      <th></th>\n",
       "      <th></th>\n",
       "      <th></th>\n",
       "      <th></th>\n",
       "      <th></th>\n",
       "      <th></th>\n",
       "      <th></th>\n",
       "    </tr>\n",
       "  </thead>\n",
       "  <tbody>\n",
       "    <tr>\n",
       "      <th>Albania</th>\n",
       "      <td>22.50</td>\n",
       "      <td>12.45</td>\n",
       "      <td>3.85</td>\n",
       "      <td>15.32</td>\n",
       "      <td>303.72</td>\n",
       "      <td>4.36</td>\n",
       "      <td>10.88</td>\n",
       "      <td>13.23</td>\n",
       "      <td>7.78</td>\n",
       "      <td>0.00</td>\n",
       "      <td>...</td>\n",
       "      <td>11.44</td>\n",
       "      <td>6.15</td>\n",
       "      <td>536.50</td>\n",
       "      <td>432.62</td>\n",
       "      <td>7.72</td>\n",
       "      <td>38.51</td>\n",
       "      <td>14.21</td>\n",
       "      <td>9.96</td>\n",
       "      <td>0.00</td>\n",
       "      <td>26.44</td>\n",
       "    </tr>\n",
       "    <tr>\n",
       "      <th>Algeria</th>\n",
       "      <td>5.60</td>\n",
       "      <td>8.06</td>\n",
       "      <td>3.74</td>\n",
       "      <td>7.69</td>\n",
       "      <td>141.53</td>\n",
       "      <td>2.08</td>\n",
       "      <td>0.00</td>\n",
       "      <td>7.42</td>\n",
       "      <td>2.97</td>\n",
       "      <td>0.00</td>\n",
       "      <td>...</td>\n",
       "      <td>7.40</td>\n",
       "      <td>5.97</td>\n",
       "      <td>269.30</td>\n",
       "      <td>201.60</td>\n",
       "      <td>3.68</td>\n",
       "      <td>0.00</td>\n",
       "      <td>7.97</td>\n",
       "      <td>3.80</td>\n",
       "      <td>0.00</td>\n",
       "      <td>35.36</td>\n",
       "    </tr>\n",
       "    <tr>\n",
       "      <th>Angola</th>\n",
       "      <td>8.42</td>\n",
       "      <td>1.11</td>\n",
       "      <td>15.24</td>\n",
       "      <td>1.08</td>\n",
       "      <td>12.30</td>\n",
       "      <td>2.26</td>\n",
       "      <td>8.89</td>\n",
       "      <td>17.33</td>\n",
       "      <td>8.12</td>\n",
       "      <td>0.52</td>\n",
       "      <td>...</td>\n",
       "      <td>1.02</td>\n",
       "      <td>24.33</td>\n",
       "      <td>37.82</td>\n",
       "      <td>17.52</td>\n",
       "      <td>4.00</td>\n",
       "      <td>31.47</td>\n",
       "      <td>18.62</td>\n",
       "      <td>10.39</td>\n",
       "      <td>0.23</td>\n",
       "      <td>7.77</td>\n",
       "    </tr>\n",
       "    <tr>\n",
       "      <th>Argentina</th>\n",
       "      <td>55.48</td>\n",
       "      <td>11.39</td>\n",
       "      <td>4.36</td>\n",
       "      <td>1.56</td>\n",
       "      <td>195.08</td>\n",
       "      <td>0.49</td>\n",
       "      <td>10.51</td>\n",
       "      <td>38.66</td>\n",
       "      <td>8.77</td>\n",
       "      <td>0.00</td>\n",
       "      <td>...</td>\n",
       "      <td>10.46</td>\n",
       "      <td>6.96</td>\n",
       "      <td>54.63</td>\n",
       "      <td>277.87</td>\n",
       "      <td>0.87</td>\n",
       "      <td>37.20</td>\n",
       "      <td>41.53</td>\n",
       "      <td>11.22</td>\n",
       "      <td>0.00</td>\n",
       "      <td>19.66</td>\n",
       "    </tr>\n",
       "    <tr>\n",
       "      <th>Armenia</th>\n",
       "      <td>19.66</td>\n",
       "      <td>11.69</td>\n",
       "      <td>4.36</td>\n",
       "      <td>3.02</td>\n",
       "      <td>209.03</td>\n",
       "      <td>2.55</td>\n",
       "      <td>9.67</td>\n",
       "      <td>13.35</td>\n",
       "      <td>3.18</td>\n",
       "      <td>0.00</td>\n",
       "      <td>...</td>\n",
       "      <td>10.74</td>\n",
       "      <td>6.96</td>\n",
       "      <td>105.76</td>\n",
       "      <td>297.74</td>\n",
       "      <td>4.51</td>\n",
       "      <td>34.23</td>\n",
       "      <td>14.34</td>\n",
       "      <td>4.07</td>\n",
       "      <td>0.00</td>\n",
       "      <td>24.91</td>\n",
       "    </tr>\n",
       "    <tr>\n",
       "      <th>...</th>\n",
       "      <td>...</td>\n",
       "      <td>...</td>\n",
       "      <td>...</td>\n",
       "      <td>...</td>\n",
       "      <td>...</td>\n",
       "      <td>...</td>\n",
       "      <td>...</td>\n",
       "      <td>...</td>\n",
       "      <td>...</td>\n",
       "      <td>...</td>\n",
       "      <td>...</td>\n",
       "      <td>...</td>\n",
       "      <td>...</td>\n",
       "      <td>...</td>\n",
       "      <td>...</td>\n",
       "      <td>...</td>\n",
       "      <td>...</td>\n",
       "      <td>...</td>\n",
       "      <td>...</td>\n",
       "      <td>...</td>\n",
       "      <td>...</td>\n",
       "    </tr>\n",
       "    <tr>\n",
       "      <th>Uruguay</th>\n",
       "      <td>29.10</td>\n",
       "      <td>13.14</td>\n",
       "      <td>6.53</td>\n",
       "      <td>8.23</td>\n",
       "      <td>210.54</td>\n",
       "      <td>0.95</td>\n",
       "      <td>16.84</td>\n",
       "      <td>27.45</td>\n",
       "      <td>11.50</td>\n",
       "      <td>0.01</td>\n",
       "      <td>...</td>\n",
       "      <td>12.07</td>\n",
       "      <td>10.43</td>\n",
       "      <td>288.21</td>\n",
       "      <td>299.89</td>\n",
       "      <td>1.68</td>\n",
       "      <td>59.61</td>\n",
       "      <td>29.49</td>\n",
       "      <td>14.72</td>\n",
       "      <td>0.00</td>\n",
       "      <td>20.85</td>\n",
       "    </tr>\n",
       "    <tr>\n",
       "      <th>Venezuela</th>\n",
       "      <td>25.89</td>\n",
       "      <td>5.63</td>\n",
       "      <td>8.34</td>\n",
       "      <td>0.32</td>\n",
       "      <td>117.79</td>\n",
       "      <td>0.35</td>\n",
       "      <td>7.23</td>\n",
       "      <td>39.28</td>\n",
       "      <td>23.39</td>\n",
       "      <td>0.00</td>\n",
       "      <td>...</td>\n",
       "      <td>5.17</td>\n",
       "      <td>13.32</td>\n",
       "      <td>11.21</td>\n",
       "      <td>167.78</td>\n",
       "      <td>0.62</td>\n",
       "      <td>25.59</td>\n",
       "      <td>42.19</td>\n",
       "      <td>29.93</td>\n",
       "      <td>0.00</td>\n",
       "      <td>9.38</td>\n",
       "    </tr>\n",
       "    <tr>\n",
       "      <th>Vietnam</th>\n",
       "      <td>7.44</td>\n",
       "      <td>3.84</td>\n",
       "      <td>26.52</td>\n",
       "      <td>0.14</td>\n",
       "      <td>16.36</td>\n",
       "      <td>6.28</td>\n",
       "      <td>35.00</td>\n",
       "      <td>12.36</td>\n",
       "      <td>144.56</td>\n",
       "      <td>5.75</td>\n",
       "      <td>...</td>\n",
       "      <td>3.53</td>\n",
       "      <td>42.34</td>\n",
       "      <td>4.90</td>\n",
       "      <td>23.30</td>\n",
       "      <td>11.12</td>\n",
       "      <td>123.88</td>\n",
       "      <td>13.28</td>\n",
       "      <td>184.99</td>\n",
       "      <td>2.59</td>\n",
       "      <td>2.00</td>\n",
       "    </tr>\n",
       "    <tr>\n",
       "      <th>Zambia</th>\n",
       "      <td>4.76</td>\n",
       "      <td>3.32</td>\n",
       "      <td>6.20</td>\n",
       "      <td>0.68</td>\n",
       "      <td>9.71</td>\n",
       "      <td>5.04</td>\n",
       "      <td>1.66</td>\n",
       "      <td>3.29</td>\n",
       "      <td>3.05</td>\n",
       "      <td>7.30</td>\n",
       "      <td>...</td>\n",
       "      <td>3.05</td>\n",
       "      <td>9.90</td>\n",
       "      <td>23.81</td>\n",
       "      <td>13.83</td>\n",
       "      <td>8.92</td>\n",
       "      <td>5.88</td>\n",
       "      <td>3.53</td>\n",
       "      <td>3.90</td>\n",
       "      <td>3.29</td>\n",
       "      <td>2.31</td>\n",
       "    </tr>\n",
       "    <tr>\n",
       "      <th>Zimbabwe</th>\n",
       "      <td>7.37</td>\n",
       "      <td>1.75</td>\n",
       "      <td>2.80</td>\n",
       "      <td>0.96</td>\n",
       "      <td>31.90</td>\n",
       "      <td>2.22</td>\n",
       "      <td>2.65</td>\n",
       "      <td>4.97</td>\n",
       "      <td>10.09</td>\n",
       "      <td>0.54</td>\n",
       "      <td>...</td>\n",
       "      <td>1.61</td>\n",
       "      <td>4.47</td>\n",
       "      <td>33.62</td>\n",
       "      <td>45.44</td>\n",
       "      <td>3.93</td>\n",
       "      <td>9.38</td>\n",
       "      <td>5.34</td>\n",
       "      <td>12.91</td>\n",
       "      <td>0.24</td>\n",
       "      <td>5.97</td>\n",
       "    </tr>\n",
       "  </tbody>\n",
       "</table>\n",
       "<p>130 rows × 22 columns</p>\n",
       "</div>"
      ],
      "text/plain": [
       "              consumption                                               \\\n",
       "food_category        Beef   Eggs   Fish Lamb & Goat Milk - inc. cheese   \n",
       "country                                                                  \n",
       "Albania             22.50  12.45   3.85       15.32             303.72   \n",
       "Algeria              5.60   8.06   3.74        7.69             141.53   \n",
       "Angola               8.42   1.11  15.24        1.08              12.30   \n",
       "Argentina           55.48  11.39   4.36        1.56             195.08   \n",
       "Armenia             19.66  11.69   4.36        3.02             209.03   \n",
       "...                   ...    ...    ...         ...                ...   \n",
       "Uruguay             29.10  13.14   6.53        8.23             210.54   \n",
       "Venezuela           25.89   5.63   8.34        0.32             117.79   \n",
       "Vietnam              7.44   3.84  26.52        0.14              16.36   \n",
       "Zambia               4.76   3.32   6.20        0.68               9.71   \n",
       "Zimbabwe             7.37   1.75   2.80        0.96              31.90   \n",
       "\n",
       "                                                                       ...  \\\n",
       "food_category Nuts inc. Peanut Butter   Pork Poultry    Rice Soybeans  ...   \n",
       "country                                                                ...   \n",
       "Albania                          4.36  10.88   13.23    7.78     0.00  ...   \n",
       "Algeria                          2.08   0.00    7.42    2.97     0.00  ...   \n",
       "Angola                           2.26   8.89   17.33    8.12     0.52  ...   \n",
       "Argentina                        0.49  10.51   38.66    8.77     0.00  ...   \n",
       "Armenia                          2.55   9.67   13.35    3.18     0.00  ...   \n",
       "...                               ...    ...     ...     ...      ...  ...   \n",
       "Uruguay                          0.95  16.84   27.45   11.50     0.01  ...   \n",
       "Venezuela                        0.35   7.23   39.28   23.39     0.00  ...   \n",
       "Vietnam                          6.28  35.00   12.36  144.56     5.75  ...   \n",
       "Zambia                           5.04   1.66    3.29    3.05     7.30  ...   \n",
       "Zimbabwe                         2.22   2.65    4.97   10.09     0.54  ...   \n",
       "\n",
       "              co2_emmission                                        \\\n",
       "food_category          Eggs   Fish Lamb & Goat Milk - inc. cheese   \n",
       "country                                                             \n",
       "Albania               11.44   6.15      536.50             432.62   \n",
       "Algeria                7.40   5.97      269.30             201.60   \n",
       "Angola                 1.02  24.33       37.82              17.52   \n",
       "Argentina             10.46   6.96       54.63             277.87   \n",
       "Armenia               10.74   6.96      105.76             297.74   \n",
       "...                     ...    ...         ...                ...   \n",
       "Uruguay               12.07  10.43      288.21             299.89   \n",
       "Venezuela              5.17  13.32       11.21             167.78   \n",
       "Vietnam                3.53  42.34        4.90              23.30   \n",
       "Zambia                 3.05   9.90       23.81              13.83   \n",
       "Zimbabwe               1.61   4.47       33.62              45.44   \n",
       "\n",
       "                                                                        \\\n",
       "food_category Nuts inc. Peanut Butter    Pork Poultry    Rice Soybeans   \n",
       "country                                                                  \n",
       "Albania                          7.72   38.51   14.21    9.96     0.00   \n",
       "Algeria                          3.68    0.00    7.97    3.80     0.00   \n",
       "Angola                           4.00   31.47   18.62   10.39     0.23   \n",
       "Argentina                        0.87   37.20   41.53   11.22     0.00   \n",
       "Armenia                          4.51   34.23   14.34    4.07     0.00   \n",
       "...                               ...     ...     ...     ...      ...   \n",
       "Uruguay                          1.68   59.61   29.49   14.72     0.00   \n",
       "Venezuela                        0.62   25.59   42.19   29.93     0.00   \n",
       "Vietnam                         11.12  123.88   13.28  184.99     2.59   \n",
       "Zambia                           8.92    5.88    3.53    3.90     3.29   \n",
       "Zimbabwe                         3.93    9.38    5.34   12.91     0.24   \n",
       "\n",
       "                                        \n",
       "food_category Wheat and Wheat Products  \n",
       "country                                 \n",
       "Albania                          26.44  \n",
       "Algeria                          35.36  \n",
       "Angola                            7.77  \n",
       "Argentina                        19.66  \n",
       "Armenia                          24.91  \n",
       "...                                ...  \n",
       "Uruguay                          20.85  \n",
       "Venezuela                         9.38  \n",
       "Vietnam                           2.00  \n",
       "Zambia                            2.31  \n",
       "Zimbabwe                          5.97  \n",
       "\n",
       "[130 rows x 22 columns]"
      ]
     },
     "execution_count": 42,
     "metadata": {},
     "output_type": "execute_result"
    }
   ],
   "source": [
    "df = df.pivot(index='country', columns='food_category')\n",
    "df"
   ]
  },
  {
   "cell_type": "markdown",
   "metadata": {},
   "source": [
    "### 10."
   ]
  },
  {
   "cell_type": "markdown",
   "metadata": {},
   "source": [
    "Now that the dataset is wide, I want you to answer the same question from Question 5 above: \"What country produces the most kg C02 per person per year?\". Specifically, I want you to notice that the way we answer the same data analysis question changes depending on the format of the data (wide vs long). You can form your own opinion on which option you prefer - I prefer long data (and remember that many visualization libraries work best with long data too - more on that in DSCI 531). *Hint*: you can index the outer layer of a multi-index column using the same syntax we've seen previously: `df['co2_emmission']`, if you wanted to access an inner index, you'd have to use a tuple: `df[(\"consumption\", \"Beef\")]`. Read more on multi-indexes (also called \"hierarchical indexes\") in [Chapter 9](../chapters/chapter9-wrangling-advanced.ipynb)."
   ]
  },
  {
   "cell_type": "code",
   "execution_count": 43,
   "metadata": {},
   "outputs": [
    {
     "data": {
      "application/vnd.microsoft.datawrangler.viewer.v0+json": {
       "columns": [
        {
         "name": "country",
         "rawType": "object",
         "type": "string"
        },
        {
         "name": "0",
         "rawType": "float64",
         "type": "float"
        }
       ],
       "ref": "16d25c7d-2d63-4700-a670-5d81c6e7f38a",
       "rows": [
        [
         "Finland",
         "639.79"
        ]
       ],
       "shape": {
        "columns": 1,
        "rows": 1
       }
      },
      "text/plain": [
       "country\n",
       "Finland    639.79\n",
       "dtype: float64"
      ]
     },
     "execution_count": 43,
     "metadata": {},
     "output_type": "execute_result"
    }
   ],
   "source": [
    "df[\"consumption\"].sum(axis=1).sort_values().tail(1)"
   ]
  }
 ],
 "metadata": {
  "kernelspec": {
   "display_name": "base",
   "language": "python",
   "name": "python3"
  },
  "language_info": {
   "codemirror_mode": {
    "name": "ipython",
    "version": 3
   },
   "file_extension": ".py",
   "mimetype": "text/x-python",
   "name": "python",
   "nbconvert_exporter": "python",
   "pygments_lexer": "ipython3",
   "version": "3.12.3"
  }
 },
 "nbformat": 4,
 "nbformat_minor": 4
}
